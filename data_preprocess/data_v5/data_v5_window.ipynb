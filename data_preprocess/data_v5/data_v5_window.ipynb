{
 "cells": [
  {
   "cell_type": "code",
   "execution_count": 4,
   "metadata": {},
   "outputs": [
    {
     "name": "stdout",
     "output_type": "stream",
     "text": [
      "The autoreload extension is already loaded. To reload it, use:\n",
      "  %reload_ext autoreload\n"
     ]
    }
   ],
   "source": [
    "%load_ext autoreload\n",
    "%autoreload 2"
   ]
  },
  {
   "cell_type": "code",
   "execution_count": 5,
   "metadata": {},
   "outputs": [
    {
     "name": "stdout",
     "output_type": "stream",
     "text": [
      "/mnt/nvme0n1p1/LLM_project2\n",
      "/mnt/nvme0n1p1/ml_data_tre/LLM_project\n"
     ]
    }
   ],
   "source": [
    "import os\n",
    "import pandas as pd\n",
    "import numpy as np\n",
    "from pathlib import Path\n",
    "ROOT_DIR = next(filter(lambda s: \"LLM\" in s.name,Path().absolute().parents), None)\n",
    "print(ROOT_DIR)\n",
    "import configparser\n",
    "import matplotlib.pyplot as plt\n",
    "config = configparser.ConfigParser()\n",
    "config.read(ROOT_DIR/'config.ini')\n",
    "DATA_FOLDER = Path(config.get(\"paths\",\"path_data\"))\n",
    "print(DATA_FOLDER)\n",
    "assert os.path.isdir(DATA_FOLDER)\n",
    "assert os.path.isdir(ROOT_DIR)\n",
    "import sys \n",
    "sys.path.append(str(ROOT_DIR))"
   ]
  },
  {
   "cell_type": "code",
   "execution_count": 3,
   "metadata": {},
   "outputs": [],
   "source": [
    "dfnews = pd.read_parquet(DATA_FOLDER / \"news_headlines_v3.2.parquet\")"
   ]
  },
  {
   "cell_type": "code",
   "execution_count": 506,
   "metadata": {},
   "outputs": [
    {
     "data": {
      "text/html": [
       "<div>\n",
       "<style scoped>\n",
       "    .dataframe tbody tr th:only-of-type {\n",
       "        vertical-align: middle;\n",
       "    }\n",
       "\n",
       "    .dataframe tbody tr th {\n",
       "        vertical-align: top;\n",
       "    }\n",
       "\n",
       "    .dataframe thead th {\n",
       "        text-align: right;\n",
       "    }\n",
       "</style>\n",
       "<table border=\"1\" class=\"dataframe\">\n",
       "  <thead>\n",
       "    <tr style=\"text-align: right;\">\n",
       "      <th></th>\n",
       "      <th></th>\n",
       "      <th>headline</th>\n",
       "      <th>RET_5D_bin</th>\n",
       "      <th>RET_10D_bin</th>\n",
       "      <th>DES_MCAP_CCY</th>\n",
       "      <th>DES_FACTSET_INDUSTRY</th>\n",
       "      <th>DES_FACTSET_SECTOR</th>\n",
       "      <th>DES_BETA_ADJ_104W</th>\n",
       "      <th>RET_5D_pos</th>\n",
       "      <th>RET_10D_pos</th>\n",
       "    </tr>\n",
       "    <tr>\n",
       "      <th>SYMBOL</th>\n",
       "      <th>DATE</th>\n",
       "      <th></th>\n",
       "      <th></th>\n",
       "      <th></th>\n",
       "      <th></th>\n",
       "      <th></th>\n",
       "      <th></th>\n",
       "      <th></th>\n",
       "      <th></th>\n",
       "      <th></th>\n",
       "    </tr>\n",
       "  </thead>\n",
       "  <tbody>\n",
       "    <tr>\n",
       "      <th rowspan=\"5\" valign=\"top\">B00FG1-R</th>\n",
       "      <th>2016-01-13</th>\n",
       "      <td>PBF Logistics guides FY (Dec 2016) Revenue $143.5 vs FactSet $145.8M  slides</td>\n",
       "      <td>0.0</td>\n",
       "      <td>0.0</td>\n",
       "      <td>3.573171e+05</td>\n",
       "      <td>Wholesale Distributors</td>\n",
       "      <td>Distribution Services</td>\n",
       "      <td>-0.901957</td>\n",
       "      <td>0</td>\n",
       "      <td>0</td>\n",
       "    </tr>\n",
       "    <tr>\n",
       "      <th>2016-02-03</th>\n",
       "      <td>PBF Logistics acquires four refined product terminals from Plains All American (PAA) for $100M</td>\n",
       "      <td>1.0</td>\n",
       "      <td>1.0</td>\n",
       "      <td>3.248169e+05</td>\n",
       "      <td>Wholesale Distributors</td>\n",
       "      <td>Distribution Services</td>\n",
       "      <td>-0.888100</td>\n",
       "      <td>1</td>\n",
       "      <td>1</td>\n",
       "    </tr>\n",
       "    <tr>\n",
       "      <th>2016-03-31</th>\n",
       "      <td>PBF Logistics announces 2.5M unit secondary offering through UBS</td>\n",
       "      <td>1.0</td>\n",
       "      <td>1.0</td>\n",
       "      <td>3.485023e+05</td>\n",
       "      <td>Wholesale Distributors</td>\n",
       "      <td>Distribution Services</td>\n",
       "      <td>-0.901134</td>\n",
       "      <td>1</td>\n",
       "      <td>1</td>\n",
       "    </tr>\n",
       "    <tr>\n",
       "      <th>2016-04-20</th>\n",
       "      <td>FTC grants antitrust clearance for PBF Logistics' purchase of four refined product terminals from Plains All American (PAA)</td>\n",
       "      <td>1.0</td>\n",
       "      <td>1.0</td>\n",
       "      <td>3.634857e+05</td>\n",
       "      <td>Wholesale Distributors</td>\n",
       "      <td>Distribution Services</td>\n",
       "      <td>-0.920021</td>\n",
       "      <td>1</td>\n",
       "      <td>1</td>\n",
       "    </tr>\n",
       "    <tr>\n",
       "      <th>2016-04-21</th>\n",
       "      <td>Raymond James initiates MPLX, PBFX, PSXP, others</td>\n",
       "      <td>1.0</td>\n",
       "      <td>1.0</td>\n",
       "      <td>3.625608e+05</td>\n",
       "      <td>Wholesale Distributors</td>\n",
       "      <td>Distribution Services</td>\n",
       "      <td>-0.921321</td>\n",
       "      <td>1</td>\n",
       "      <td>1</td>\n",
       "    </tr>\n",
       "    <tr>\n",
       "      <th>...</th>\n",
       "      <th>...</th>\n",
       "      <td>...</td>\n",
       "      <td>...</td>\n",
       "      <td>...</td>\n",
       "      <td>...</td>\n",
       "      <td>...</td>\n",
       "      <td>...</td>\n",
       "      <td>...</td>\n",
       "      <td>...</td>\n",
       "      <td>...</td>\n",
       "    </tr>\n",
       "    <tr>\n",
       "      <th rowspan=\"5\" valign=\"top\">XR00QK-R</th>\n",
       "      <th>2018-08-29</th>\n",
       "      <td>Playa Hotels &amp; Resorts initiated buy at SunTrust Robinson Humphrey</td>\n",
       "      <td>0.0</td>\n",
       "      <td>0.0</td>\n",
       "      <td>1.346543e+06</td>\n",
       "      <td>Hotels/Resorts/Cruise lines</td>\n",
       "      <td>Consumer Services</td>\n",
       "      <td>-0.390676</td>\n",
       "      <td>0</td>\n",
       "      <td>0</td>\n",
       "    </tr>\n",
       "    <tr>\n",
       "      <th>2018-09-19</th>\n",
       "      <td>Playa Hotels &amp; Resorts downgraded to neutral from buy at Nomura/Instinet</td>\n",
       "      <td>0.0</td>\n",
       "      <td>0.0</td>\n",
       "      <td>1.199102e+06</td>\n",
       "      <td>Hotels/Resorts/Cruise lines</td>\n",
       "      <td>Consumer Services</td>\n",
       "      <td>-0.420085</td>\n",
       "      <td>0</td>\n",
       "      <td>0</td>\n",
       "    </tr>\n",
       "    <tr>\n",
       "      <th>2018-11-07</th>\n",
       "      <td>Playa Hotels &amp; Resorts reports Q3 adjusted EBITDA $26.0M vs FactSet $25.9M</td>\n",
       "      <td>0.0</td>\n",
       "      <td>0.0</td>\n",
       "      <td>1.145606e+06</td>\n",
       "      <td>Hotels/Resorts/Cruise lines</td>\n",
       "      <td>Consumer Services</td>\n",
       "      <td>-0.518289</td>\n",
       "      <td>0</td>\n",
       "      <td>0</td>\n",
       "    </tr>\n",
       "    <tr>\n",
       "      <th>2019-05-08</th>\n",
       "      <td>Playa Hotels &amp; Resorts reports Q1 adjusted EBITDA $74.8M vs FactSet $68.2M</td>\n",
       "      <td>0.0</td>\n",
       "      <td>0.0</td>\n",
       "      <td>1.105916e+06</td>\n",
       "      <td>Hotels/Resorts/Cruise lines</td>\n",
       "      <td>Consumer Services</td>\n",
       "      <td>-0.641968</td>\n",
       "      <td>0</td>\n",
       "      <td>0</td>\n",
       "    </tr>\n",
       "    <tr>\n",
       "      <th>2019-08-07</th>\n",
       "      <td>Playa Hotels &amp; Resorts reports Q2 adjusted EBITDA $40.1M vs FactSet $36.0M</td>\n",
       "      <td>1.0</td>\n",
       "      <td>1.0</td>\n",
       "      <td>9.098357e+05</td>\n",
       "      <td>Hotels/Resorts/Cruise lines</td>\n",
       "      <td>Consumer Services</td>\n",
       "      <td>-0.673615</td>\n",
       "      <td>1</td>\n",
       "      <td>1</td>\n",
       "    </tr>\n",
       "  </tbody>\n",
       "</table>\n",
       "<p>1002870 rows × 9 columns</p>\n",
       "</div>"
      ],
      "text/plain": [
       "                                                                                                                                        headline  \\\n",
       "SYMBOL   DATE                                                                                                                                      \n",
       "B00FG1-R 2016-01-13                                                 PBF Logistics guides FY (Dec 2016) Revenue $143.5 vs FactSet $145.8M  slides   \n",
       "         2016-02-03                               PBF Logistics acquires four refined product terminals from Plains All American (PAA) for $100M   \n",
       "         2016-03-31                                                             PBF Logistics announces 2.5M unit secondary offering through UBS   \n",
       "         2016-04-20  FTC grants antitrust clearance for PBF Logistics' purchase of four refined product terminals from Plains All American (PAA)   \n",
       "         2016-04-21                                                                             Raymond James initiates MPLX, PBFX, PSXP, others   \n",
       "...                                                                                                                                          ...   \n",
       "XR00QK-R 2018-08-29                                                           Playa Hotels & Resorts initiated buy at SunTrust Robinson Humphrey   \n",
       "         2018-09-19                                                     Playa Hotels & Resorts downgraded to neutral from buy at Nomura/Instinet   \n",
       "         2018-11-07                                                   Playa Hotels & Resorts reports Q3 adjusted EBITDA $26.0M vs FactSet $25.9M   \n",
       "         2019-05-08                                                   Playa Hotels & Resorts reports Q1 adjusted EBITDA $74.8M vs FactSet $68.2M   \n",
       "         2019-08-07                                                   Playa Hotels & Resorts reports Q2 adjusted EBITDA $40.1M vs FactSet $36.0M   \n",
       "\n",
       "                     RET_5D_bin  RET_10D_bin  DES_MCAP_CCY  \\\n",
       "SYMBOL   DATE                                                \n",
       "B00FG1-R 2016-01-13         0.0          0.0  3.573171e+05   \n",
       "         2016-02-03         1.0          1.0  3.248169e+05   \n",
       "         2016-03-31         1.0          1.0  3.485023e+05   \n",
       "         2016-04-20         1.0          1.0  3.634857e+05   \n",
       "         2016-04-21         1.0          1.0  3.625608e+05   \n",
       "...                         ...          ...           ...   \n",
       "XR00QK-R 2018-08-29         0.0          0.0  1.346543e+06   \n",
       "         2018-09-19         0.0          0.0  1.199102e+06   \n",
       "         2018-11-07         0.0          0.0  1.145606e+06   \n",
       "         2019-05-08         0.0          0.0  1.105916e+06   \n",
       "         2019-08-07         1.0          1.0  9.098357e+05   \n",
       "\n",
       "                            DES_FACTSET_INDUSTRY     DES_FACTSET_SECTOR  \\\n",
       "SYMBOL   DATE                                                             \n",
       "B00FG1-R 2016-01-13       Wholesale Distributors  Distribution Services   \n",
       "         2016-02-03       Wholesale Distributors  Distribution Services   \n",
       "         2016-03-31       Wholesale Distributors  Distribution Services   \n",
       "         2016-04-20       Wholesale Distributors  Distribution Services   \n",
       "         2016-04-21       Wholesale Distributors  Distribution Services   \n",
       "...                                          ...                    ...   \n",
       "XR00QK-R 2018-08-29  Hotels/Resorts/Cruise lines      Consumer Services   \n",
       "         2018-09-19  Hotels/Resorts/Cruise lines      Consumer Services   \n",
       "         2018-11-07  Hotels/Resorts/Cruise lines      Consumer Services   \n",
       "         2019-05-08  Hotels/Resorts/Cruise lines      Consumer Services   \n",
       "         2019-08-07  Hotels/Resorts/Cruise lines      Consumer Services   \n",
       "\n",
       "                     DES_BETA_ADJ_104W  RET_5D_pos  RET_10D_pos  \n",
       "SYMBOL   DATE                                                    \n",
       "B00FG1-R 2016-01-13          -0.901957           0            0  \n",
       "         2016-02-03          -0.888100           1            1  \n",
       "         2016-03-31          -0.901134           1            1  \n",
       "         2016-04-20          -0.920021           1            1  \n",
       "         2016-04-21          -0.921321           1            1  \n",
       "...                                ...         ...          ...  \n",
       "XR00QK-R 2018-08-29          -0.390676           0            0  \n",
       "         2018-09-19          -0.420085           0            0  \n",
       "         2018-11-07          -0.518289           0            0  \n",
       "         2019-05-08          -0.641968           0            0  \n",
       "         2019-08-07          -0.673615           1            1  \n",
       "\n",
       "[1002870 rows x 9 columns]"
      ]
     },
     "execution_count": 506,
     "metadata": {},
     "output_type": "execute_result"
    }
   ],
   "source": [
    "dfnews"
   ]
  },
  {
   "cell_type": "code",
   "execution_count": 507,
   "metadata": {},
   "outputs": [],
   "source": [
    "from utils.io_utils import write_headlines_to_file\n",
    "\n",
    "write_headlines_to_file(dfnews= dfnews, x_col = \"headline\", filepath = ROOT_DIR / \"data_preprocess\"/ \"news_headlines_v3.2.txt\")\n"
   ]
  },
  {
   "cell_type": "code",
   "execution_count": 508,
   "metadata": {},
   "outputs": [],
   "source": [
    "\n",
    "dfnews[\"DATE_diff\"] =( dfnews.reset_index().groupby(\"SYMBOL\")[\"DATE\"].diff().dt.days).values"
   ]
  },
  {
   "cell_type": "code",
   "execution_count": 5,
   "metadata": {},
   "outputs": [],
   "source": [
    "def gen_news(dfnews, cols_add :list[str] = [], cols_remove:list[str] = []):\n",
    "    cols  = [\"DATE\",\"headline\"] + cols_add\n",
    "    cols = [col for col in cols if col not in cols_remove]\n",
    "    for i in range(0, dfnews.shape[0], 10):\n",
    "        yield dfnews.reset_index().iloc[i:i+10].loc[:,cols]\n",
    "\n",
    "gen = gen_news(dfnews)\n",
    "\n"
   ]
  },
  {
   "cell_type": "code",
   "execution_count": 510,
   "metadata": {},
   "outputs": [
    {
     "data": {
      "text/html": [
       "<div>\n",
       "<style scoped>\n",
       "    .dataframe tbody tr th:only-of-type {\n",
       "        vertical-align: middle;\n",
       "    }\n",
       "\n",
       "    .dataframe tbody tr th {\n",
       "        vertical-align: top;\n",
       "    }\n",
       "\n",
       "    .dataframe thead th {\n",
       "        text-align: right;\n",
       "    }\n",
       "</style>\n",
       "<table border=\"1\" class=\"dataframe\">\n",
       "  <thead>\n",
       "    <tr style=\"text-align: right;\">\n",
       "      <th></th>\n",
       "      <th>DATE</th>\n",
       "      <th>headline</th>\n",
       "    </tr>\n",
       "  </thead>\n",
       "  <tbody>\n",
       "    <tr>\n",
       "      <th>0</th>\n",
       "      <td>2016-01-13</td>\n",
       "      <td>PBF Logistics guides FY (Dec 2016) Revenue $143.5 vs FactSet $145.8M  slides</td>\n",
       "    </tr>\n",
       "    <tr>\n",
       "      <th>1</th>\n",
       "      <td>2016-02-03</td>\n",
       "      <td>PBF Logistics acquires four refined product terminals from Plains All Americ...</td>\n",
       "    </tr>\n",
       "    <tr>\n",
       "      <th>2</th>\n",
       "      <td>2016-03-31</td>\n",
       "      <td>PBF Logistics announces 2.5M unit secondary offering through UBS</td>\n",
       "    </tr>\n",
       "    <tr>\n",
       "      <th>3</th>\n",
       "      <td>2016-04-20</td>\n",
       "      <td>FTC grants antitrust clearance for PBF Logistics' purchase of four refined p...</td>\n",
       "    </tr>\n",
       "    <tr>\n",
       "      <th>4</th>\n",
       "      <td>2016-04-21</td>\n",
       "      <td>Raymond James initiates MPLX, PBFX, PSXP, others</td>\n",
       "    </tr>\n",
       "    <tr>\n",
       "      <th>5</th>\n",
       "      <td>2016-04-29</td>\n",
       "      <td>PBF Logistics reports Q1 Earnings Per Share $0.53 vs FactSet $0.45; increase...</td>\n",
       "    </tr>\n",
       "    <tr>\n",
       "      <th>6</th>\n",
       "      <td>2017-01-05</td>\n",
       "      <td>PBF Logistics guides FY (Dec 2017) EBITDA $135.2M vs FactSet $156.3M -- inve...</td>\n",
       "    </tr>\n",
       "    <tr>\n",
       "      <th>7</th>\n",
       "      <td>2017-04-18</td>\n",
       "      <td>PBF Logistics acquires Toledo Terminal from Sunoco Logistics (SXL)</td>\n",
       "    </tr>\n",
       "    <tr>\n",
       "      <th>8</th>\n",
       "      <td>2017-05-05</td>\n",
       "      <td>PBF Logistics reports Q1 Earnings Per Share $0.55 vs FactSet $0.52</td>\n",
       "    </tr>\n",
       "    <tr>\n",
       "      <th>9</th>\n",
       "      <td>2017-05-23</td>\n",
       "      <td>U.S. Capital Advisors initiates HEP, HFC, MPC, others</td>\n",
       "    </tr>\n",
       "  </tbody>\n",
       "</table>\n",
       "</div>"
      ],
      "text/plain": [
       "        DATE  \\\n",
       "0 2016-01-13   \n",
       "1 2016-02-03   \n",
       "2 2016-03-31   \n",
       "3 2016-04-20   \n",
       "4 2016-04-21   \n",
       "5 2016-04-29   \n",
       "6 2017-01-05   \n",
       "7 2017-04-18   \n",
       "8 2017-05-05   \n",
       "9 2017-05-23   \n",
       "\n",
       "                                                                          headline  \n",
       "0     PBF Logistics guides FY (Dec 2016) Revenue $143.5 vs FactSet $145.8M  slides  \n",
       "1  PBF Logistics acquires four refined product terminals from Plains All Americ...  \n",
       "2                 PBF Logistics announces 2.5M unit secondary offering through UBS  \n",
       "3  FTC grants antitrust clearance for PBF Logistics' purchase of four refined p...  \n",
       "4                                 Raymond James initiates MPLX, PBFX, PSXP, others  \n",
       "5  PBF Logistics reports Q1 Earnings Per Share $0.53 vs FactSet $0.45; increase...  \n",
       "6  PBF Logistics guides FY (Dec 2017) EBITDA $135.2M vs FactSet $156.3M -- inve...  \n",
       "7               PBF Logistics acquires Toledo Terminal from Sunoco Logistics (SXL)  \n",
       "8               PBF Logistics reports Q1 Earnings Per Share $0.55 vs FactSet $0.52  \n",
       "9                            U.S. Capital Advisors initiates HEP, HFC, MPC, others  "
      ]
     },
     "execution_count": 510,
     "metadata": {},
     "output_type": "execute_result"
    }
   ],
   "source": [
    "# pd ste option max width \n",
    "pd.set_option('display.max_colwidth', 80)\n",
    "\n",
    "next(gen)"
   ]
  },
  {
   "cell_type": "code",
   "execution_count": 511,
   "metadata": {},
   "outputs": [
    {
     "data": {
      "text/plain": [
       "<Axes: title={'center': 'Distribution of time difference between news'}>"
      ]
     },
     "execution_count": 511,
     "metadata": {},
     "output_type": "execute_result"
    },
    {
     "data": {
      "image/png": "[encoded data removed]",
      "text/plain": [
       "<Figure size 640x480 with 1 Axes>"
      ]
     },
     "metadata": {},
     "output_type": "display_data"
    }
   ],
   "source": [
    "plt.title(\"Distribution of time difference between news\")\n",
    "dfnews.DATE_diff.dropna().hist(bins = 100)\n"
   ]
  },
  {
   "cell_type": "code",
   "execution_count": 512,
   "metadata": {},
   "outputs": [],
   "source": [
    "# dfnews = dfnews.loc[dfnews.index.get_level_values(0).isin(dfnews.index.get_level_values(0).unique()[:3])] # REMOVE THIS CELL WHEN DONE DEBUGGING"
   ]
  },
  {
   "cell_type": "code",
   "execution_count": 513,
   "metadata": {},
   "outputs": [
    {
     "data": {
      "text/plain": [
       "<Axes: title={'center': 'Distribution of number of rows per symbol'}>"
      ]
     },
     "execution_count": 513,
     "metadata": {},
     "output_type": "execute_result"
    },
    {
     "data": {
      "image/png": "[encoded data removed]",
      "text/plain": [
       "<Figure size 640x480 with 1 Axes>"
      ]
     },
     "metadata": {},
     "output_type": "display_data"
    }
   ],
   "source": [
    "# number of rows per symbol distibution \n",
    "plt.title(\"Distribution of number of rows per symbol\")\n",
    "dfnews.groupby(\"SYMBOL\")[\"RET_5D_pos\"].count().hist(bins = 100)"
   ]
  },
  {
   "cell_type": "markdown",
   "metadata": {},
   "source": [
    "### Merge Method 1"
   ]
  },
  {
   "cell_type": "code",
   "execution_count": null,
   "metadata": {},
   "outputs": [],
   "source": [
    "\n",
    "\n",
    "def groupby_function_merge_headlines(df: pd.DataFrame):\n",
    "    \"\"\"\n",
    "    Merges headlines for each week in the dataframe\n",
    "    \"\"\"\n",
    "    resampled = df.reset_index().set_index(\"DATE\").resample(\"7D\").agg({\"headline\": lambda x: \"; \".join(x)})[\"headline\"]\n",
    "    return resampled.shift(1)\n",
    "\n",
    "print(f\"number of symbols in df\", dfnews.index.get_level_values(0).nunique())\n",
    "\n",
    "headlines_merged = dfnews.groupby(\"SYMBOL\").apply(groupby_function_merge_headlines)\n",
    "headlines_merged = headlines_merged.loc[(headlines_merged != '' )].dropna()\n",
    "headlines_merged.head(50)\n",
    "\n",
    "headlines_merged_df = pd.DataFrame(headlines_merged)\n"
   ]
  },
  {
   "cell_type": "code",
   "execution_count": 515,
   "metadata": {},
   "outputs": [
    {
     "data": {
      "text/html": [
       "<div>\n",
       "<style scoped>\n",
       "    .dataframe tbody tr th:only-of-type {\n",
       "        vertical-align: middle;\n",
       "    }\n",
       "\n",
       "    .dataframe tbody tr th {\n",
       "        vertical-align: top;\n",
       "    }\n",
       "\n",
       "    .dataframe thead th {\n",
       "        text-align: right;\n",
       "    }\n",
       "</style>\n",
       "<table border=\"1\" class=\"dataframe\">\n",
       "  <thead>\n",
       "    <tr style=\"text-align: right;\">\n",
       "      <th></th>\n",
       "      <th></th>\n",
       "      <th>headline</th>\n",
       "    </tr>\n",
       "    <tr>\n",
       "      <th>SYMBOL</th>\n",
       "      <th>DATE</th>\n",
       "      <th></th>\n",
       "    </tr>\n",
       "  </thead>\n",
       "  <tbody>\n",
       "    <tr>\n",
       "      <th rowspan=\"5\" valign=\"top\">B00FG1-R</th>\n",
       "      <th>2016-01-20</th>\n",
       "      <td>PBF Logistics guides FY (Dec 2016) Revenue $143.5 vs FactSet $145.8M  slides</td>\n",
       "    </tr>\n",
       "    <tr>\n",
       "      <th>2016-02-10</th>\n",
       "      <td>PBF Logistics acquires four refined product terminals from Plains All Americ...</td>\n",
       "    </tr>\n",
       "    <tr>\n",
       "      <th>2016-04-06</th>\n",
       "      <td>PBF Logistics announces 2.5M unit secondary offering through UBS</td>\n",
       "    </tr>\n",
       "    <tr>\n",
       "      <th>2016-04-27</th>\n",
       "      <td>FTC grants antitrust clearance for PBF Logistics' purchase of four refined p...</td>\n",
       "    </tr>\n",
       "    <tr>\n",
       "      <th>2016-05-04</th>\n",
       "      <td>PBF Logistics reports Q1 Earnings Per Share $0.53 vs FactSet $0.45; increase...</td>\n",
       "    </tr>\n",
       "    <tr>\n",
       "      <th>...</th>\n",
       "      <th>...</th>\n",
       "      <td>...</td>\n",
       "    </tr>\n",
       "    <tr>\n",
       "      <th rowspan=\"5\" valign=\"top\">XR00QK-R</th>\n",
       "      <th>2018-03-07</th>\n",
       "      <td>Playa Hotels &amp; Resorts acquires 5 all-inclusive resorts and 2 adjacent ocean...</td>\n",
       "    </tr>\n",
       "    <tr>\n",
       "      <th>2018-09-05</th>\n",
       "      <td>Playa Hotels &amp; Resorts initiated buy at SunTrust Robinson Humphrey</td>\n",
       "    </tr>\n",
       "    <tr>\n",
       "      <th>2018-09-26</th>\n",
       "      <td>Playa Hotels &amp; Resorts downgraded to neutral from buy at Nomura/Instinet</td>\n",
       "    </tr>\n",
       "    <tr>\n",
       "      <th>2018-11-14</th>\n",
       "      <td>Playa Hotels &amp; Resorts reports Q3 adjusted EBITDA $26.0M vs FactSet $25.9M</td>\n",
       "    </tr>\n",
       "    <tr>\n",
       "      <th>2019-05-15</th>\n",
       "      <td>Playa Hotels &amp; Resorts reports Q1 adjusted EBITDA $74.8M vs FactSet $68.2M</td>\n",
       "    </tr>\n",
       "  </tbody>\n",
       "</table>\n",
       "<p>676974 rows × 1 columns</p>\n",
       "</div>"
      ],
      "text/plain": [
       "                                                                                            headline\n",
       "SYMBOL   DATE                                                                                       \n",
       "B00FG1-R 2016-01-20     PBF Logistics guides FY (Dec 2016) Revenue $143.5 vs FactSet $145.8M  slides\n",
       "         2016-02-10  PBF Logistics acquires four refined product terminals from Plains All Americ...\n",
       "         2016-04-06                 PBF Logistics announces 2.5M unit secondary offering through UBS\n",
       "         2016-04-27  FTC grants antitrust clearance for PBF Logistics' purchase of four refined p...\n",
       "         2016-05-04  PBF Logistics reports Q1 Earnings Per Share $0.53 vs FactSet $0.45; increase...\n",
       "...                                                                                              ...\n",
       "XR00QK-R 2018-03-07  Playa Hotels & Resorts acquires 5 all-inclusive resorts and 2 adjacent ocean...\n",
       "         2018-09-05               Playa Hotels & Resorts initiated buy at SunTrust Robinson Humphrey\n",
       "         2018-09-26         Playa Hotels & Resorts downgraded to neutral from buy at Nomura/Instinet\n",
       "         2018-11-14       Playa Hotels & Resorts reports Q3 adjusted EBITDA $26.0M vs FactSet $25.9M\n",
       "         2019-05-15       Playa Hotels & Resorts reports Q1 adjusted EBITDA $74.8M vs FactSet $68.2M\n",
       "\n",
       "[676974 rows x 1 columns]"
      ]
     },
     "execution_count": 515,
     "metadata": {},
     "output_type": "execute_result"
    }
   ],
   "source": [
    "headlines_merged_df"
   ]
  },
  {
   "cell_type": "code",
   "execution_count": 516,
   "metadata": {},
   "outputs": [
    {
     "data": {
      "text/html": [
       "<div>\n",
       "<style scoped>\n",
       "    .dataframe tbody tr th:only-of-type {\n",
       "        vertical-align: middle;\n",
       "    }\n",
       "\n",
       "    .dataframe tbody tr th {\n",
       "        vertical-align: top;\n",
       "    }\n",
       "\n",
       "    .dataframe thead th {\n",
       "        text-align: right;\n",
       "    }\n",
       "</style>\n",
       "<table border=\"1\" class=\"dataframe\">\n",
       "  <thead>\n",
       "    <tr style=\"text-align: right;\">\n",
       "      <th></th>\n",
       "      <th>DATE</th>\n",
       "      <th>DATE_diff</th>\n",
       "      <th>headline</th>\n",
       "    </tr>\n",
       "  </thead>\n",
       "  <tbody>\n",
       "    <tr>\n",
       "      <th>0</th>\n",
       "      <td>2016-01-13</td>\n",
       "      <td>NaN</td>\n",
       "      <td>PBF Logistics guides FY (Dec 2016) Revenue $143.5 vs FactSet $145.8M  slides</td>\n",
       "    </tr>\n",
       "    <tr>\n",
       "      <th>1</th>\n",
       "      <td>2016-02-03</td>\n",
       "      <td>21.0</td>\n",
       "      <td>PBF Logistics acquires four refined product terminals from Plains All Americ...</td>\n",
       "    </tr>\n",
       "    <tr>\n",
       "      <th>2</th>\n",
       "      <td>2016-03-31</td>\n",
       "      <td>57.0</td>\n",
       "      <td>PBF Logistics announces 2.5M unit secondary offering through UBS</td>\n",
       "    </tr>\n",
       "    <tr>\n",
       "      <th>3</th>\n",
       "      <td>2016-04-20</td>\n",
       "      <td>20.0</td>\n",
       "      <td>FTC grants antitrust clearance for PBF Logistics' purchase of four refined p...</td>\n",
       "    </tr>\n",
       "    <tr>\n",
       "      <th>4</th>\n",
       "      <td>2016-04-21</td>\n",
       "      <td>1.0</td>\n",
       "      <td>Raymond James initiates MPLX, PBFX, PSXP, others</td>\n",
       "    </tr>\n",
       "    <tr>\n",
       "      <th>5</th>\n",
       "      <td>2016-04-29</td>\n",
       "      <td>8.0</td>\n",
       "      <td>PBF Logistics reports Q1 Earnings Per Share $0.53 vs FactSet $0.45; increase...</td>\n",
       "    </tr>\n",
       "    <tr>\n",
       "      <th>6</th>\n",
       "      <td>2017-01-05</td>\n",
       "      <td>251.0</td>\n",
       "      <td>PBF Logistics guides FY (Dec 2017) EBITDA $135.2M vs FactSet $156.3M -- inve...</td>\n",
       "    </tr>\n",
       "    <tr>\n",
       "      <th>7</th>\n",
       "      <td>2017-04-18</td>\n",
       "      <td>103.0</td>\n",
       "      <td>PBF Logistics acquires Toledo Terminal from Sunoco Logistics (SXL)</td>\n",
       "    </tr>\n",
       "    <tr>\n",
       "      <th>8</th>\n",
       "      <td>2017-05-05</td>\n",
       "      <td>17.0</td>\n",
       "      <td>PBF Logistics reports Q1 Earnings Per Share $0.55 vs FactSet $0.52</td>\n",
       "    </tr>\n",
       "    <tr>\n",
       "      <th>9</th>\n",
       "      <td>2017-05-23</td>\n",
       "      <td>18.0</td>\n",
       "      <td>U.S. Capital Advisors initiates HEP, HFC, MPC, others</td>\n",
       "    </tr>\n",
       "    <tr>\n",
       "      <th>10</th>\n",
       "      <td>2017-08-04</td>\n",
       "      <td>73.0</td>\n",
       "      <td>PBF Logistics reports Q2 Earnings Per Share $0.57 ex-items vs FactSet $0.57;...</td>\n",
       "    </tr>\n",
       "    <tr>\n",
       "      <th>11</th>\n",
       "      <td>2017-11-03</td>\n",
       "      <td>91.0</td>\n",
       "      <td>PBF Logistics reports Q3 Earnings Per Share $0.63 vs FactSet $0.59; increase...</td>\n",
       "    </tr>\n",
       "    <tr>\n",
       "      <th>12</th>\n",
       "      <td>2018-01-04</td>\n",
       "      <td>62.0</td>\n",
       "      <td>PBF Logistics guides for 2018 in investor presentation</td>\n",
       "    </tr>\n",
       "    <tr>\n",
       "      <th>13</th>\n",
       "      <td>2018-02-16</td>\n",
       "      <td>43.0</td>\n",
       "      <td>PBF Logistics reports Q4 Earnings Per Share $0.50 vs FactSet $0.59</td>\n",
       "    </tr>\n",
       "    <tr>\n",
       "      <th>14</th>\n",
       "      <td>2018-05-04</td>\n",
       "      <td>77.0</td>\n",
       "      <td>PBF Logistics reports Q1 Earnings Per Share $0.43 vs FactSet $0.49</td>\n",
       "    </tr>\n",
       "    <tr>\n",
       "      <th>15</th>\n",
       "      <td>2018-05-24</td>\n",
       "      <td>20.0</td>\n",
       "      <td>PBF Logistics guides 2018 revenue $282M vs prior guidance $276M and FactSet ...</td>\n",
       "    </tr>\n",
       "    <tr>\n",
       "      <th>16</th>\n",
       "      <td>2018-07-18</td>\n",
       "      <td>55.0</td>\n",
       "      <td>PBF Logistics announces acquisition of East Coast Storage Assets for $107M</td>\n",
       "    </tr>\n",
       "    <tr>\n",
       "      <th>17</th>\n",
       "      <td>2018-07-18</td>\n",
       "      <td>0.0</td>\n",
       "      <td>PBF Logistics announces registered direct offering of ~1.8M units with Torto...</td>\n",
       "    </tr>\n",
       "    <tr>\n",
       "      <th>18</th>\n",
       "      <td>2018-08-03</td>\n",
       "      <td>16.0</td>\n",
       "      <td>PBF Logistics enters into $500M amended and restated revolving credit facili...</td>\n",
       "    </tr>\n",
       "    <tr>\n",
       "      <th>19</th>\n",
       "      <td>2018-08-03</td>\n",
       "      <td>0.0</td>\n",
       "      <td>PBF Logistics reports Q2 Earnings Per Share $0.39 vs FactSet $0.45; increase...</td>\n",
       "    </tr>\n",
       "    <tr>\n",
       "      <th>20</th>\n",
       "      <td>2018-09-06</td>\n",
       "      <td>34.0</td>\n",
       "      <td>PBF Logistics repeats FY18 EBITDA guidance of $155-160M vs FactSet $158.2M -...</td>\n",
       "    </tr>\n",
       "    <tr>\n",
       "      <th>21</th>\n",
       "      <td>2018-10-02</td>\n",
       "      <td>26.0</td>\n",
       "      <td>PBF Logistics closes acquisition of East Coast Storage assets</td>\n",
       "    </tr>\n",
       "    <tr>\n",
       "      <th>22</th>\n",
       "      <td>2018-11-01</td>\n",
       "      <td>30.0</td>\n",
       "      <td>PBF Logistics reports Q3 Earnings Per Share $0.42 vs FactSet $0.53; increase...</td>\n",
       "    </tr>\n",
       "    <tr>\n",
       "      <th>23</th>\n",
       "      <td>2018-11-07</td>\n",
       "      <td>6.0</td>\n",
       "      <td>PBF Logistics downgraded to market perform from outperform at Wells Fargo Se...</td>\n",
       "    </tr>\n",
       "    <tr>\n",
       "      <th>24</th>\n",
       "      <td>2019-01-09</td>\n",
       "      <td>63.0</td>\n",
       "      <td>PBF Logistics guides FY19 revenue to $337M vs FactSet $294.2M -- presentatio...</td>\n",
       "    </tr>\n",
       "    <tr>\n",
       "      <th>25</th>\n",
       "      <td>2019-02-15</td>\n",
       "      <td>37.0</td>\n",
       "      <td>PBF Logistics reports Q4 Earnings Per Share $0.48 vs FactSet $0.48; increase...</td>\n",
       "    </tr>\n",
       "    <tr>\n",
       "      <th>26</th>\n",
       "      <td>2019-04-25</td>\n",
       "      <td>69.0</td>\n",
       "      <td>PBF Logistics announces 6.6M common unit offering through RBC Capital Markets</td>\n",
       "    </tr>\n",
       "    <tr>\n",
       "      <th>27</th>\n",
       "      <td>2019-04-25</td>\n",
       "      <td>0.0</td>\n",
       "      <td>PBF Logistics to acquire remaining 50% interest in Torrance Valley Pipeline ...</td>\n",
       "    </tr>\n",
       "    <tr>\n",
       "      <th>28</th>\n",
       "      <td>2019-05-02</td>\n",
       "      <td>7.0</td>\n",
       "      <td>PBF Logistics guides FY19 EBITDA to increase to ~195M vs prior $177M -- conf...</td>\n",
       "    </tr>\n",
       "    <tr>\n",
       "      <th>29</th>\n",
       "      <td>2019-05-02</td>\n",
       "      <td>0.0</td>\n",
       "      <td>PBF Logistics reports Q1 Earnings Per Share $0.35 vs FactSet $0.36; increase...</td>\n",
       "    </tr>\n",
       "    <tr>\n",
       "      <th>30</th>\n",
       "      <td>2019-08-02</td>\n",
       "      <td>92.0</td>\n",
       "      <td>PBF Logistics reports Q2 Earnings Per Share $0.37, including items, vs FactS...</td>\n",
       "    </tr>\n",
       "    <tr>\n",
       "      <th>31</th>\n",
       "      <td>2019-11-01</td>\n",
       "      <td>91.0</td>\n",
       "      <td>PBF Logistics reports Q3 Earnings Per Share $0.50, including items, vs FactS...</td>\n",
       "    </tr>\n",
       "  </tbody>\n",
       "</table>\n",
       "</div>"
      ],
      "text/plain": [
       "         DATE  DATE_diff  \\\n",
       "0  2016-01-13        NaN   \n",
       "1  2016-02-03       21.0   \n",
       "2  2016-03-31       57.0   \n",
       "3  2016-04-20       20.0   \n",
       "4  2016-04-21        1.0   \n",
       "5  2016-04-29        8.0   \n",
       "6  2017-01-05      251.0   \n",
       "7  2017-04-18      103.0   \n",
       "8  2017-05-05       17.0   \n",
       "9  2017-05-23       18.0   \n",
       "10 2017-08-04       73.0   \n",
       "11 2017-11-03       91.0   \n",
       "12 2018-01-04       62.0   \n",
       "13 2018-02-16       43.0   \n",
       "14 2018-05-04       77.0   \n",
       "15 2018-05-24       20.0   \n",
       "16 2018-07-18       55.0   \n",
       "17 2018-07-18        0.0   \n",
       "18 2018-08-03       16.0   \n",
       "19 2018-08-03        0.0   \n",
       "20 2018-09-06       34.0   \n",
       "21 2018-10-02       26.0   \n",
       "22 2018-11-01       30.0   \n",
       "23 2018-11-07        6.0   \n",
       "24 2019-01-09       63.0   \n",
       "25 2019-02-15       37.0   \n",
       "26 2019-04-25       69.0   \n",
       "27 2019-04-25        0.0   \n",
       "28 2019-05-02        7.0   \n",
       "29 2019-05-02        0.0   \n",
       "30 2019-08-02       92.0   \n",
       "31 2019-11-01       91.0   \n",
       "\n",
       "                                                                           headline  \n",
       "0      PBF Logistics guides FY (Dec 2016) Revenue $143.5 vs FactSet $145.8M  slides  \n",
       "1   PBF Logistics acquires four refined product terminals from Plains All Americ...  \n",
       "2                  PBF Logistics announces 2.5M unit secondary offering through UBS  \n",
       "3   FTC grants antitrust clearance for PBF Logistics' purchase of four refined p...  \n",
       "4                                  Raymond James initiates MPLX, PBFX, PSXP, others  \n",
       "5   PBF Logistics reports Q1 Earnings Per Share $0.53 vs FactSet $0.45; increase...  \n",
       "6   PBF Logistics guides FY (Dec 2017) EBITDA $135.2M vs FactSet $156.3M -- inve...  \n",
       "7                PBF Logistics acquires Toledo Terminal from Sunoco Logistics (SXL)  \n",
       "8                PBF Logistics reports Q1 Earnings Per Share $0.55 vs FactSet $0.52  \n",
       "9                             U.S. Capital Advisors initiates HEP, HFC, MPC, others  \n",
       "10  PBF Logistics reports Q2 Earnings Per Share $0.57 ex-items vs FactSet $0.57;...  \n",
       "11  PBF Logistics reports Q3 Earnings Per Share $0.63 vs FactSet $0.59; increase...  \n",
       "12                           PBF Logistics guides for 2018 in investor presentation  \n",
       "13               PBF Logistics reports Q4 Earnings Per Share $0.50 vs FactSet $0.59  \n",
       "14               PBF Logistics reports Q1 Earnings Per Share $0.43 vs FactSet $0.49  \n",
       "15  PBF Logistics guides 2018 revenue $282M vs prior guidance $276M and FactSet ...  \n",
       "16       PBF Logistics announces acquisition of East Coast Storage Assets for $107M  \n",
       "17  PBF Logistics announces registered direct offering of ~1.8M units with Torto...  \n",
       "18  PBF Logistics enters into $500M amended and restated revolving credit facili...  \n",
       "19  PBF Logistics reports Q2 Earnings Per Share $0.39 vs FactSet $0.45; increase...  \n",
       "20  PBF Logistics repeats FY18 EBITDA guidance of $155-160M vs FactSet $158.2M -...  \n",
       "21                    PBF Logistics closes acquisition of East Coast Storage assets  \n",
       "22  PBF Logistics reports Q3 Earnings Per Share $0.42 vs FactSet $0.53; increase...  \n",
       "23  PBF Logistics downgraded to market perform from outperform at Wells Fargo Se...  \n",
       "24  PBF Logistics guides FY19 revenue to $337M vs FactSet $294.2M -- presentatio...  \n",
       "25  PBF Logistics reports Q4 Earnings Per Share $0.48 vs FactSet $0.48; increase...  \n",
       "26    PBF Logistics announces 6.6M common unit offering through RBC Capital Markets  \n",
       "27  PBF Logistics to acquire remaining 50% interest in Torrance Valley Pipeline ...  \n",
       "28  PBF Logistics guides FY19 EBITDA to increase to ~195M vs prior $177M -- conf...  \n",
       "29  PBF Logistics reports Q1 Earnings Per Share $0.35 vs FactSet $0.36; increase...  \n",
       "30  PBF Logistics reports Q2 Earnings Per Share $0.37, including items, vs FactS...  \n",
       "31  PBF Logistics reports Q3 Earnings Per Share $0.50, including items, vs FactS...  "
      ]
     },
     "execution_count": 516,
     "metadata": {},
     "output_type": "execute_result"
    }
   ],
   "source": [
    "dfnews_symbol0.reset_index().loc[:, [ \"DATE\",\"DATE_diff\",\"headline\"]]\n"
   ]
  },
  {
   "cell_type": "code",
   "execution_count": 517,
   "metadata": {},
   "outputs": [],
   "source": [
    "# load price df to merge\n",
    "\n",
    "dfprice = pd.read_parquet(DATA_FOLDER / \"df_price_v0.1.parquet\")\n"
   ]
  },
  {
   "cell_type": "code",
   "execution_count": 519,
   "metadata": {},
   "outputs": [
    {
     "data": {
      "text/plain": [
       "(4266319, 15)"
      ]
     },
     "execution_count": 519,
     "metadata": {},
     "output_type": "execute_result"
    }
   ],
   "source": [
    "dfprice.shape\n"
   ]
  },
  {
   "cell_type": "code",
   "execution_count": 47,
   "metadata": {},
   "outputs": [
    {
     "data": {
      "text/html": [
       "<div>\n",
       "<style scoped>\n",
       "    .dataframe tbody tr th:only-of-type {\n",
       "        vertical-align: middle;\n",
       "    }\n",
       "\n",
       "    .dataframe tbody tr th {\n",
       "        vertical-align: top;\n",
       "    }\n",
       "\n",
       "    .dataframe thead th {\n",
       "        text-align: right;\n",
       "    }\n",
       "</style>\n",
       "<table border=\"1\" class=\"dataframe\">\n",
       "  <thead>\n",
       "    <tr style=\"text-align: right;\">\n",
       "      <th></th>\n",
       "      <th>SYMBOL</th>\n",
       "      <th>DATE</th>\n",
       "      <th>headline</th>\n",
       "      <th>index</th>\n",
       "      <th>SYMBOL-R</th>\n",
       "      <th>exch_rate_sec_eur</th>\n",
       "      <th>p_price_adj_split_spinoff_div</th>\n",
       "      <th>DES_MCAP_CCY</th>\n",
       "      <th>factset_industry</th>\n",
       "      <th>factset_sector</th>\n",
       "      <th>DES_BETA_ADJ_104W</th>\n",
       "      <th>factset_entity_id</th>\n",
       "      <th>adj_price</th>\n",
       "      <th>RET_5D</th>\n",
       "      <th>RET_10D</th>\n",
       "      <th>RET_5D_pos</th>\n",
       "      <th>RET_10D_pos</th>\n",
       "    </tr>\n",
       "  </thead>\n",
       "  <tbody>\n",
       "    <tr>\n",
       "      <th>0</th>\n",
       "      <td>B00M5L-R</td>\n",
       "      <td>2006-10-19</td>\n",
       "      <td>Ultra Petroleum reports share repurchase plan, updates operations</td>\n",
       "      <td>7</td>\n",
       "      <td>B00M5L-R</td>\n",
       "      <td>0.793021</td>\n",
       "      <td>53.320000</td>\n",
       "      <td>8.114611e+06</td>\n",
       "      <td>Oil &amp; Gas Production</td>\n",
       "      <td>Energy Minerals</td>\n",
       "      <td>-1.535250</td>\n",
       "      <td>0039F1-E</td>\n",
       "      <td>42.283902</td>\n",
       "      <td>0.097439</td>\n",
       "      <td>NaN</td>\n",
       "      <td>1</td>\n",
       "      <td>0</td>\n",
       "    </tr>\n",
       "    <tr>\n",
       "      <th>1</th>\n",
       "      <td>B00M5L-R</td>\n",
       "      <td>2006-10-26</td>\n",
       "      <td>Ultra Petroleum provides update from development projects in Bohai Bay, China</td>\n",
       "      <td>12</td>\n",
       "      <td>B00M5L-R</td>\n",
       "      <td>0.787588</td>\n",
       "      <td>55.700000</td>\n",
       "      <td>8.476816e+06</td>\n",
       "      <td>Oil &amp; Gas Production</td>\n",
       "      <td>Energy Minerals</td>\n",
       "      <td>-1.565611</td>\n",
       "      <td>0039F1-E</td>\n",
       "      <td>43.868630</td>\n",
       "      <td>0.037478</td>\n",
       "      <td>0.138569</td>\n",
       "      <td>1</td>\n",
       "      <td>1</td>\n",
       "    </tr>\n",
       "    <tr>\n",
       "      <th>2</th>\n",
       "      <td>B00M5L-R</td>\n",
       "      <td>2006-11-02</td>\n",
       "      <td>Ultra Petroleum reports Q3 Earnings Per Share $0.33 vs Reuters consensus $0.33</td>\n",
       "      <td>17</td>\n",
       "      <td>B00M5L-R</td>\n",
       "      <td>0.783085</td>\n",
       "      <td>51.490000</td>\n",
       "      <td>7.836109e+06</td>\n",
       "      <td>Oil &amp; Gas Production</td>\n",
       "      <td>Energy Minerals</td>\n",
       "      <td>-1.645192</td>\n",
       "      <td>0039F1-E</td>\n",
       "      <td>40.321065</td>\n",
       "      <td>-0.080868</td>\n",
       "      <td>-0.046420</td>\n",
       "      <td>0</td>\n",
       "      <td>0</td>\n",
       "    </tr>\n",
       "    <tr>\n",
       "      <th>3</th>\n",
       "      <td>B00M5L-R</td>\n",
       "      <td>2007-02-22</td>\n",
       "      <td>Ultra Petroleum reports Q4 Earnings Per Share $0.38 vs Reuters consensus $0.38; Ultra Petroleum upgraded to buy from neutral at Goldman Sachs</td>\n",
       "      <td>97</td>\n",
       "      <td>B00M5L-R</td>\n",
       "      <td>0.761789</td>\n",
       "      <td>50.870000</td>\n",
       "      <td>7.729747e+06</td>\n",
       "      <td>Oil &amp; Gas Production</td>\n",
       "      <td>Energy Minerals</td>\n",
       "      <td>-1.531483</td>\n",
       "      <td>0039F1-E</td>\n",
       "      <td>38.752190</td>\n",
       "      <td>-0.012364</td>\n",
       "      <td>-0.018127</td>\n",
       "      <td>0</td>\n",
       "      <td>0</td>\n",
       "    </tr>\n",
       "    <tr>\n",
       "      <th>4</th>\n",
       "      <td>B00M5L-R</td>\n",
       "      <td>2007-03-01</td>\n",
       "      <td>Ultra Petroleum estimates f07 production guidance of 110/bcfe--Bloomberg</td>\n",
       "      <td>102</td>\n",
       "      <td>B00M5L-R</td>\n",
       "      <td>0.759186</td>\n",
       "      <td>50.300000</td>\n",
       "      <td>7.641626e+06</td>\n",
       "      <td>Oil &amp; Gas Production</td>\n",
       "      <td>Energy Minerals</td>\n",
       "      <td>-1.499946</td>\n",
       "      <td>0039F1-E</td>\n",
       "      <td>38.187063</td>\n",
       "      <td>-0.014583</td>\n",
       "      <td>-0.026767</td>\n",
       "      <td>0</td>\n",
       "      <td>0</td>\n",
       "    </tr>\n",
       "    <tr>\n",
       "      <th>...</th>\n",
       "      <td>...</td>\n",
       "      <td>...</td>\n",
       "      <td>...</td>\n",
       "      <td>...</td>\n",
       "      <td>...</td>\n",
       "      <td>...</td>\n",
       "      <td>...</td>\n",
       "      <td>...</td>\n",
       "      <td>...</td>\n",
       "      <td>...</td>\n",
       "      <td>...</td>\n",
       "      <td>...</td>\n",
       "      <td>...</td>\n",
       "      <td>...</td>\n",
       "      <td>...</td>\n",
       "      <td>...</td>\n",
       "      <td>...</td>\n",
       "    </tr>\n",
       "    <tr>\n",
       "      <th>51222</th>\n",
       "      <td>XQCWLZ-R</td>\n",
       "      <td>2007-10-31</td>\n",
       "      <td>Tupperware reports Q3 Earnings Per Share $0.37 ex-items vs Reuters consensus $0.21</td>\n",
       "      <td>2860602</td>\n",
       "      <td>XQCWLZ-R</td>\n",
       "      <td>0.691372</td>\n",
       "      <td>22.945748</td>\n",
       "      <td>2.229753e+06</td>\n",
       "      <td>Miscellaneous Manufacturing</td>\n",
       "      <td>Producer Manufacturing</td>\n",
       "      <td>-0.397318</td>\n",
       "      <td>0012KJ-E</td>\n",
       "      <td>15.864041</td>\n",
       "      <td>0.033425</td>\n",
       "      <td>0.118784</td>\n",
       "      <td>1</td>\n",
       "      <td>1</td>\n",
       "    </tr>\n",
       "    <tr>\n",
       "      <th>51223</th>\n",
       "      <td>XQCWLZ-R</td>\n",
       "      <td>2007-11-28</td>\n",
       "      <td>Tupperware added to Focus List at JPMorgan</td>\n",
       "      <td>2860610</td>\n",
       "      <td>XQCWLZ-R</td>\n",
       "      <td>0.677874</td>\n",
       "      <td>22.386406</td>\n",
       "      <td>2.169622e+06</td>\n",
       "      <td>Miscellaneous Manufacturing</td>\n",
       "      <td>Producer Manufacturing</td>\n",
       "      <td>-0.429549</td>\n",
       "      <td>0012KJ-E</td>\n",
       "      <td>15.175167</td>\n",
       "      <td>0.088400</td>\n",
       "      <td>-0.020985</td>\n",
       "      <td>1</td>\n",
       "      <td>0</td>\n",
       "    </tr>\n",
       "    <tr>\n",
       "      <th>51224</th>\n",
       "      <td>XQCWLZ-R</td>\n",
       "      <td>2008-02-06</td>\n",
       "      <td>Tupperware reports Q4 adjusted Earnings Per Share $0.93 vs Reuters $0.80</td>\n",
       "      <td>2860632</td>\n",
       "      <td>XQCWLZ-R</td>\n",
       "      <td>0.683107</td>\n",
       "      <td>22.647663</td>\n",
       "      <td>2.180711e+06</td>\n",
       "      <td>Miscellaneous Manufacturing</td>\n",
       "      <td>Producer Manufacturing</td>\n",
       "      <td>-0.706312</td>\n",
       "      <td>0012KJ-E</td>\n",
       "      <td>15.470772</td>\n",
       "      <td>0.390062</td>\n",
       "      <td>0.116768</td>\n",
       "      <td>1</td>\n",
       "      <td>1</td>\n",
       "    </tr>\n",
       "    <tr>\n",
       "      <th>51225</th>\n",
       "      <td>XQDTCV-R</td>\n",
       "      <td>2006-11-29</td>\n",
       "      <td>Katy Industries divests UK plastics unit</td>\n",
       "      <td>2861659</td>\n",
       "      <td>XQDTCV-R</td>\n",
       "      <td>0.000817</td>\n",
       "      <td>24989.189717</td>\n",
       "      <td>1.326832e+10</td>\n",
       "      <td>Major Telecommunications</td>\n",
       "      <td>Communications</td>\n",
       "      <td>-0.521621</td>\n",
       "      <td>05DZG9-E</td>\n",
       "      <td>20.412598</td>\n",
       "      <td>-0.016978</td>\n",
       "      <td>0.040405</td>\n",
       "      <td>0</td>\n",
       "      <td>1</td>\n",
       "    </tr>\n",
       "    <tr>\n",
       "      <th>51226</th>\n",
       "      <td>XQDTCV-R</td>\n",
       "      <td>2007-04-11</td>\n",
       "      <td>NYSE to suspend trading in Katy Industries prior to the open on 13-Apr due to market cap</td>\n",
       "      <td>2861754</td>\n",
       "      <td>XQDTCV-R</td>\n",
       "      <td>0.000798</td>\n",
       "      <td>22280.926299</td>\n",
       "      <td>1.136685e+10</td>\n",
       "      <td>Major Telecommunications</td>\n",
       "      <td>Communications</td>\n",
       "      <td>-0.484581</td>\n",
       "      <td>05DZG9-E</td>\n",
       "      <td>17.783014</td>\n",
       "      <td>-0.002041</td>\n",
       "      <td>-0.033842</td>\n",
       "      <td>0</td>\n",
       "      <td>0</td>\n",
       "    </tr>\n",
       "  </tbody>\n",
       "</table>\n",
       "<p>51227 rows × 17 columns</p>\n",
       "</div>"
      ],
      "text/plain": [
       "         SYMBOL       DATE  \\\n",
       "0      B00M5L-R 2006-10-19   \n",
       "1      B00M5L-R 2006-10-26   \n",
       "2      B00M5L-R 2006-11-02   \n",
       "3      B00M5L-R 2007-02-22   \n",
       "4      B00M5L-R 2007-03-01   \n",
       "...         ...        ...   \n",
       "51222  XQCWLZ-R 2007-10-31   \n",
       "51223  XQCWLZ-R 2007-11-28   \n",
       "51224  XQCWLZ-R 2008-02-06   \n",
       "51225  XQDTCV-R 2006-11-29   \n",
       "51226  XQDTCV-R 2007-04-11   \n",
       "\n",
       "                                                                                                                                            headline  \\\n",
       "0                                                                                  Ultra Petroleum reports share repurchase plan, updates operations   \n",
       "1                                                                      Ultra Petroleum provides update from development projects in Bohai Bay, China   \n",
       "2                                                                     Ultra Petroleum reports Q3 Earnings Per Share $0.33 vs Reuters consensus $0.33   \n",
       "3      Ultra Petroleum reports Q4 Earnings Per Share $0.38 vs Reuters consensus $0.38; Ultra Petroleum upgraded to buy from neutral at Goldman Sachs   \n",
       "4                                                                           Ultra Petroleum estimates f07 production guidance of 110/bcfe--Bloomberg   \n",
       "...                                                                                                                                              ...   \n",
       "51222                                                             Tupperware reports Q3 Earnings Per Share $0.37 ex-items vs Reuters consensus $0.21   \n",
       "51223                                                                                                     Tupperware added to Focus List at JPMorgan   \n",
       "51224                                                                       Tupperware reports Q4 adjusted Earnings Per Share $0.93 vs Reuters $0.80   \n",
       "51225                                                                                                       Katy Industries divests UK plastics unit   \n",
       "51226                                                       NYSE to suspend trading in Katy Industries prior to the open on 13-Apr due to market cap   \n",
       "\n",
       "         index  SYMBOL-R  exch_rate_sec_eur  p_price_adj_split_spinoff_div  \\\n",
       "0            7  B00M5L-R           0.793021                      53.320000   \n",
       "1           12  B00M5L-R           0.787588                      55.700000   \n",
       "2           17  B00M5L-R           0.783085                      51.490000   \n",
       "3           97  B00M5L-R           0.761789                      50.870000   \n",
       "4          102  B00M5L-R           0.759186                      50.300000   \n",
       "...        ...       ...                ...                            ...   \n",
       "51222  2860602  XQCWLZ-R           0.691372                      22.945748   \n",
       "51223  2860610  XQCWLZ-R           0.677874                      22.386406   \n",
       "51224  2860632  XQCWLZ-R           0.683107                      22.647663   \n",
       "51225  2861659  XQDTCV-R           0.000817                   24989.189717   \n",
       "51226  2861754  XQDTCV-R           0.000798                   22280.926299   \n",
       "\n",
       "       DES_MCAP_CCY             factset_industry          factset_sector  \\\n",
       "0      8.114611e+06         Oil & Gas Production         Energy Minerals   \n",
       "1      8.476816e+06         Oil & Gas Production         Energy Minerals   \n",
       "2      7.836109e+06         Oil & Gas Production         Energy Minerals   \n",
       "3      7.729747e+06         Oil & Gas Production         Energy Minerals   \n",
       "4      7.641626e+06         Oil & Gas Production         Energy Minerals   \n",
       "...             ...                          ...                     ...   \n",
       "51222  2.229753e+06  Miscellaneous Manufacturing  Producer Manufacturing   \n",
       "51223  2.169622e+06  Miscellaneous Manufacturing  Producer Manufacturing   \n",
       "51224  2.180711e+06  Miscellaneous Manufacturing  Producer Manufacturing   \n",
       "51225  1.326832e+10     Major Telecommunications          Communications   \n",
       "51226  1.136685e+10     Major Telecommunications          Communications   \n",
       "\n",
       "       DES_BETA_ADJ_104W factset_entity_id  adj_price    RET_5D   RET_10D  \\\n",
       "0              -1.535250          0039F1-E  42.283902  0.097439       NaN   \n",
       "1              -1.565611          0039F1-E  43.868630  0.037478  0.138569   \n",
       "2              -1.645192          0039F1-E  40.321065 -0.080868 -0.046420   \n",
       "3              -1.531483          0039F1-E  38.752190 -0.012364 -0.018127   \n",
       "4              -1.499946          0039F1-E  38.187063 -0.014583 -0.026767   \n",
       "...                  ...               ...        ...       ...       ...   \n",
       "51222          -0.397318          0012KJ-E  15.864041  0.033425  0.118784   \n",
       "51223          -0.429549          0012KJ-E  15.175167  0.088400 -0.020985   \n",
       "51224          -0.706312          0012KJ-E  15.470772  0.390062  0.116768   \n",
       "51225          -0.521621          05DZG9-E  20.412598 -0.016978  0.040405   \n",
       "51226          -0.484581          05DZG9-E  17.783014 -0.002041 -0.033842   \n",
       "\n",
       "       RET_5D_pos  RET_10D_pos  \n",
       "0               1            0  \n",
       "1               1            1  \n",
       "2               0            0  \n",
       "3               0            0  \n",
       "4               0            0  \n",
       "...           ...          ...  \n",
       "51222           1            1  \n",
       "51223           1            0  \n",
       "51224           1            1  \n",
       "51225           0            1  \n",
       "51226           0            0  \n",
       "\n",
       "[51227 rows x 17 columns]"
      ]
     },
     "execution_count": 47,
     "metadata": {},
     "output_type": "execute_result"
    }
   ],
   "source": [
    "headlines_merged_df2 = headlines_merged_df.reset_index().merge(dfprice, left_on = [\"SYMBOL\",\"DATE\"] , right_on = [\"SYMBOL-R\", \"DATE\"] ,how = \"inner\")\n",
    "headlines_merged_df2"
   ]
  },
  {
   "cell_type": "code",
   "execution_count": 43,
   "metadata": {},
   "outputs": [
    {
     "name": "stdout",
     "output_type": "stream",
     "text": [
      "number of symbols in intersection 6367\n",
      "number of symbols in df 11100\n",
      "ratio of symbols in intersection to df 0.57\n"
     ]
    }
   ],
   "source": [
    "intersect = (set(headlines_merged_df.index.get_level_values(0)).intersection(set(dfprice[\"SYMBOL-R\"].unique())).__len__())\n",
    "print(f\"number of symbols in intersection\", intersect)\n",
    "print(f\"number of symbols in df\", dfnews.index.get_level_values(0).nunique())\n",
    "print(f\"ratio of symbols in intersection to df {intersect/dfnews.index.get_level_values(0).nunique():.2f}\")"
   ]
  },
  {
   "cell_type": "code",
   "execution_count": 48,
   "metadata": {},
   "outputs": [
    {
     "name": "stdout",
     "output_type": "stream",
     "text": [
      "rows final vs initial 0.08\n"
     ]
    }
   ],
   "source": [
    "print(f\"rows final vs initial {headlines_merged_df2.shape[0]/headlines_merged_df.shape[0]:.2f}\")\n",
    "\n"
   ]
  },
  {
   "cell_type": "code",
   "execution_count": 49,
   "metadata": {},
   "outputs": [],
   "source": [
    "write_headlines_to_file(headlines_merged_df2,  filepath = \"headline_merged.txt\")"
   ]
  },
  {
   "cell_type": "code",
   "execution_count": 51,
   "metadata": {},
   "outputs": [
    {
     "name": "stdout",
     "output_type": "stream",
     "text": [
      "shape of final df (51227, 17)\n",
      "number of symbols in df 11100\n",
      "number of unique dates in df 4333\n",
      "min date in df 2003-04-11 00:00:00\n",
      "max date in df 2019-12-31 00:00:00\n"
     ]
    }
   ],
   "source": [
    "headlines_merged_df2.to_parquet(\n",
    "    DATA_FOLDER / \"headlines_merged_v5.parquet\"\n",
    ")\n",
    "print(f\"shape of final df {headlines_merged_df2.shape}\")\n",
    "print(f\"number of symbols in df\", dfnews.index.get_level_values(0).nunique())\n",
    "print(f\"number of unique dates in df\", dfnews.index.get_level_values(1).nunique())\n",
    "print(f\"min date in df\", dfnews.index.get_level_values(1).min())\n",
    "print(f\"max date in df\", dfnews.index.get_level_values(1).max())"
   ]
  },
  {
   "cell_type": "markdown",
   "metadata": {},
   "source": [
    "### Extracting Company Name"
   ]
  },
  {
   "cell_type": "code",
   "execution_count": 520,
   "metadata": {},
   "outputs": [],
   "source": [
    "if \"news_pickle\" in locals():\n",
    "    news_pickle.head()\n",
    "    cols_remove = [\"all_factset_entity_id\", \"fds_country\",\"fds_subject\",\"fds_language\" ,\"reference_story_headline\",\t\"reference_story_id\", \"report_id\",\t\"sa_category\"\t,\"schema_version\",\t\"senti_headline\"\t\"senti_headline_no_ent\"\t\"story_body\"]\n",
    "    cols_keep = [col for col in news_pickle.columns if col not in cols_remove]\n",
    "    news_pickle = news_pickle[cols_keep]\n"
   ]
  },
  {
   "cell_type": "markdown",
   "metadata": {},
   "source": [
    "First Try\n",
    "- This does not work. It does not pick up every company name"
   ]
  },
  {
   "cell_type": "code",
   "execution_count": 211,
   "metadata": {},
   "outputs": [
    {
     "name": "stdout",
     "output_type": "stream",
     "text": [
      "News: Aker BP releases presentation material in connection with its Capital Markets Day\n",
      "Company: Capital Markets Day\n",
      "--------------------------------------------------\n",
      "News: Ineos said to seek new terms for ConocoPhillips North Sea assets\n",
      "Company: Ineos, ConocoPhillips North Sea\n",
      "--------------------------------------------------\n",
      "News: Mitsubishi Electric reports FY Earnings Per Share ¥109.32 vs FactSet ¥95.62\n",
      "Company: Mitsubishi Electric, FY Earnings Per Share, FactSet\n",
      "--------------------------------------------------\n",
      "News: ArQule reports Q1 Earnings Per Share ($0.09) vs FactSet ($0.08)\n",
      "Company: ArQule, FactSet\n",
      "--------------------------------------------------\n"
     ]
    }
   ],
   "source": [
    "import spacy\n",
    "\n",
    "# Load the spaCy model\n",
    "nlp = spacy.load(\"en_core_web_sm\")\n",
    "\n",
    "# List of news headlines\n",
    "news_list = [\n",
    "    \"Aker BP releases presentation material in connection with its Capital Markets Day\",\n",
    "    \"Ineos said to seek new terms for ConocoPhillips North Sea assets\",\n",
    "    \"Mitsubishi Electric reports FY Earnings Per Share ¥109.32 vs FactSet ¥95.62\",\n",
    "    \"ArQule reports Q1 Earnings Per Share ($0.09) vs FactSet ($0.08)\"\n",
    "]\n",
    "\n",
    "def extract_company_name(news):\n",
    "    doc = nlp(news)\n",
    "    # Extract organizations from named entities and return them\n",
    "    organizations = [ent.text for ent in doc.ents if ent.label_ == \"ORG\"]\n",
    "    return ', '.join(organizations)  # Join multiple organizations with comma, if needed\n",
    "\n",
    "# Extract company names for each news item\n",
    "company_names = [extract_company_name(news) for news in news_list]\n",
    "for news, company in zip(news_list, company_names):\n",
    "    print(f\"News: {news}\\nCompany: {company}\\n{'-'*50}\")\n",
    "\n"
   ]
  },
  {
   "cell_type": "code",
   "execution_count": null,
   "metadata": {},
   "outputs": [],
   "source": [
    "write_headlines_to_file(dfnews= dfnews, x_col = \"headline\", filepath = ROOT_DIR / \"data_preprocess\"/ \"news_headlines_v5.txt\", limit = 1000000, step = 100, keep_date=False)"
   ]
  },
  {
   "cell_type": "markdown",
   "metadata": {},
   "source": [
    "Second Try \n",
    "- This works, by picking up any Named Entity (Named Entity Recognition)"
   ]
  },
  {
   "cell_type": "code",
   "execution_count": 527,
   "metadata": {},
   "outputs": [],
   "source": [
    "# get the first 100 symbols \n",
    "symbols = dfnews.index.get_level_values(0).unique()[:100]\n",
    "dfnews1 = dfnews.loc[dfnews.index.get_level_values(0).isin(symbols)]"
   ]
  },
  {
   "cell_type": "code",
   "execution_count": 741,
   "metadata": {},
   "outputs": [],
   "source": [
    "#dfnews is first 10 unique symbols of dfnews\n",
    "# dfnews = dfnews.reset_index().set_index(\"SYMBOL\").loc[dfnews.index.get_level_values(0).unique()[:30]]\n",
    "\n",
    "\n",
    "dfnews = dfnews.reset_index().set_index([\"SYMBOL\",\"DATE\"]).sort_index()\n",
    "import spacy\n",
    "\n",
    "nlp = spacy.load('en_core_web_sm')\n",
    "from tqdm import tqdm\n",
    "\n",
    "def get_company_name(symboldf):\n",
    "    #symboldf is the result of the groupby SYMBOL function\n",
    "    \n",
    "    full_text_symbol = \". \".join(symboldf[\"headline\"].values)\n",
    "    #NER \n",
    "    compounds = []\n",
    "    doc = nlp(full_text_symbol)\n",
    "    # Extract compound nouns using noun chunks\n",
    "    for chunk in doc.noun_chunks:\n",
    "        compounds.append(chunk.text)\n",
    "\n",
    "    from collections import Counter\n",
    "    # Extract compound tokens\n",
    "    # Count the most common tokens\n",
    "    return next(filter(lambda x: len(x[0]) > 2, Counter(compounds).most_common(5)))[0]\n",
    "    \n"
   ]
  },
  {
   "cell_type": "code",
   "execution_count": 747,
   "metadata": {},
   "outputs": [],
   "source": [
    "dfnews.to_parquet(ROOT_DIR/ \"temp/data_v5_company_name.parquet\")\n"
   ]
  },
  {
   "cell_type": "code",
   "execution_count": 757,
   "metadata": {},
   "outputs": [
    {
     "name": "stdout",
     "output_type": "stream",
     "text": [
      "/mnt/nvme0n1p1/LLM_project2\n",
      "/mnt/nvme0n1p1\n",
      "/mnt\n",
      "/\n",
      "/mnt/nvme0n1p1/LLM_project2/data_preprocess\n"
     ]
    }
   ],
   "source": [
    "from itertools import chain\n",
    "for k in chain(Path().absolute().parents,[Path(os.getcwd())]):\n",
    "    print(k)"
   ]
  },
  {
   "cell_type": "code",
   "execution_count": 758,
   "metadata": {},
   "outputs": [
    {
     "name": "stdout",
     "output_type": "stream",
     "text": [
      "Overwriting data_v5_company_name_operation.py\n"
     ]
    }
   ],
   "source": [
    "%%writefile data_v5_company_name_operation.py\n",
    "import os\n",
    "import pandas as pd\n",
    "import numpy as np\n",
    "from pathlib import Path\n",
    "from itertools import chain\n",
    "ROOT_DIR = next(filter(lambda s: \"LLM\" in s.name,chain(Path().absolute().parents,[Path(os.getcwd())])), None)\n",
    "print(f\"ROOT_DIR {ROOT_DIR}\")\n",
    "import configparser\n",
    "import matplotlib.pyplot as plt\n",
    "config = configparser.ConfigParser()\n",
    "config.read(ROOT_DIR/'config.ini')\n",
    "DATA_FOLDER = Path(config.get(\"paths\",\"path_data\"))\n",
    "print(f\"DATA_FOLDER {DATA_FOLDER}\")\n",
    "assert os.path.isdir(DATA_FOLDER)\n",
    "assert os.path.isdir(ROOT_DIR)\n",
    "import sys \n",
    "sys.path.append(str(ROOT_DIR))\n",
    "from pathlib import Path\n",
    "from tqdm import tqdm\n",
    "import spacy\n",
    "from collections import Counter\n",
    "from utils.io_utils import write_headlines_to_file\n",
    "nlp = spacy.load('en_core_web_sm')\n",
    "def get_company_name(symboldf):\n",
    "    #symboldf is the result of the groupby SYMBOL function\n",
    "    \n",
    "    full_text_symbol = \". \".join(symboldf[\"headline\"].values)\n",
    "    #NER \n",
    "    compounds = []\n",
    "    doc = nlp(full_text_symbol)\n",
    "    # Extract compound nouns using noun chunks\n",
    "    for chunk in doc.noun_chunks:\n",
    "        compounds.append(chunk.text)\n",
    "\n",
    "    # Extract compound tokens\n",
    "    # Count the most common tokens\n",
    "    return next(filter(lambda x: len(x[0]) > 2, Counter(compounds).most_common(5)))[0]\n",
    "\n",
    "if __name__==\"__main__\":  \n",
    "    dfnews=  pd.read_parquet(ROOT_DIR/ \"temp/data_v5_company_name.parquet\")\n",
    "    tqdm.pandas()\n",
    "    mapping = dfnews.groupby(\"SYMBOL\").progress_apply(get_company_name) #each symbol gets a mapping\n",
    "    dfnews[\"company_name\"] = dfnews.index.get_level_values(0).map(mapping)\n",
    "    # save the temp to temp/data_v5_company_name.parquet\n",
    "    os.remove(ROOT_DIR/ \"temp/data_v5_company_name.parquet\")\n",
    "    dfnews.to_parquet(ROOT_DIR/ \"temp/data_v5_company_name_done.parquet\")\n",
    "    write_headlines_to_file(dfnews= dfnews, x_col = \"headline\", add_cols=[\"company_name\"],filepath = ROOT_DIR / \"data_preprocess\"/ \"news_headlines_v5_company_name.txt\", limit = 1000000, step = 100, keep_date=False)\n"
   ]
  },
  {
   "cell_type": "code",
   "execution_count": null,
   "metadata": {},
   "outputs": [],
   "source": [
    "from data_v5_company_name_operation import get_company_name"
   ]
  },
  {
   "cell_type": "code",
   "execution_count": 660,
   "metadata": {},
   "outputs": [],
   "source": [
    "gen = gen_news(dfnews, cols_add = [\"company_name\"])"
   ]
  },
  {
   "cell_type": "code",
   "execution_count": 677,
   "metadata": {},
   "outputs": [
    {
     "data": {
      "text/html": [
       "<div>\n",
       "<style scoped>\n",
       "    .dataframe tbody tr th:only-of-type {\n",
       "        vertical-align: middle;\n",
       "    }\n",
       "\n",
       "    .dataframe tbody tr th {\n",
       "        vertical-align: top;\n",
       "    }\n",
       "\n",
       "    .dataframe thead th {\n",
       "        text-align: right;\n",
       "    }\n",
       "</style>\n",
       "<table border=\"1\" class=\"dataframe\">\n",
       "  <thead>\n",
       "    <tr style=\"text-align: right;\">\n",
       "      <th></th>\n",
       "      <th>DATE</th>\n",
       "      <th>headline</th>\n",
       "      <th>company_name</th>\n",
       "    </tr>\n",
       "  </thead>\n",
       "  <tbody>\n",
       "    <tr>\n",
       "      <th>160</th>\n",
       "      <td>2004-12-08</td>\n",
       "      <td>OSTK downgraded to hold from buy at Legg Mason</td>\n",
       "      <td>Overstock.com</td>\n",
       "    </tr>\n",
       "    <tr>\n",
       "      <th>161</th>\n",
       "      <td>2004-12-30</td>\n",
       "      <td>OSTK remains optimistic on future growth, reports Salt Lake Tribune</td>\n",
       "      <td>Overstock.com</td>\n",
       "    </tr>\n",
       "    <tr>\n",
       "      <th>162</th>\n",
       "      <td>2004-12-30</td>\n",
       "      <td>Follow-up: OSTK CEO Patrick Byrne's comments in Salt Lake City Tribune</td>\n",
       "      <td>Overstock.com</td>\n",
       "    </tr>\n",
       "    <tr>\n",
       "      <th>163</th>\n",
       "      <td>2005-01-13</td>\n",
       "      <td>OSTK trading off recent lows, increase in EBAY listing fees cited</td>\n",
       "      <td>Overstock.com</td>\n",
       "    </tr>\n",
       "    <tr>\n",
       "      <th>164</th>\n",
       "      <td>2005-01-20</td>\n",
       "      <td>OSTK current auction listings on website listed at 30,773</td>\n",
       "      <td>Overstock.com</td>\n",
       "    </tr>\n",
       "    <tr>\n",
       "      <th>165</th>\n",
       "      <td>2005-01-20</td>\n",
       "      <td>OSTK reports increase in auction listings since EBAY raised listing prices; ...</td>\n",
       "      <td>Overstock.com</td>\n",
       "    </tr>\n",
       "    <tr>\n",
       "      <th>166</th>\n",
       "      <td>2005-01-27</td>\n",
       "      <td>OSTK announces 3-yr, up to $50M share repurchase plan</td>\n",
       "      <td>Overstock.com</td>\n",
       "    </tr>\n",
       "    <tr>\n",
       "      <th>167</th>\n",
       "      <td>2005-02-03</td>\n",
       "      <td>OSTK considering shelf registration for up to $500M of debt and equity</td>\n",
       "      <td>Overstock.com</td>\n",
       "    </tr>\n",
       "    <tr>\n",
       "      <th>168</th>\n",
       "      <td>2005-02-03</td>\n",
       "      <td>OSTK initiated market perform with a $45 target at Friedman Billings</td>\n",
       "      <td>Overstock.com</td>\n",
       "    </tr>\n",
       "    <tr>\n",
       "      <th>169</th>\n",
       "      <td>2005-03-02</td>\n",
       "      <td>Piper Jaffray comments on OSTK promotion; says revenue growth will be key to...</td>\n",
       "      <td>Overstock.com</td>\n",
       "    </tr>\n",
       "  </tbody>\n",
       "</table>\n",
       "</div>"
      ],
      "text/plain": [
       "          DATE  \\\n",
       "160 2004-12-08   \n",
       "161 2004-12-30   \n",
       "162 2004-12-30   \n",
       "163 2005-01-13   \n",
       "164 2005-01-20   \n",
       "165 2005-01-20   \n",
       "166 2005-01-27   \n",
       "167 2005-02-03   \n",
       "168 2005-02-03   \n",
       "169 2005-03-02   \n",
       "\n",
       "                                                                            headline  \\\n",
       "160                                   OSTK downgraded to hold from buy at Legg Mason   \n",
       "161              OSTK remains optimistic on future growth, reports Salt Lake Tribune   \n",
       "162           Follow-up: OSTK CEO Patrick Byrne's comments in Salt Lake City Tribune   \n",
       "163                OSTK trading off recent lows, increase in EBAY listing fees cited   \n",
       "164                        OSTK current auction listings on website listed at 30,773   \n",
       "165  OSTK reports increase in auction listings since EBAY raised listing prices; ...   \n",
       "166                            OSTK announces 3-yr, up to $50M share repurchase plan   \n",
       "167           OSTK considering shelf registration for up to $500M of debt and equity   \n",
       "168             OSTK initiated market perform with a $45 target at Friedman Billings   \n",
       "169  Piper Jaffray comments on OSTK promotion; says revenue growth will be key to...   \n",
       "\n",
       "      company_name  \n",
       "160  Overstock.com  \n",
       "161  Overstock.com  \n",
       "162  Overstock.com  \n",
       "163  Overstock.com  \n",
       "164  Overstock.com  \n",
       "165  Overstock.com  \n",
       "166  Overstock.com  \n",
       "167  Overstock.com  \n",
       "168  Overstock.com  \n",
       "169  Overstock.com  "
      ]
     },
     "execution_count": 677,
     "metadata": {},
     "output_type": "execute_result"
    }
   ],
   "source": [
    "next(gen)"
   ]
  },
  {
   "cell_type": "markdown",
   "metadata": {},
   "source": [
    "### Try adding wikipedia Context \n",
    "\n",
    "\n"
   ]
  },
  {
   "cell_type": "code",
   "execution_count": 6,
   "metadata": {},
   "outputs": [],
   "source": [
    "path_dfnews_temp = ROOT_DIR/ \"temp/data_v5_company_name_done.parquet\"\n",
    "if path_dfnews_temp.exists():\n",
    "    dfnews = pd.read_parquet(path_dfnews_temp)\n"
   ]
  },
  {
   "cell_type": "code",
   "execution_count": 1073,
   "metadata": {},
   "outputs": [],
   "source": [
    "dfnews = dfnews.loc[dfnews.index.get_level_values(0).isin(dfnews.index.get_level_values(0).unique()[:100])] # REMOVE THIS CELL WHEN DONE DEBUGGING\n"
   ]
  },
  {
   "cell_type": "code",
   "execution_count": 1074,
   "metadata": {},
   "outputs": [
    {
     "data": {
      "text/plain": [
       "SYMBOL    DATE      \n",
       "B00FG1-R  2016-01-13                            PBF Logistics\n",
       "          2016-02-03                            PBF Logistics\n",
       "          2016-03-31                            PBF Logistics\n",
       "          2016-04-20                            PBF Logistics\n",
       "          2016-04-21                            PBF Logistics\n",
       "                                        ...                  \n",
       "B4QW3V-R  2019-06-28                                  Astaldi\n",
       "          2019-07-16                                  Astaldi\n",
       "          2019-07-17                                  Astaldi\n",
       "B4RX2T-R  2017-06-12    New York Times Sunday Edition Summary\n",
       "B4VZMC-R  2019-12-12                                  Kiniksa\n",
       "Name: company_name, Length: 8555, dtype: object"
      ]
     },
     "execution_count": 1074,
     "metadata": {},
     "output_type": "execute_result"
    }
   ],
   "source": [
    "dfnews.company_name"
   ]
  },
  {
   "cell_type": "code",
   "execution_count": 1075,
   "metadata": {},
   "outputs": [],
   "source": [
    "import wikipediaapi\n",
    "import spacy \n",
    "wiki_wiki = wikipediaapi.Wikipedia('DataV5', 'en')\n",
    "def get_summary_company_name(company_name):\n",
    "    nlp = spacy.load(\"en_core_web_sm\")\n",
    "    page_py = wiki_wiki.page(company_name)\n",
    "    page_summary =  ' '.join([sent.text for sent in nlp(page_py.summary).sents][:3])\n",
    "    if len(page_summary) < 5:\n",
    "        if \"Company\" not in company_name:\n",
    "            company_name = f\"{company_name} Company\"\n",
    "            print(f\"retrying with {company_name}\")\n",
    "            page_summary = get_summary_company_name(company_name)\n",
    "        else: \n",
    "            return \"\"\n",
    "    return page_summary\n"
   ]
  },
  {
   "cell_type": "code",
   "execution_count": 790,
   "metadata": {},
   "outputs": [
    {
     "name": "stderr",
     "output_type": "stream",
     "text": [
      "  0%|          | 0/296 [00:00<?, ?it/s]"
     ]
    },
    {
     "name": "stdout",
     "output_type": "stream",
     "text": [
      "retrying with PBF Logistics Company\n"
     ]
    },
    {
     "name": "stderr",
     "output_type": "stream",
     "text": [
      "  0%|          | 1/296 [00:00<04:30,  1.09it/s]"
     ]
    },
    {
     "name": "stdout",
     "output_type": "stream",
     "text": [
      "retrying with Ultra Petroleum Company\n"
     ]
    },
    {
     "name": "stderr",
     "output_type": "stream",
     "text": [
      "  3%|▎         | 8/296 [00:04<02:26,  1.97it/s]"
     ]
    },
    {
     "name": "stdout",
     "output_type": "stream",
     "text": [
      "retrying with ArQule Company\n"
     ]
    },
    {
     "name": "stderr",
     "output_type": "stream",
     "text": [
      "  4%|▎         | 11/296 [00:06<02:37,  1.81it/s]"
     ]
    },
    {
     "name": "stdout",
     "output_type": "stream",
     "text": [
      "retrying with AngioDynamics Company\n"
     ]
    },
    {
     "name": "stderr",
     "output_type": "stream",
     "text": [
      "  5%|▌         | 16/296 [00:09<02:30,  1.85it/s]"
     ]
    },
    {
     "name": "stdout",
     "output_type": "stream",
     "text": [
      "retrying with Good Foods Company\n"
     ]
    },
    {
     "name": "stderr",
     "output_type": "stream",
     "text": [
      "  7%|▋         | 20/296 [00:12<02:57,  1.55it/s]"
     ]
    },
    {
     "name": "stdout",
     "output_type": "stream",
     "text": [
      "retrying with Apollo Medical Company\n"
     ]
    },
    {
     "name": "stderr",
     "output_type": "stream",
     "text": [
      "  8%|▊         | 23/296 [00:14<02:44,  1.66it/s]"
     ]
    },
    {
     "name": "stdout",
     "output_type": "stream",
     "text": [
      "retrying with Astral Foods Company\n"
     ]
    },
    {
     "name": "stderr",
     "output_type": "stream",
     "text": [
      "  8%|▊         | 25/296 [00:15<02:50,  1.59it/s]"
     ]
    },
    {
     "name": "stdout",
     "output_type": "stream",
     "text": [
      "retrying with Ampco-Pittsburgh Company\n"
     ]
    },
    {
     "name": "stderr",
     "output_type": "stream",
     "text": [
      "  9%|▉         | 28/296 [00:17<02:50,  1.57it/s]"
     ]
    },
    {
     "name": "stdout",
     "output_type": "stream",
     "text": [
      "retrying with NewMarket Company\n"
     ]
    },
    {
     "name": "stderr",
     "output_type": "stream",
     "text": [
      " 10%|█         | 30/296 [00:19<02:52,  1.54it/s]"
     ]
    },
    {
     "name": "stdout",
     "output_type": "stream",
     "text": [
      "retrying with Paratek Pharmaceuticals Company\n"
     ]
    },
    {
     "name": "stderr",
     "output_type": "stream",
     "text": [
      " 12%|█▏        | 35/296 [00:22<02:24,  1.80it/s]"
     ]
    },
    {
     "name": "stdout",
     "output_type": "stream",
     "text": [
      "retrying with McGrath RentCorp Company\n"
     ]
    },
    {
     "name": "stderr",
     "output_type": "stream",
     "text": [
      " 12%|█▏        | 36/296 [00:22<02:53,  1.50it/s]"
     ]
    },
    {
     "name": "stdout",
     "output_type": "stream",
     "text": [
      "retrying with K Services Company\n"
     ]
    },
    {
     "name": "stderr",
     "output_type": "stream",
     "text": [
      " 12%|█▎        | 37/296 [00:23<03:13,  1.34it/s]"
     ]
    },
    {
     "name": "stdout",
     "output_type": "stream",
     "text": [
      "retrying with Two Harbors Investment Company\n"
     ]
    },
    {
     "name": "stderr",
     "output_type": "stream",
     "text": [
      " 13%|█▎        | 38/296 [00:24<03:27,  1.24it/s]"
     ]
    },
    {
     "name": "stdout",
     "output_type": "stream",
     "text": [
      "retrying with Cambium Learning Company\n"
     ]
    },
    {
     "name": "stderr",
     "output_type": "stream",
     "text": [
      " 13%|█▎        | 39/296 [00:25<03:35,  1.19it/s]"
     ]
    },
    {
     "name": "stdout",
     "output_type": "stream",
     "text": [
      "retrying with M6-Metropole Company\n"
     ]
    },
    {
     "name": "stderr",
     "output_type": "stream",
     "text": [
      " 14%|█▍        | 42/296 [00:27<02:48,  1.51it/s]"
     ]
    },
    {
     "name": "stdout",
     "output_type": "stream",
     "text": [
      "retrying with Li Ning alters strategy Company\n"
     ]
    },
    {
     "name": "stderr",
     "output_type": "stream",
     "text": [
      " 15%|█▍        | 43/296 [00:28<03:06,  1.36it/s]"
     ]
    },
    {
     "name": "stdout",
     "output_type": "stream",
     "text": [
      "retrying with Luther Burbank Corp. Company\n"
     ]
    },
    {
     "name": "stderr",
     "output_type": "stream",
     "text": [
      " 15%|█▍        | 44/296 [00:29<03:20,  1.26it/s]"
     ]
    },
    {
     "name": "stdout",
     "output_type": "stream",
     "text": [
      "retrying with Outdoor Channel Holdings Company\n"
     ]
    },
    {
     "name": "stderr",
     "output_type": "stream",
     "text": [
      " 15%|█▌        | 45/296 [00:30<03:28,  1.20it/s]"
     ]
    },
    {
     "name": "stdout",
     "output_type": "stream",
     "text": [
      "retrying with American Dairy Company\n"
     ]
    },
    {
     "name": "stderr",
     "output_type": "stream",
     "text": [
      " 16%|█▌        | 47/296 [00:31<03:06,  1.33it/s]"
     ]
    },
    {
     "name": "stdout",
     "output_type": "stream",
     "text": [
      "retrying with Republic First Company\n"
     ]
    },
    {
     "name": "stderr",
     "output_type": "stream",
     "text": [
      " 16%|█▌        | 48/296 [00:32<03:17,  1.25it/s]"
     ]
    },
    {
     "name": "stdout",
     "output_type": "stream",
     "text": [
      "retrying with Skyline Champion Corp. Company\n"
     ]
    },
    {
     "name": "stderr",
     "output_type": "stream",
     "text": [
      " 17%|█▋        | 49/296 [00:33<03:25,  1.20it/s]"
     ]
    },
    {
     "name": "stdout",
     "output_type": "stream",
     "text": [
      "retrying with Parsley Energy Company\n"
     ]
    },
    {
     "name": "stderr",
     "output_type": "stream",
     "text": [
      " 17%|█▋        | 50/296 [00:34<03:31,  1.16it/s]"
     ]
    },
    {
     "name": "stdout",
     "output_type": "stream",
     "text": [
      "retrying with AtriCure Company\n"
     ]
    },
    {
     "name": "stderr",
     "output_type": "stream",
     "text": [
      " 17%|█▋        | 51/296 [00:35<03:35,  1.14it/s]"
     ]
    },
    {
     "name": "stdout",
     "output_type": "stream",
     "text": [
      "retrying with Krystal Biotech Company\n"
     ]
    },
    {
     "name": "stderr",
     "output_type": "stream",
     "text": [
      " 18%|█▊        | 53/296 [00:36<03:07,  1.30it/s]"
     ]
    },
    {
     "name": "stdout",
     "output_type": "stream",
     "text": [
      "retrying with ABB Limited Company\n"
     ]
    },
    {
     "name": "stderr",
     "output_type": "stream",
     "text": [
      " 18%|█▊        | 54/296 [00:37<03:17,  1.23it/s]"
     ]
    },
    {
     "name": "stdout",
     "output_type": "stream",
     "text": [
      "retrying with RAK Petroleum Company\n"
     ]
    },
    {
     "name": "stderr",
     "output_type": "stream",
     "text": [
      " 19%|█▊        | 55/296 [00:38<03:23,  1.18it/s]"
     ]
    },
    {
     "name": "stdout",
     "output_type": "stream",
     "text": [
      "retrying with all issued and outstanding shares Company\n"
     ]
    },
    {
     "name": "stderr",
     "output_type": "stream",
     "text": [
      " 19%|█▉        | 56/296 [00:39<03:31,  1.13it/s]"
     ]
    },
    {
     "name": "stdout",
     "output_type": "stream",
     "text": [
      "retrying with QMS Media Company\n"
     ]
    },
    {
     "name": "stderr",
     "output_type": "stream",
     "text": [
      " 21%|██▏       | 63/296 [00:43<02:13,  1.75it/s]"
     ]
    },
    {
     "name": "stdout",
     "output_type": "stream",
     "text": [
      "retrying with Japan banks Company\n"
     ]
    },
    {
     "name": "stderr",
     "output_type": "stream",
     "text": [
      " 22%|██▏       | 64/296 [00:44<02:37,  1.48it/s]"
     ]
    },
    {
     "name": "stdout",
     "output_type": "stream",
     "text": [
      "retrying with Sage Therapeutics Company\n"
     ]
    },
    {
     "name": "stderr",
     "output_type": "stream",
     "text": [
      " 22%|██▏       | 65/296 [00:45<02:54,  1.32it/s]"
     ]
    },
    {
     "name": "stdout",
     "output_type": "stream",
     "text": [
      "retrying with Valora Holding Company\n"
     ]
    },
    {
     "name": "stderr",
     "output_type": "stream",
     "text": [
      " 22%|██▏       | 66/296 [00:46<03:05,  1.24it/s]"
     ]
    },
    {
     "name": "stdout",
     "output_type": "stream",
     "text": [
      "retrying with XPEL Company\n"
     ]
    },
    {
     "name": "stderr",
     "output_type": "stream",
     "text": [
      " 23%|██▎       | 68/296 [00:47<02:49,  1.34it/s]"
     ]
    },
    {
     "name": "stdout",
     "output_type": "stream",
     "text": [
      "retrying with Peregrine Pharmaceuticals Company\n"
     ]
    },
    {
     "name": "stderr",
     "output_type": "stream",
     "text": [
      " 24%|██▍       | 72/296 [00:50<02:17,  1.63it/s]"
     ]
    },
    {
     "name": "stdout",
     "output_type": "stream",
     "text": [
      "retrying with Cannae Holdings, Inc. Company\n"
     ]
    },
    {
     "name": "stderr",
     "output_type": "stream",
     "text": [
      " 25%|██▌       | 75/296 [00:52<02:13,  1.66it/s]"
     ]
    },
    {
     "name": "stdout",
     "output_type": "stream",
     "text": [
      "retrying with Chesapeake Lodging Trust Company\n"
     ]
    },
    {
     "name": "stderr",
     "output_type": "stream",
     "text": [
      " 26%|██▌       | 77/296 [00:54<02:43,  1.34it/s]"
     ]
    },
    {
     "name": "stdout",
     "output_type": "stream",
     "text": [
      "retrying with ZTO Express Company\n"
     ]
    },
    {
     "name": "stderr",
     "output_type": "stream",
     "text": [
      " 28%|██▊       | 82/296 [00:57<01:59,  1.79it/s]"
     ]
    },
    {
     "name": "stdout",
     "output_type": "stream",
     "text": [
      "retrying with Carclo Company\n"
     ]
    },
    {
     "name": "stderr",
     "output_type": "stream",
     "text": [
      " 28%|██▊       | 84/296 [00:58<02:09,  1.63it/s]"
     ]
    },
    {
     "name": "stdout",
     "output_type": "stream",
     "text": [
      "retrying with Ziopharm Oncology Company\n"
     ]
    },
    {
     "name": "stderr",
     "output_type": "stream",
     "text": [
      " 29%|██▊       | 85/296 [00:59<02:29,  1.41it/s]"
     ]
    },
    {
     "name": "stdout",
     "output_type": "stream",
     "text": [
      "retrying with Novatek Microelectronics Corp. Company\n"
     ]
    },
    {
     "name": "stderr",
     "output_type": "stream",
     "text": [
      " 30%|██▉       | 88/296 [01:01<02:16,  1.53it/s]"
     ]
    },
    {
     "name": "stdout",
     "output_type": "stream",
     "text": [
      "retrying with Obagi Medical Products Company\n"
     ]
    },
    {
     "name": "stderr",
     "output_type": "stream",
     "text": [
      " 31%|███       | 91/296 [01:03<02:24,  1.42it/s]"
     ]
    },
    {
     "name": "stdout",
     "output_type": "stream",
     "text": [
      "retrying with Anoto Group Company\n"
     ]
    },
    {
     "name": "stderr",
     "output_type": "stream",
     "text": [
      " 32%|███▏      | 94/296 [01:05<02:14,  1.50it/s]"
     ]
    },
    {
     "name": "stdout",
     "output_type": "stream",
     "text": [
      "retrying with BlackPearl Resources Company\n"
     ]
    },
    {
     "name": "stderr",
     "output_type": "stream",
     "text": [
      " 32%|███▏      | 95/296 [01:06<02:29,  1.34it/s]"
     ]
    },
    {
     "name": "stdout",
     "output_type": "stream",
     "text": [
      "retrying with Sussex Bancorp Company\n"
     ]
    },
    {
     "name": "stderr",
     "output_type": "stream",
     "text": [
      " 32%|███▏      | 96/296 [01:07<02:39,  1.25it/s]"
     ]
    },
    {
     "name": "stdout",
     "output_type": "stream",
     "text": [
      "retrying with Applied Micro Company\n"
     ]
    },
    {
     "name": "stderr",
     "output_type": "stream",
     "text": [
      " 33%|███▎      | 98/296 [01:08<02:23,  1.38it/s]"
     ]
    },
    {
     "name": "stdout",
     "output_type": "stream",
     "text": [
      "retrying with New York Times Sunday Edition Summary Company\n"
     ]
    },
    {
     "name": "stderr",
     "output_type": "stream",
     "text": [
      " 33%|███▎      | 99/296 [01:09<02:33,  1.28it/s]"
     ]
    },
    {
     "name": "stdout",
     "output_type": "stream",
     "text": [
      "retrying with Kiniksa Company\n"
     ]
    },
    {
     "name": "stderr",
     "output_type": "stream",
     "text": [
      " 34%|███▍      | 102/296 [01:11<02:06,  1.53it/s]"
     ]
    },
    {
     "name": "stdout",
     "output_type": "stream",
     "text": [
      "retrying with Synlogic, Inc. Company\n"
     ]
    },
    {
     "name": "stderr",
     "output_type": "stream",
     "text": [
      " 35%|███▌      | 104/296 [01:13<02:04,  1.54it/s]"
     ]
    },
    {
     "name": "stdout",
     "output_type": "stream",
     "text": [
      "retrying with Jupai Holdings Company\n"
     ]
    },
    {
     "name": "stderr",
     "output_type": "stream",
     "text": [
      " 35%|███▌      | 105/296 [01:14<02:19,  1.37it/s]"
     ]
    },
    {
     "name": "stdout",
     "output_type": "stream",
     "text": [
      "retrying with Cotiviti Holdings Company\n"
     ]
    },
    {
     "name": "stderr",
     "output_type": "stream",
     "text": [
      " 36%|███▌      | 106/296 [01:14<02:28,  1.28it/s]"
     ]
    },
    {
     "name": "stdout",
     "output_type": "stream",
     "text": [
      "retrying with New China Life Insurance Co Company\n"
     ]
    },
    {
     "name": "stderr",
     "output_type": "stream",
     "text": [
      " 36%|███▌      | 107/296 [01:15<02:34,  1.22it/s]"
     ]
    },
    {
     "name": "stdout",
     "output_type": "stream",
     "text": [
      "retrying with Eiger BioPharmaceuticals Company\n"
     ]
    },
    {
     "name": "stderr",
     "output_type": "stream",
     "text": [
      " 37%|███▋      | 109/296 [01:17<02:16,  1.37it/s]"
     ]
    },
    {
     "name": "stdout",
     "output_type": "stream",
     "text": [
      "retrying with CPWR Company\n"
     ]
    },
    {
     "name": "stderr",
     "output_type": "stream",
     "text": [
      " 38%|███▊      | 112/296 [01:19<01:58,  1.55it/s]"
     ]
    },
    {
     "name": "stdout",
     "output_type": "stream",
     "text": [
      "retrying with Colony Starwood Homes Company\n"
     ]
    },
    {
     "name": "stderr",
     "output_type": "stream",
     "text": [
      " 41%|████      | 121/296 [01:24<01:29,  1.95it/s]"
     ]
    },
    {
     "name": "stdout",
     "output_type": "stream",
     "text": [
      "retrying with UNIQA Company\n"
     ]
    },
    {
     "name": "stderr",
     "output_type": "stream",
     "text": [
      " 41%|████      | 122/296 [01:25<01:50,  1.57it/s]"
     ]
    },
    {
     "name": "stdout",
     "output_type": "stream",
     "text": [
      "retrying with Maidenform Brands Company\n"
     ]
    },
    {
     "name": "stderr",
     "output_type": "stream",
     "text": [
      " 42%|████▏     | 124/296 [01:26<01:51,  1.55it/s]"
     ]
    },
    {
     "name": "stdout",
     "output_type": "stream",
     "text": [
      "retrying with (UK) Plc Company\n"
     ]
    },
    {
     "name": "stderr",
     "output_type": "stream",
     "text": [
      " 42%|████▏     | 125/296 [01:27<02:03,  1.38it/s]"
     ]
    },
    {
     "name": "stdout",
     "output_type": "stream",
     "text": [
      "retrying with OrganiGram Holdings, Inc. Company\n"
     ]
    },
    {
     "name": "stderr",
     "output_type": "stream",
     "text": [
      " 46%|████▌     | 135/296 [01:32<01:28,  1.81it/s]"
     ]
    },
    {
     "name": "stdout",
     "output_type": "stream",
     "text": [
      "retrying with Diaxonhit Company\n"
     ]
    },
    {
     "name": "stderr",
     "output_type": "stream",
     "text": [
      " 47%|████▋     | 140/296 [01:35<01:27,  1.78it/s]"
     ]
    },
    {
     "name": "stdout",
     "output_type": "stream",
     "text": [
      "retrying with Alexco Resource Company\n"
     ]
    },
    {
     "name": "stderr",
     "output_type": "stream",
     "text": [
      " 48%|████▊     | 141/296 [01:36<01:43,  1.50it/s]"
     ]
    },
    {
     "name": "stdout",
     "output_type": "stream",
     "text": [
      "retrying with Bluerock Residential Growth Company\n"
     ]
    },
    {
     "name": "stderr",
     "output_type": "stream",
     "text": [
      " 49%|████▊     | 144/296 [01:38<01:36,  1.58it/s]"
     ]
    },
    {
     "name": "stdout",
     "output_type": "stream",
     "text": [
      "retrying with Jastrzebska Company\n"
     ]
    },
    {
     "name": "stderr",
     "output_type": "stream",
     "text": [
      " 49%|████▉     | 145/296 [01:39<01:48,  1.39it/s]"
     ]
    },
    {
     "name": "stdout",
     "output_type": "stream",
     "text": [
      "retrying with Aldermore Group Company\n"
     ]
    },
    {
     "name": "stderr",
     "output_type": "stream",
     "text": [
      " 49%|████▉     | 146/296 [02:04<20:07,  8.05s/it]"
     ]
    },
    {
     "name": "stdout",
     "output_type": "stream",
     "text": [
      "retrying with Crestwood Midstream Partners LP Company\n"
     ]
    },
    {
     "name": "stderr",
     "output_type": "stream",
     "text": [
      " 50%|█████     | 149/296 [02:06<07:43,  3.15s/it]"
     ]
    },
    {
     "name": "stdout",
     "output_type": "stream",
     "text": [
      "retrying with The Cash Store Financial Services Company\n"
     ]
    },
    {
     "name": "stderr",
     "output_type": "stream",
     "text": [
      " 51%|█████     | 150/296 [02:07<06:02,  2.48s/it]"
     ]
    },
    {
     "name": "stdout",
     "output_type": "stream",
     "text": [
      "retrying with Astec Industries Company\n"
     ]
    },
    {
     "name": "stderr",
     "output_type": "stream",
     "text": [
      " 51%|█████     | 151/296 [02:08<04:52,  2.02s/it]"
     ]
    },
    {
     "name": "stdout",
     "output_type": "stream",
     "text": [
      "retrying with Barron's Asia Trader Company\n"
     ]
    },
    {
     "name": "stderr",
     "output_type": "stream",
     "text": [
      " 53%|█████▎    | 158/296 [02:12<01:29,  1.54it/s]"
     ]
    },
    {
     "name": "stdout",
     "output_type": "stream",
     "text": [
      "retrying with Alcoa Corp. Company\n"
     ]
    },
    {
     "name": "stderr",
     "output_type": "stream",
     "text": [
      " 54%|█████▍    | 161/296 [02:14<01:24,  1.61it/s]"
     ]
    },
    {
     "name": "stdout",
     "output_type": "stream",
     "text": [
      "retrying with Midea chairman/CEO Company\n"
     ]
    },
    {
     "name": "stderr",
     "output_type": "stream",
     "text": [
      " 55%|█████▍    | 162/296 [02:15<01:36,  1.38it/s]"
     ]
    },
    {
     "name": "stdout",
     "output_type": "stream",
     "text": [
      "retrying with Energous Corporation Company\n"
     ]
    },
    {
     "name": "stderr",
     "output_type": "stream",
     "text": [
      " 56%|█████▋    | 167/296 [02:18<01:12,  1.78it/s]"
     ]
    },
    {
     "name": "stdout",
     "output_type": "stream",
     "text": [
      "retrying with Seritage Growth Properties Company\n"
     ]
    },
    {
     "name": "stderr",
     "output_type": "stream",
     "text": [
      " 59%|█████▉    | 174/296 [02:22<01:02,  1.96it/s]"
     ]
    },
    {
     "name": "stdout",
     "output_type": "stream",
     "text": [
      "retrying with EPIQ Systems Company\n"
     ]
    },
    {
     "name": "stderr",
     "output_type": "stream",
     "text": [
      " 60%|██████    | 179/296 [02:25<01:06,  1.77it/s]"
     ]
    },
    {
     "name": "stdout",
     "output_type": "stream",
     "text": [
      "retrying with Genco Shipping Company\n"
     ]
    },
    {
     "name": "stderr",
     "output_type": "stream",
     "text": [
      " 61%|██████    | 181/296 [02:26<01:11,  1.61it/s]"
     ]
    },
    {
     "name": "stdout",
     "output_type": "stream",
     "text": [
      "retrying with Enerplus Corp Company\n"
     ]
    },
    {
     "name": "stderr",
     "output_type": "stream",
     "text": [
      " 62%|██████▏   | 184/296 [02:28<01:10,  1.58it/s]"
     ]
    },
    {
     "name": "stdout",
     "output_type": "stream",
     "text": [
      "retrying with Soffa Company\n"
     ]
    },
    {
     "name": "stderr",
     "output_type": "stream",
     "text": [
      " 62%|██████▎   | 185/296 [02:29<01:19,  1.40it/s]"
     ]
    },
    {
     "name": "stdout",
     "output_type": "stream",
     "text": [
      "retrying with aap Implantate Company\n"
     ]
    },
    {
     "name": "stderr",
     "output_type": "stream",
     "text": [
      " 63%|██████▎   | 186/296 [02:30<01:25,  1.28it/s]"
     ]
    },
    {
     "name": "stdout",
     "output_type": "stream",
     "text": [
      "retrying with PhotoCure Company\n"
     ]
    },
    {
     "name": "stderr",
     "output_type": "stream",
     "text": [
      " 63%|██████▎   | 187/296 [02:31<01:29,  1.22it/s]"
     ]
    },
    {
     "name": "stdout",
     "output_type": "stream",
     "text": [
      "retrying with Bohai Leasing Company\n"
     ]
    },
    {
     "name": "stderr",
     "output_type": "stream",
     "text": [
      " 64%|██████▎   | 188/296 [02:32<01:31,  1.18it/s]"
     ]
    },
    {
     "name": "stdout",
     "output_type": "stream",
     "text": [
      "retrying with Ur-Energy issues Company\n"
     ]
    },
    {
     "name": "stderr",
     "output_type": "stream",
     "text": [
      " 64%|██████▍   | 190/296 [02:33<01:19,  1.34it/s]"
     ]
    },
    {
     "name": "stdout",
     "output_type": "stream",
     "text": [
      "retrying with KalVista Pharmaceuticals Company\n"
     ]
    },
    {
     "name": "stderr",
     "output_type": "stream",
     "text": [
      " 66%|██████▌   | 195/296 [02:36<00:59,  1.70it/s]"
     ]
    },
    {
     "name": "stdout",
     "output_type": "stream",
     "text": [
      "retrying with China Yida Company\n"
     ]
    },
    {
     "name": "stderr",
     "output_type": "stream",
     "text": [
      " 66%|██████▌   | 196/296 [02:37<01:08,  1.47it/s]"
     ]
    },
    {
     "name": "stdout",
     "output_type": "stream",
     "text": [
      "retrying with Catering International Services Company\n"
     ]
    },
    {
     "name": "stderr",
     "output_type": "stream",
     "text": [
      " 67%|██████▋   | 198/296 [02:39<01:06,  1.47it/s]"
     ]
    },
    {
     "name": "stdout",
     "output_type": "stream",
     "text": [
      "retrying with Vestjysk Bank Company\n"
     ]
    },
    {
     "name": "stderr",
     "output_type": "stream",
     "text": [
      " 67%|██████▋   | 199/296 [02:40<01:12,  1.34it/s]"
     ]
    },
    {
     "name": "stdout",
     "output_type": "stream",
     "text": [
      "retrying with LMI Aerospace Company\n"
     ]
    },
    {
     "name": "stderr",
     "output_type": "stream",
     "text": [
      " 70%|██████▉   | 206/296 [02:44<00:49,  1.83it/s]"
     ]
    },
    {
     "name": "stdout",
     "output_type": "stream",
     "text": [
      "retrying with EDAG Engineering Group Company\n"
     ]
    },
    {
     "name": "stderr",
     "output_type": "stream",
     "text": [
      " 70%|███████   | 208/296 [02:45<00:54,  1.63it/s]"
     ]
    },
    {
     "name": "stdout",
     "output_type": "stream",
     "text": [
      "retrying with FMC Corp Company\n"
     ]
    },
    {
     "name": "stderr",
     "output_type": "stream",
     "text": [
      " 72%|███████▏  | 213/296 [02:48<00:45,  1.80it/s]"
     ]
    },
    {
     "name": "stdout",
     "output_type": "stream",
     "text": [
      "retrying with comdirect bank Company\n"
     ]
    },
    {
     "name": "stderr",
     "output_type": "stream",
     "text": [
      " 72%|███████▏  | 214/296 [02:49<00:54,  1.49it/s]"
     ]
    },
    {
     "name": "stdout",
     "output_type": "stream",
     "text": [
      "retrying with Kofax Ltd. Company\n"
     ]
    },
    {
     "name": "stderr",
     "output_type": "stream",
     "text": [
      " 73%|███████▎  | 215/296 [02:50<01:00,  1.33it/s]"
     ]
    },
    {
     "name": "stdout",
     "output_type": "stream",
     "text": [
      "retrying with Wihlborgs Fastigheter Company\n"
     ]
    },
    {
     "name": "stderr",
     "output_type": "stream",
     "text": [
      " 73%|███████▎  | 216/296 [02:51<01:03,  1.25it/s]"
     ]
    },
    {
     "name": "stdout",
     "output_type": "stream",
     "text": [
      "retrying with Rella Holding Company\n"
     ]
    },
    {
     "name": "stderr",
     "output_type": "stream",
     "text": [
      " 74%|███████▎  | 218/296 [02:53<01:00,  1.29it/s]"
     ]
    },
    {
     "name": "stdout",
     "output_type": "stream",
     "text": [
      "retrying with Luceco Company\n"
     ]
    },
    {
     "name": "stderr",
     "output_type": "stream",
     "text": [
      " 74%|███████▍  | 220/296 [02:54<00:55,  1.37it/s]"
     ]
    },
    {
     "name": "stdout",
     "output_type": "stream",
     "text": [
      "retrying with Precise Biometrics Company\n"
     ]
    },
    {
     "name": "stderr",
     "output_type": "stream",
     "text": [
      " 75%|███████▌  | 223/296 [02:56<00:46,  1.57it/s]"
     ]
    },
    {
     "name": "stdout",
     "output_type": "stream",
     "text": [
      "retrying with Probiodrug Company\n"
     ]
    },
    {
     "name": "stderr",
     "output_type": "stream",
     "text": [
      " 76%|███████▋  | 226/296 [02:58<00:42,  1.64it/s]"
     ]
    },
    {
     "name": "stdout",
     "output_type": "stream",
     "text": [
      "retrying with Argonaut Gold Company\n"
     ]
    },
    {
     "name": "stderr",
     "output_type": "stream",
     "text": [
      " 77%|███████▋  | 227/296 [02:59<00:48,  1.41it/s]"
     ]
    },
    {
     "name": "stdout",
     "output_type": "stream",
     "text": [
      "retrying with Republic Bancorp Inc/KY Company\n"
     ]
    },
    {
     "name": "stderr",
     "output_type": "stream",
     "text": [
      " 78%|███████▊  | 232/296 [03:02<00:36,  1.77it/s]"
     ]
    },
    {
     "name": "stdout",
     "output_type": "stream",
     "text": [
      "retrying with WILEX Company\n"
     ]
    },
    {
     "name": "stderr",
     "output_type": "stream",
     "text": [
      " 79%|███████▊  | 233/296 [03:03<00:42,  1.50it/s]"
     ]
    },
    {
     "name": "stdout",
     "output_type": "stream",
     "text": [
      "retrying with China Medical System Holdings Company\n"
     ]
    },
    {
     "name": "stderr",
     "output_type": "stream",
     "text": [
      " 79%|███████▉  | 234/296 [03:04<00:46,  1.33it/s]"
     ]
    },
    {
     "name": "stdout",
     "output_type": "stream",
     "text": [
      "retrying with Birchcliff Energy Company\n"
     ]
    },
    {
     "name": "stderr",
     "output_type": "stream",
     "text": [
      " 79%|███████▉  | 235/296 [03:05<00:49,  1.24it/s]"
     ]
    },
    {
     "name": "stdout",
     "output_type": "stream",
     "text": [
      "retrying with Steinway Musical Company\n"
     ]
    },
    {
     "name": "stderr",
     "output_type": "stream",
     "text": [
      " 81%|████████  | 240/296 [03:08<00:34,  1.63it/s]"
     ]
    },
    {
     "name": "stdout",
     "output_type": "stream",
     "text": [
      "retrying with Meridian Bancorp Company\n"
     ]
    },
    {
     "name": "stderr",
     "output_type": "stream",
     "text": [
      " 82%|████████▏ | 242/296 [03:09<00:34,  1.58it/s]"
     ]
    },
    {
     "name": "stdout",
     "output_type": "stream",
     "text": [
      "retrying with Shanda Interactive Company\n"
     ]
    },
    {
     "name": "stderr",
     "output_type": "stream",
     "text": [
      " 83%|████████▎ | 246/296 [03:12<00:28,  1.73it/s]"
     ]
    },
    {
     "name": "stdout",
     "output_type": "stream",
     "text": [
      "retrying with equinet Bank AG Company\n"
     ]
    },
    {
     "name": "stderr",
     "output_type": "stream",
     "text": [
      " 83%|████████▎ | 247/296 [03:12<00:33,  1.46it/s]"
     ]
    },
    {
     "name": "stdout",
     "output_type": "stream",
     "text": [
      "retrying with Dalradian Resources Company\n"
     ]
    },
    {
     "name": "stderr",
     "output_type": "stream",
     "text": [
      " 84%|████████▍ | 248/296 [03:13<00:36,  1.32it/s]"
     ]
    },
    {
     "name": "stdout",
     "output_type": "stream",
     "text": [
      "retrying with Banca Sistema Company\n"
     ]
    },
    {
     "name": "stderr",
     "output_type": "stream",
     "text": [
      " 84%|████████▍ | 249/296 [03:14<00:38,  1.23it/s]"
     ]
    },
    {
     "name": "stdout",
     "output_type": "stream",
     "text": [
      "retrying with Ply Gem Company\n"
     ]
    },
    {
     "name": "stderr",
     "output_type": "stream",
     "text": [
      " 84%|████████▍ | 250/296 [03:15<00:38,  1.18it/s]"
     ]
    },
    {
     "name": "stdout",
     "output_type": "stream",
     "text": [
      "retrying with American Residential Properties Company\n"
     ]
    },
    {
     "name": "stderr",
     "output_type": "stream",
     "text": [
      " 85%|████████▍ | 251/296 [03:16<00:38,  1.16it/s]"
     ]
    },
    {
     "name": "stdout",
     "output_type": "stream",
     "text": [
      "retrying with Basware Company\n"
     ]
    },
    {
     "name": "stderr",
     "output_type": "stream",
     "text": [
      " 85%|████████▌ | 252/296 [03:17<00:38,  1.13it/s]"
     ]
    },
    {
     "name": "stdout",
     "output_type": "stream",
     "text": [
      "retrying with Alibaba's logistics affiliate Company\n"
     ]
    },
    {
     "name": "stderr",
     "output_type": "stream",
     "text": [
      " 85%|████████▌ | 253/296 [03:18<00:38,  1.12it/s]"
     ]
    },
    {
     "name": "stdout",
     "output_type": "stream",
     "text": [
      "retrying with Viemed Healthcare Company\n"
     ]
    },
    {
     "name": "stderr",
     "output_type": "stream",
     "text": [
      " 86%|████████▌ | 255/296 [03:19<00:32,  1.28it/s]"
     ]
    },
    {
     "name": "stdout",
     "output_type": "stream",
     "text": [
      "retrying with Harris Teeter Supermarkets Company\n"
     ]
    },
    {
     "name": "stderr",
     "output_type": "stream",
     "text": [
      " 86%|████████▋ | 256/296 [03:20<00:33,  1.20it/s]"
     ]
    },
    {
     "name": "stdout",
     "output_type": "stream",
     "text": [
      "retrying with Myers Industries Company\n"
     ]
    },
    {
     "name": "stderr",
     "output_type": "stream",
     "text": [
      " 88%|████████▊ | 259/296 [03:22<00:26,  1.39it/s]"
     ]
    },
    {
     "name": "stdout",
     "output_type": "stream",
     "text": [
      "retrying with Southwest Bancorp Company\n"
     ]
    },
    {
     "name": "stderr",
     "output_type": "stream",
     "text": [
      " 88%|████████▊ | 261/296 [03:24<00:25,  1.36it/s]"
     ]
    },
    {
     "name": "stdout",
     "output_type": "stream",
     "text": [
      "retrying with Grupo Empresarial Ence Company\n"
     ]
    },
    {
     "name": "stderr",
     "output_type": "stream",
     "text": [
      " 89%|████████▊ | 262/296 [03:25<00:27,  1.24it/s]"
     ]
    },
    {
     "name": "stdout",
     "output_type": "stream",
     "text": [
      "retrying with Himax Technologies Company\n"
     ]
    },
    {
     "name": "stderr",
     "output_type": "stream",
     "text": [
      " 89%|████████▉ | 264/296 [03:27<00:24,  1.32it/s]"
     ]
    },
    {
     "name": "stdout",
     "output_type": "stream",
     "text": [
      "retrying with Equinox Gold Corp. Company\n"
     ]
    },
    {
     "name": "stderr",
     "output_type": "stream",
     "text": [
      " 91%|█████████ | 268/296 [03:29<00:16,  1.66it/s]"
     ]
    },
    {
     "name": "stdout",
     "output_type": "stream",
     "text": [
      "retrying with Athene Holding Company\n"
     ]
    },
    {
     "name": "stderr",
     "output_type": "stream",
     "text": [
      " 92%|█████████▏| 273/296 [03:32<00:14,  1.62it/s]"
     ]
    },
    {
     "name": "stdout",
     "output_type": "stream",
     "text": [
      "retrying with LOJN Company\n"
     ]
    },
    {
     "name": "stderr",
     "output_type": "stream",
     "text": [
      " 93%|█████████▎| 276/296 [03:34<00:12,  1.58it/s]"
     ]
    },
    {
     "name": "stdout",
     "output_type": "stream",
     "text": [
      "retrying with Independence Group NL Company\n"
     ]
    },
    {
     "name": "stderr",
     "output_type": "stream",
     "text": [
      " 94%|█████████▎| 277/296 [03:35<00:13,  1.38it/s]"
     ]
    },
    {
     "name": "stdout",
     "output_type": "stream",
     "text": [
      "retrying with Ingenia Communities Company\n"
     ]
    },
    {
     "name": "stderr",
     "output_type": "stream",
     "text": [
      " 94%|█████████▍| 278/296 [03:36<00:14,  1.27it/s]"
     ]
    },
    {
     "name": "stdout",
     "output_type": "stream",
     "text": [
      "retrying with Sanan Optoelectronics Company\n"
     ]
    },
    {
     "name": "stderr",
     "output_type": "stream",
     "text": [
      " 95%|█████████▌| 282/296 [03:38<00:08,  1.67it/s]"
     ]
    },
    {
     "name": "stdout",
     "output_type": "stream",
     "text": [
      "retrying with Aclaris Therapeutics Company\n"
     ]
    },
    {
     "name": "stderr",
     "output_type": "stream",
     "text": [
      " 96%|█████████▋| 285/296 [03:40<00:06,  1.61it/s]"
     ]
    },
    {
     "name": "stdout",
     "output_type": "stream",
     "text": [
      "retrying with Theratechnologies Company\n"
     ]
    },
    {
     "name": "stderr",
     "output_type": "stream",
     "text": [
      " 97%|█████████▋| 287/296 [03:42<00:05,  1.56it/s]"
     ]
    },
    {
     "name": "stdout",
     "output_type": "stream",
     "text": [
      "retrying with Barclays Group Africa Company\n"
     ]
    },
    {
     "name": "stderr",
     "output_type": "stream",
     "text": [
      " 97%|█████████▋| 288/296 [03:43<00:05,  1.37it/s]"
     ]
    },
    {
     "name": "stdout",
     "output_type": "stream",
     "text": [
      "retrying with Prelios Group Company\n"
     ]
    },
    {
     "name": "stderr",
     "output_type": "stream",
     "text": [
      " 98%|█████████▊| 289/296 [03:44<00:05,  1.27it/s]"
     ]
    },
    {
     "name": "stdout",
     "output_type": "stream",
     "text": [
      "retrying with ANF Immobilier Company\n"
     ]
    },
    {
     "name": "stderr",
     "output_type": "stream",
     "text": [
      " 98%|█████████▊| 291/296 [03:45<00:03,  1.39it/s]"
     ]
    },
    {
     "name": "stdout",
     "output_type": "stream",
     "text": [
      "retrying with Vanda Pharmaceuticals Company\n"
     ]
    },
    {
     "name": "stderr",
     "output_type": "stream",
     "text": [
      " 99%|█████████▉| 294/296 [03:47<00:01,  1.51it/s]"
     ]
    },
    {
     "name": "stdout",
     "output_type": "stream",
     "text": [
      "retrying with FormFactor Company\n"
     ]
    },
    {
     "name": "stderr",
     "output_type": "stream",
     "text": [
      "100%|██████████| 296/296 [03:49<00:00,  1.29it/s]"
     ]
    },
    {
     "name": "stdout",
     "output_type": "stream",
     "text": [
      "len 296 took 229.04 seconds\n"
     ]
    },
    {
     "name": "stderr",
     "output_type": "stream",
     "text": [
      "\n"
     ]
    }
   ],
   "source": [
    "\n",
    "wikipediaapi.logging.getLogger().handlers = []\n",
    "company_names = {}\n",
    "from time import time\n",
    "start = time()\n",
    "for company_name in tqdm(dfnews[\"company_name\"].unique()):\n",
    "    company_names[company_name] = get_summary_company_name(company_name)\n",
    "company_names\n",
    "end = time()\n",
    "print(f\"len {len(dfnews.company_name.unique())} took {end-start:.2f} seconds\")\n"
   ]
  },
  {
   "cell_type": "code",
   "execution_count": 1076,
   "metadata": {},
   "outputs": [
    {
     "name": "stderr",
     "output_type": "stream",
     "text": [
      "  0%|          | 0/100 [00:00<?, ?it/s]"
     ]
    },
    {
     "name": "stdout",
     "output_type": "stream",
     "text": [
      "retrying with PBF Logistics Company\n"
     ]
    },
    {
     "name": "stderr",
     "output_type": "stream",
     "text": [
      "  1%|          | 1/100 [00:00<01:37,  1.01it/s]"
     ]
    },
    {
     "name": "stdout",
     "output_type": "stream",
     "text": [
      "retrying with Ultra Petroleum Company\n"
     ]
    },
    {
     "name": "stderr",
     "output_type": "stream",
     "text": [
      "  8%|▊         | 8/100 [00:04<00:46,  1.99it/s]"
     ]
    },
    {
     "name": "stdout",
     "output_type": "stream",
     "text": [
      "retrying with ArQule Company\n"
     ]
    },
    {
     "name": "stderr",
     "output_type": "stream",
     "text": [
      " 11%|█         | 11/100 [00:06<00:48,  1.84it/s]"
     ]
    },
    {
     "name": "stdout",
     "output_type": "stream",
     "text": [
      "retrying with AngioDynamics Company\n"
     ]
    },
    {
     "name": "stderr",
     "output_type": "stream",
     "text": [
      " 16%|█▌        | 16/100 [00:09<00:45,  1.86it/s]"
     ]
    },
    {
     "name": "stdout",
     "output_type": "stream",
     "text": [
      "retrying with Good Foods Company\n"
     ]
    },
    {
     "name": "stderr",
     "output_type": "stream",
     "text": [
      " 20%|██        | 20/100 [00:12<00:51,  1.55it/s]"
     ]
    },
    {
     "name": "stdout",
     "output_type": "stream",
     "text": [
      "retrying with Apollo Medical Company\n"
     ]
    },
    {
     "name": "stderr",
     "output_type": "stream",
     "text": [
      " 23%|██▎       | 23/100 [00:14<00:46,  1.65it/s]"
     ]
    },
    {
     "name": "stdout",
     "output_type": "stream",
     "text": [
      "retrying with Astral Foods Company\n"
     ]
    },
    {
     "name": "stderr",
     "output_type": "stream",
     "text": [
      " 25%|██▌       | 25/100 [00:15<00:47,  1.58it/s]"
     ]
    },
    {
     "name": "stdout",
     "output_type": "stream",
     "text": [
      "retrying with Ampco-Pittsburgh Company\n"
     ]
    },
    {
     "name": "stderr",
     "output_type": "stream",
     "text": [
      " 28%|██▊       | 28/100 [00:17<00:45,  1.59it/s]"
     ]
    },
    {
     "name": "stdout",
     "output_type": "stream",
     "text": [
      "retrying with NewMarket Company\n"
     ]
    },
    {
     "name": "stderr",
     "output_type": "stream",
     "text": [
      " 30%|███       | 30/100 [00:19<00:44,  1.56it/s]"
     ]
    },
    {
     "name": "stdout",
     "output_type": "stream",
     "text": [
      "retrying with Paratek Pharmaceuticals Company\n"
     ]
    },
    {
     "name": "stderr",
     "output_type": "stream",
     "text": [
      " 35%|███▌      | 35/100 [00:21<00:34,  1.87it/s]"
     ]
    },
    {
     "name": "stdout",
     "output_type": "stream",
     "text": [
      "retrying with McGrath RentCorp Company\n"
     ]
    },
    {
     "name": "stderr",
     "output_type": "stream",
     "text": [
      " 36%|███▌      | 36/100 [00:22<00:41,  1.54it/s]"
     ]
    },
    {
     "name": "stdout",
     "output_type": "stream",
     "text": [
      "retrying with K Services Company\n"
     ]
    },
    {
     "name": "stderr",
     "output_type": "stream",
     "text": [
      " 37%|███▋      | 37/100 [00:23<00:46,  1.36it/s]"
     ]
    },
    {
     "name": "stdout",
     "output_type": "stream",
     "text": [
      "retrying with Two Harbors Investment Company\n"
     ]
    },
    {
     "name": "stderr",
     "output_type": "stream",
     "text": [
      " 38%|███▊      | 38/100 [00:24<00:48,  1.27it/s]"
     ]
    },
    {
     "name": "stdout",
     "output_type": "stream",
     "text": [
      "retrying with Cambium Learning Company\n"
     ]
    },
    {
     "name": "stderr",
     "output_type": "stream",
     "text": [
      " 39%|███▉      | 39/100 [00:25<00:50,  1.21it/s]"
     ]
    },
    {
     "name": "stdout",
     "output_type": "stream",
     "text": [
      "retrying with M6-Metropole Company\n"
     ]
    },
    {
     "name": "stderr",
     "output_type": "stream",
     "text": [
      " 42%|████▏     | 42/100 [00:27<00:38,  1.52it/s]"
     ]
    },
    {
     "name": "stdout",
     "output_type": "stream",
     "text": [
      "retrying with Li Ning alters strategy Company\n"
     ]
    },
    {
     "name": "stderr",
     "output_type": "stream",
     "text": [
      " 43%|████▎     | 43/100 [00:28<00:42,  1.35it/s]"
     ]
    },
    {
     "name": "stdout",
     "output_type": "stream",
     "text": [
      "retrying with Luther Burbank Corp. Company\n"
     ]
    },
    {
     "name": "stderr",
     "output_type": "stream",
     "text": [
      " 44%|████▍     | 44/100 [00:29<00:44,  1.26it/s]"
     ]
    },
    {
     "name": "stdout",
     "output_type": "stream",
     "text": [
      "retrying with Outdoor Channel Holdings Company\n"
     ]
    },
    {
     "name": "stderr",
     "output_type": "stream",
     "text": [
      " 45%|████▌     | 45/100 [00:30<00:45,  1.21it/s]"
     ]
    },
    {
     "name": "stdout",
     "output_type": "stream",
     "text": [
      "retrying with American Dairy Company\n"
     ]
    },
    {
     "name": "stderr",
     "output_type": "stream",
     "text": [
      " 47%|████▋     | 47/100 [00:31<00:41,  1.29it/s]"
     ]
    },
    {
     "name": "stdout",
     "output_type": "stream",
     "text": [
      "retrying with Republic First Company\n"
     ]
    },
    {
     "name": "stderr",
     "output_type": "stream",
     "text": [
      " 48%|████▊     | 48/100 [00:32<00:42,  1.23it/s]"
     ]
    },
    {
     "name": "stdout",
     "output_type": "stream",
     "text": [
      "retrying with Skyline Champion Corp. Company\n"
     ]
    },
    {
     "name": "stderr",
     "output_type": "stream",
     "text": [
      " 49%|████▉     | 49/100 [00:33<00:43,  1.18it/s]"
     ]
    },
    {
     "name": "stdout",
     "output_type": "stream",
     "text": [
      "retrying with Parsley Energy Company\n"
     ]
    },
    {
     "name": "stderr",
     "output_type": "stream",
     "text": [
      " 50%|█████     | 50/100 [00:34<00:43,  1.16it/s]"
     ]
    },
    {
     "name": "stdout",
     "output_type": "stream",
     "text": [
      "retrying with AtriCure Company\n"
     ]
    },
    {
     "name": "stderr",
     "output_type": "stream",
     "text": [
      " 51%|█████     | 51/100 [00:35<00:43,  1.14it/s]"
     ]
    },
    {
     "name": "stdout",
     "output_type": "stream",
     "text": [
      "retrying with Krystal Biotech Company\n"
     ]
    },
    {
     "name": "stderr",
     "output_type": "stream",
     "text": [
      " 53%|█████▎    | 53/100 [00:36<00:36,  1.28it/s]"
     ]
    },
    {
     "name": "stdout",
     "output_type": "stream",
     "text": [
      "retrying with ABB Limited Company\n"
     ]
    },
    {
     "name": "stderr",
     "output_type": "stream",
     "text": [
      " 54%|█████▍    | 54/100 [00:37<00:37,  1.22it/s]"
     ]
    },
    {
     "name": "stdout",
     "output_type": "stream",
     "text": [
      "retrying with RAK Petroleum Company\n"
     ]
    },
    {
     "name": "stderr",
     "output_type": "stream",
     "text": [
      " 55%|█████▌    | 55/100 [00:38<00:38,  1.18it/s]"
     ]
    },
    {
     "name": "stdout",
     "output_type": "stream",
     "text": [
      "retrying with all issued and outstanding shares Company\n"
     ]
    },
    {
     "name": "stderr",
     "output_type": "stream",
     "text": [
      " 56%|█████▌    | 56/100 [00:39<00:38,  1.15it/s]"
     ]
    },
    {
     "name": "stdout",
     "output_type": "stream",
     "text": [
      "retrying with QMS Media Company\n"
     ]
    },
    {
     "name": "stderr",
     "output_type": "stream",
     "text": [
      " 63%|██████▎   | 63/100 [00:43<00:20,  1.82it/s]"
     ]
    },
    {
     "name": "stdout",
     "output_type": "stream",
     "text": [
      "retrying with Japan banks Company\n"
     ]
    },
    {
     "name": "stderr",
     "output_type": "stream",
     "text": [
      " 64%|██████▍   | 64/100 [00:44<00:23,  1.52it/s]"
     ]
    },
    {
     "name": "stdout",
     "output_type": "stream",
     "text": [
      "retrying with Sage Therapeutics Company\n"
     ]
    },
    {
     "name": "stderr",
     "output_type": "stream",
     "text": [
      " 65%|██████▌   | 65/100 [00:45<00:25,  1.37it/s]"
     ]
    },
    {
     "name": "stdout",
     "output_type": "stream",
     "text": [
      "retrying with Valora Holding Company\n"
     ]
    },
    {
     "name": "stderr",
     "output_type": "stream",
     "text": [
      " 66%|██████▌   | 66/100 [00:46<00:26,  1.28it/s]"
     ]
    },
    {
     "name": "stdout",
     "output_type": "stream",
     "text": [
      "retrying with XPEL Company\n"
     ]
    },
    {
     "name": "stderr",
     "output_type": "stream",
     "text": [
      " 68%|██████▊   | 68/100 [00:47<00:22,  1.40it/s]"
     ]
    },
    {
     "name": "stdout",
     "output_type": "stream",
     "text": [
      "retrying with Peregrine Pharmaceuticals Company\n"
     ]
    },
    {
     "name": "stderr",
     "output_type": "stream",
     "text": [
      " 72%|███████▏  | 72/100 [00:50<00:17,  1.56it/s]"
     ]
    },
    {
     "name": "stdout",
     "output_type": "stream",
     "text": [
      "retrying with Cannae Holdings, Inc. Company\n"
     ]
    },
    {
     "name": "stderr",
     "output_type": "stream",
     "text": [
      " 75%|███████▌  | 75/100 [00:52<00:14,  1.68it/s]"
     ]
    },
    {
     "name": "stdout",
     "output_type": "stream",
     "text": [
      "retrying with Chesapeake Lodging Trust Company\n"
     ]
    },
    {
     "name": "stderr",
     "output_type": "stream",
     "text": [
      " 77%|███████▋  | 77/100 [00:53<00:15,  1.51it/s]"
     ]
    },
    {
     "name": "stdout",
     "output_type": "stream",
     "text": [
      "retrying with ZTO Express Company\n"
     ]
    },
    {
     "name": "stderr",
     "output_type": "stream",
     "text": [
      " 82%|████████▏ | 82/100 [00:56<00:09,  1.86it/s]"
     ]
    },
    {
     "name": "stdout",
     "output_type": "stream",
     "text": [
      "retrying with Carclo Company\n"
     ]
    },
    {
     "name": "stderr",
     "output_type": "stream",
     "text": [
      " 84%|████████▍ | 84/100 [00:57<00:09,  1.69it/s]"
     ]
    },
    {
     "name": "stdout",
     "output_type": "stream",
     "text": [
      "retrying with Ziopharm Oncology Company\n"
     ]
    },
    {
     "name": "stderr",
     "output_type": "stream",
     "text": [
      " 85%|████████▌ | 85/100 [00:58<00:10,  1.46it/s]"
     ]
    },
    {
     "name": "stdout",
     "output_type": "stream",
     "text": [
      "retrying with Novatek Microelectronics Corp. Company\n"
     ]
    },
    {
     "name": "stderr",
     "output_type": "stream",
     "text": [
      " 88%|████████▊ | 88/100 [01:00<00:07,  1.56it/s]"
     ]
    },
    {
     "name": "stdout",
     "output_type": "stream",
     "text": [
      "retrying with Obagi Medical Products Company\n"
     ]
    },
    {
     "name": "stderr",
     "output_type": "stream",
     "text": [
      " 91%|█████████ | 91/100 [01:02<00:06,  1.50it/s]"
     ]
    },
    {
     "name": "stdout",
     "output_type": "stream",
     "text": [
      "retrying with Anoto Group Company\n"
     ]
    },
    {
     "name": "stderr",
     "output_type": "stream",
     "text": [
      " 94%|█████████▍| 94/100 [01:04<00:03,  1.62it/s]"
     ]
    },
    {
     "name": "stdout",
     "output_type": "stream",
     "text": [
      "retrying with BlackPearl Resources Company\n"
     ]
    },
    {
     "name": "stderr",
     "output_type": "stream",
     "text": [
      " 95%|█████████▌| 95/100 [01:05<00:03,  1.41it/s]"
     ]
    },
    {
     "name": "stdout",
     "output_type": "stream",
     "text": [
      "retrying with Sussex Bancorp Company\n"
     ]
    },
    {
     "name": "stderr",
     "output_type": "stream",
     "text": [
      " 96%|█████████▌| 96/100 [01:06<00:03,  1.30it/s]"
     ]
    },
    {
     "name": "stdout",
     "output_type": "stream",
     "text": [
      "retrying with Applied Micro Company\n"
     ]
    },
    {
     "name": "stderr",
     "output_type": "stream",
     "text": [
      " 98%|█████████▊| 98/100 [01:07<00:01,  1.42it/s]"
     ]
    },
    {
     "name": "stdout",
     "output_type": "stream",
     "text": [
      "retrying with New York Times Sunday Edition Summary Company\n"
     ]
    },
    {
     "name": "stderr",
     "output_type": "stream",
     "text": [
      " 99%|█████████▉| 99/100 [01:08<00:00,  1.31it/s]"
     ]
    },
    {
     "name": "stdout",
     "output_type": "stream",
     "text": [
      "retrying with Kiniksa Company\n"
     ]
    },
    {
     "name": "stderr",
     "output_type": "stream",
     "text": [
      "100%|██████████| 100/100 [01:09<00:00,  1.44it/s]"
     ]
    },
    {
     "name": "stdout",
     "output_type": "stream",
     "text": [
      "len 100 took 69.64 seconds\n"
     ]
    },
    {
     "name": "stderr",
     "output_type": "stream",
     "text": [
      "\n"
     ]
    }
   ],
   "source": [
    "from concurrent.futures import ThreadPoolExecutor\n",
    "wikipediaapi.logging.getLogger().handlers = []\n",
    "from time import time\n",
    "start = time()\n",
    "company_names = {}\n",
    "with ThreadPoolExecutor(max_workers=10) as executor:\n",
    "    for company_name in tqdm(dfnews[\"company_name\"].unique()):\n",
    "        compay_name_future = executor.submit(get_summary_company_name, company_name)\n",
    "        company_names[company_name] = compay_name_future.result()\n",
    "end = time()\n",
    "print(f\"len {len(dfnews.company_name.unique())} took {end-start:.2f} seconds\")\n",
    "dfnews[\"company_context\"] = dfnews[\"company_name\"].apply(lambda x: company_names[x])\n",
    "\n",
    "gen = gen_news(dfnews, cols_add=[\"company_context\"])"
   ]
  },
  {
   "cell_type": "code",
   "execution_count": 1077,
   "metadata": {},
   "outputs": [
    {
     "data": {
      "text/html": [
       "<div>\n",
       "<style scoped>\n",
       "    .dataframe tbody tr th:only-of-type {\n",
       "        vertical-align: middle;\n",
       "    }\n",
       "\n",
       "    .dataframe tbody tr th {\n",
       "        vertical-align: top;\n",
       "    }\n",
       "\n",
       "    .dataframe thead th {\n",
       "        text-align: right;\n",
       "    }\n",
       "</style>\n",
       "<table border=\"1\" class=\"dataframe\">\n",
       "  <thead>\n",
       "    <tr style=\"text-align: right;\">\n",
       "      <th></th>\n",
       "      <th>DATE</th>\n",
       "      <th>headline</th>\n",
       "      <th>company_context</th>\n",
       "    </tr>\n",
       "  </thead>\n",
       "  <tbody>\n",
       "    <tr>\n",
       "      <th>0</th>\n",
       "      <td>2016-01-13</td>\n",
       "      <td>PBF Logistics guides FY (Dec 2016) Revenue $143.5 vs FactSet $145.8M  slides</td>\n",
       "      <td></td>\n",
       "    </tr>\n",
       "    <tr>\n",
       "      <th>1</th>\n",
       "      <td>2016-02-03</td>\n",
       "      <td>PBF Logistics acquires four refined product terminals from Plains All Americ...</td>\n",
       "      <td></td>\n",
       "    </tr>\n",
       "    <tr>\n",
       "      <th>2</th>\n",
       "      <td>2016-03-31</td>\n",
       "      <td>PBF Logistics announces 2.5M unit secondary offering through UBS</td>\n",
       "      <td></td>\n",
       "    </tr>\n",
       "    <tr>\n",
       "      <th>3</th>\n",
       "      <td>2016-04-20</td>\n",
       "      <td>FTC grants antitrust clearance for PBF Logistics' purchase of four refined p...</td>\n",
       "      <td></td>\n",
       "    </tr>\n",
       "    <tr>\n",
       "      <th>4</th>\n",
       "      <td>2016-04-21</td>\n",
       "      <td>Raymond James initiates MPLX, PBFX, PSXP, others</td>\n",
       "      <td></td>\n",
       "    </tr>\n",
       "    <tr>\n",
       "      <th>5</th>\n",
       "      <td>2016-04-29</td>\n",
       "      <td>PBF Logistics reports Q1 Earnings Per Share $0.53 vs FactSet $0.45; increase...</td>\n",
       "      <td></td>\n",
       "    </tr>\n",
       "    <tr>\n",
       "      <th>6</th>\n",
       "      <td>2017-01-05</td>\n",
       "      <td>PBF Logistics guides FY (Dec 2017) EBITDA $135.2M vs FactSet $156.3M -- inve...</td>\n",
       "      <td></td>\n",
       "    </tr>\n",
       "    <tr>\n",
       "      <th>7</th>\n",
       "      <td>2017-04-18</td>\n",
       "      <td>PBF Logistics acquires Toledo Terminal from Sunoco Logistics (SXL)</td>\n",
       "      <td></td>\n",
       "    </tr>\n",
       "    <tr>\n",
       "      <th>8</th>\n",
       "      <td>2017-05-05</td>\n",
       "      <td>PBF Logistics reports Q1 Earnings Per Share $0.55 vs FactSet $0.52</td>\n",
       "      <td></td>\n",
       "    </tr>\n",
       "    <tr>\n",
       "      <th>9</th>\n",
       "      <td>2017-05-23</td>\n",
       "      <td>U.S. Capital Advisors initiates HEP, HFC, MPC, others</td>\n",
       "      <td></td>\n",
       "    </tr>\n",
       "  </tbody>\n",
       "</table>\n",
       "</div>"
      ],
      "text/plain": [
       "        DATE  \\\n",
       "0 2016-01-13   \n",
       "1 2016-02-03   \n",
       "2 2016-03-31   \n",
       "3 2016-04-20   \n",
       "4 2016-04-21   \n",
       "5 2016-04-29   \n",
       "6 2017-01-05   \n",
       "7 2017-04-18   \n",
       "8 2017-05-05   \n",
       "9 2017-05-23   \n",
       "\n",
       "                                                                          headline  \\\n",
       "0     PBF Logistics guides FY (Dec 2016) Revenue $143.5 vs FactSet $145.8M  slides   \n",
       "1  PBF Logistics acquires four refined product terminals from Plains All Americ...   \n",
       "2                 PBF Logistics announces 2.5M unit secondary offering through UBS   \n",
       "3  FTC grants antitrust clearance for PBF Logistics' purchase of four refined p...   \n",
       "4                                 Raymond James initiates MPLX, PBFX, PSXP, others   \n",
       "5  PBF Logistics reports Q1 Earnings Per Share $0.53 vs FactSet $0.45; increase...   \n",
       "6  PBF Logistics guides FY (Dec 2017) EBITDA $135.2M vs FactSet $156.3M -- inve...   \n",
       "7               PBF Logistics acquires Toledo Terminal from Sunoco Logistics (SXL)   \n",
       "8               PBF Logistics reports Q1 Earnings Per Share $0.55 vs FactSet $0.52   \n",
       "9                            U.S. Capital Advisors initiates HEP, HFC, MPC, others   \n",
       "\n",
       "  company_context  \n",
       "0                  \n",
       "1                  \n",
       "2                  \n",
       "3                  \n",
       "4                  \n",
       "5                  \n",
       "6                  \n",
       "7                  \n",
       "8                  \n",
       "9                  "
      ]
     },
     "execution_count": 1077,
     "metadata": {},
     "output_type": "execute_result"
    }
   ],
   "source": [
    "\n",
    "\n",
    "next(gen)\n",
    "\n"
   ]
  },
  {
   "cell_type": "code",
   "execution_count": 1078,
   "metadata": {},
   "outputs": [
    {
     "name": "stdout",
     "output_type": "stream",
     "text": [
      "ERG\n",
      "KKR\n",
      "XPEL\n",
      "Saras\n",
      "China\n",
      "Sorin\n",
      "VARTA\n",
      "ArQule\n",
      "CalAmp\n",
      "Carclo\n"
     ]
    }
   ],
   "source": [
    "dfnews.company_name.unique()\n",
    "sorted(dfnews.company_name.unique(), key = lambda x: len(x), reverse = False)\n",
    "sorted_company_names = sorted(dfnews.company_name.unique(), key = lambda x: len(x), reverse = False)\n",
    "from itertools import islice\n",
    "for k in islice(sorted_company_names,10):\n",
    "    print(k)\n"
   ]
  },
  {
   "cell_type": "code",
   "execution_count": 1079,
   "metadata": {},
   "outputs": [
    {
     "name": "stdout",
     "output_type": "stream",
     "text": [
      "Overwriting data_v5_company_context.py\n"
     ]
    }
   ],
   "source": [
    "%%writefile data_v5_company_context.py\n",
    "import os\n",
    "import pandas as pd\n",
    "import numpy as np\n",
    "from pathlib import Path\n",
    "from itertools import chain\n",
    "ROOT_DIR = next(filter(lambda s: \"LLM\" in s.name,chain(Path().absolute().parents,[Path(os.getcwd())])), None)\n",
    "print(f\"ROOT_DIR {ROOT_DIR}\")\n",
    "import configparser\n",
    "import matplotlib.pyplot as plt\n",
    "config = configparser.ConfigParser()\n",
    "config.read(ROOT_DIR/'config.ini')\n",
    "DATA_FOLDER = Path(config.get(\"paths\",\"path_data\"))\n",
    "print(f\"DATA_FOLDER {DATA_FOLDER}\")\n",
    "assert os.path.isdir(DATA_FOLDER)\n",
    "assert os.path.isdir(ROOT_DIR)\n",
    "import sys \n",
    "sys.path.append(str(ROOT_DIR))\n",
    "from pathlib import Path\n",
    "from tqdm import tqdm\n",
    "import spacy\n",
    "from collections import Counter\n",
    "from utils.io_utils import write_headlines_to_file\n",
    "from concurrent.futures import ThreadPoolExecutor\n",
    "import wikipediaapi\n",
    "from time import time\n",
    "wikipediaapi.logging.getLogger().handlers = []\n",
    "import spacy \n",
    "wiki_wiki = wikipediaapi.Wikipedia('DataV5', 'en')\n",
    "def get_summary_company_name(company_name):\n",
    "    nlp = spacy.load(\"en_core_web_sm\")\n",
    "    page_py = wiki_wiki.page(company_name)\n",
    "    page_summary =  ' '.join([sent.text for sent in nlp(page_py.summary).sents][:3])\n",
    "    if len(page_summary) < 5:\n",
    "        if \"Company\" not in company_name:\n",
    "            company_name = f\"{company_name} Company\"\n",
    "            print(f\"retrying with {company_name}\")\n",
    "            page_summary = get_summary_company_name(company_name)\n",
    "        else: \n",
    "            return \"\"\n",
    "    return page_summary\n",
    "\n",
    "dfnews = pd.read_parquet(ROOT_DIR/ \"temp/data_v5_company_name_done.parquet\")\n",
    "start = time()\n",
    "company_names = {}\n",
    "with ThreadPoolExecutor(max_workers=10) as executor:\n",
    "    for company_name in tqdm(dfnews[\"company_name\"].unique()):\n",
    "        compay_name_future = executor.submit(get_summary_company_name, company_name)\n",
    "        company_names[company_name] = compay_name_future.result()\n",
    "end = time()\n",
    "print(f\"len {len(dfnews.company_name.unique())} summaries took {end-start:.2f} seconds\")\n",
    "dfnews[\"company_context\"] = dfnews[\"company_name\"].apply(lambda x: company_names[x])\n",
    "dfnews.to_parquet(ROOT_DIR/ \"temp/data_v5_company_context_done.parquet\")"
   ]
  },
  {
   "cell_type": "markdown",
   "metadata": {},
   "source": [
    "### Rolling Window with two pointers"
   ]
  },
  {
   "cell_type": "code",
   "execution_count": 502,
   "metadata": {},
   "outputs": [],
   "source": [
    "quick_test = False\n",
    "if quick_test:\n",
    "    lp  = 0\n",
    "    rp = 0\n",
    "    df = pd.DataFrame(np.arange(10))\n",
    "    df[\"concat\"] = \"None\"\n",
    "    print(df)\n",
    "    while rp < df.shape[0]: \n",
    "        print(f\"rp = {rp}, lp = {lp}\")\n",
    "        if rp - lp <= 3: \n",
    "            df.iloc[rp, -1] = \" \".join(df.iloc[lp:rp+1,0].astype(str).values)\n",
    "            rp += 1\n",
    "        else:\n",
    "            lp += 1\n",
    "\n",
    "    # same thing but with dfnews symbol0\n",
    "    dfnews_symbol0[\"concat\"] = \"None\"\n",
    "    lp = 0 \n",
    "    rp = 0 \n",
    "\n",
    "    while rp < dfnews_symbol0.shape[0]: \n",
    "        print(dfnews_symbol0.iloc[lp:rp][\"headline\"].astype(str).values)\n",
    "        if rp> 5:\n",
    "            break\n",
    "        if rp - lp <= 3: \n",
    "            dfnews_symbol0.iloc[rp, -1] = \"\\n-\".join(dfnews_symbol0.iloc[lp:rp][\"headline\"].astype(str).values)\n",
    "            rp += 1\n",
    "        else:\n",
    "            lp += 1\n"
   ]
  },
  {
   "cell_type": "code",
   "execution_count": 16,
   "metadata": {},
   "outputs": [],
   "source": [
    "path_dfnews = ROOT_DIR/ \"temp/data_v5_company_context_done.parquet\" \n",
    "if not path_dfnews.exists():\n",
    "    print(f\"file {path_dfnews} does not exist\")\n",
    "    print(\"taking the next best thing\")\n",
    "    path_dfnews = ROOT_DIR/ \"temp/data_v5_company_name_done.parquet\"\n",
    "\n",
    "assert path_dfnews.exists()\n",
    "dfnews = pd.read_parquet(path_dfnews)"
   ]
  },
  {
   "cell_type": "code",
   "execution_count": 28,
   "metadata": {},
   "outputs": [
    {
     "data": {
      "text/plain": [
       "(1002870, 12)"
      ]
     },
     "execution_count": 28,
     "metadata": {},
     "output_type": "execute_result"
    }
   ],
   "source": [
    "dfnews.shape"
   ]
  },
  {
   "cell_type": "code",
   "execution_count": 1082,
   "metadata": {},
   "outputs": [],
   "source": [
    "\n",
    "def apply_function(df:pd.DataFrame):\n",
    "    #apply this on the df after the groupby \n",
    "    lp = 0\n",
    "    rp = 0\n",
    "    concats = pd.Series([\"_\"] *df.shape[0], index = df.index)\n",
    "    while rp < df.shape[0]: \n",
    "        if rp - lp <= 3: \n",
    "            concats.iloc[rp] = (\"\\n-\".join(df.iloc[lp:rp][\"headline\"].astype(str).values))\n",
    "            rp += 1\n",
    "        else:\n",
    "            lp += 1\n",
    "    return concats\n",
    "dfnews[\"context_news\"] = \"None\"\n",
    "dfnews = dfnews.reset_index().set_index([\"SYMBOL\",\"DATE\"]).sort_index()\n",
    "dfnews[\"context_news\"] = dfnews.groupby(\"SYMBOL\").apply(apply_function).reset_index(level= 0, drop = True)\n",
    "dfnews.to_parquet(ROOT_DIR/ \"temp/data_v5_context_news_done.parquet\")"
   ]
  },
  {
   "cell_type": "code",
   "execution_count": 30,
   "metadata": {},
   "outputs": [
    {
     "name": "stdout",
     "output_type": "stream",
     "text": [
      "shape of dfnews_post_wikipedia (1002870, 12)\n",
      "columns of dfnews_post_wikipedia Index(['headline', 'RET_5D_bin', 'RET_10D_bin', 'DES_MCAP_CCY',\n",
      "       'DES_FACTSET_INDUSTRY', 'DES_FACTSET_SECTOR', 'DES_BETA_ADJ_104W',\n",
      "       'RET_5D_pos', 'RET_10D_pos', 'DATE_diff', 'company_name',\n",
      "       'company_context'],\n",
      "      dtype='object')\n"
     ]
    }
   ],
   "source": [
    "path_df_news_context_done = ROOT_DIR/ \"temp/data_v5_company_context_done.parquet\"\n",
    "dfnews_post_wikipedia = pd.read_parquet(path_df_news_context_done)\n",
    "print(f\"shape of dfnews_post_wikipedia {dfnews_post_wikipedia.shape}\")\n",
    "print(f\"columns of dfnews_post_wikipedia {dfnews_post_wikipedia.columns}\")"
   ]
  },
  {
   "cell_type": "code",
   "execution_count": 34,
   "metadata": {},
   "outputs": [
    {
     "name": "stdout",
     "output_type": "stream",
     "text": [
      "Overwriting data_preprocess/data_v5/data_v5_concat_news.py\n"
     ]
    }
   ],
   "source": [
    "%%writefile data_preprocess/data_v5/data_v5_concat_news.py\n",
    "import os\n",
    "import pandas as pd\n",
    "import numpy as np\n",
    "from pathlib import Path\n",
    "from itertools import chain\n",
    "ROOT_DIR = next(filter(lambda s: \"LLM\" in s.name,chain(Path().absolute().parents,[Path(os.getcwd())])), None)\n",
    "print(f\"ROOT_DIR {ROOT_DIR}\")\n",
    "import configparser\n",
    "import matplotlib.pyplot as plt\n",
    "config = configparser.ConfigParser()\n",
    "config.read(ROOT_DIR/'config.ini')\n",
    "DATA_FOLDER = Path(config.get(\"paths\",\"path_data\"))\n",
    "print(f\"DATA_FOLDER {DATA_FOLDER}\")\n",
    "assert os.path.isdir(DATA_FOLDER)\n",
    "assert os.path.isdir(ROOT_DIR)\n",
    "import sys \n",
    "sys.path.append(str(ROOT_DIR))\n",
    "from pathlib import Path\n",
    "from time import time\n",
    "from utils.io_utils import write_headlines_to_file\n",
    "from tqdm import tqdm\n",
    "def apply_function(df:pd.DataFrame):\n",
    "    #apply this on the df after the groupby \n",
    "    lp = 0\n",
    "    rp = 0\n",
    "    concats = pd.Series([\"_\"] *df.shape[0], index = df.index)\n",
    "    while rp < df.shape[0]: \n",
    "        if rp - lp <= 3: \n",
    "            concats.iloc[rp] = (\"\\n-\".join(df.iloc[lp:rp][\"headline\"].astype(str).values))\n",
    "            rp += 1\n",
    "        else:\n",
    "            lp += 1\n",
    "    return concats\n",
    "\n",
    "if __name__==\"__main__\":\n",
    "    path_df_news_context_done = ROOT_DIR/ \"temp/data_v5_company_context_done.parquet\"\n",
    "    if not path_df_news_context_done.exists():\n",
    "        raise Exception(\"run data_v5_company_context.py first\")\n",
    "    start = time()\n",
    "    dfnews = pd.read_parquet(path_df_news_context_done)\n",
    "    # dfnews = dfnews.loc[dfnews.index.get_level_values(0).isin(dfnews.index.get_level_values(0).unique()[:30])] # REMOVE THIS CELL WHEN DONE DEBUGGING\n",
    "    dfnews = dfnews.reset_index().set_index([\"SYMBOL\",\"DATE\"]).sort_index()\n",
    "    dfnews[\"news_context\"] = \"None\"\n",
    "    tqdm.pandas()\n",
    "    dfnews[\"news_context\"] = dfnews.groupby(\"SYMBOL\").progress_apply(apply_function).reset_index(level= 0, drop = True)\n",
    "    print(f\"headlines concat finished in {time()-start:.2f} seconds\")\n",
    "    dfnews.to_parquet(ROOT_DIR/ \"temp/data_v5_context_news_done.parquet\")\n",
    "    write_headlines_to_file(dfnews= dfnews, x_col = \"context\", add_cols=[\"company_name\",\"news_context\"], filepath = ROOT_DIR / \"data_preprocess\"/ \"news_headlines_v5_concat.txt\", limit = 1000000, step = 100, keep_date=False)\n",
    "    print(f\"done\")"
   ]
  },
  {
   "cell_type": "code",
   "execution_count": 35,
   "metadata": {},
   "outputs": [
    {
     "name": "stdout",
     "output_type": "stream",
     "text": [
      "shape of dfnews_post_wikipedia (1002870, 13)\n",
      "columns of dfnews_post_wikipedia Index(['headline', 'RET_5D_bin', 'RET_10D_bin', 'DES_MCAP_CCY',\n",
      "       'DES_FACTSET_INDUSTRY', 'DES_FACTSET_SECTOR', 'DES_BETA_ADJ_104W',\n",
      "       'RET_5D_pos', 'RET_10D_pos', 'DATE_diff', 'company_name',\n",
      "       'company_context', 'news_context'],\n",
      "      dtype='object')\n"
     ]
    }
   ],
   "source": [
    "path_df_news_context_done = ROOT_DIR/ \"temp/data_v5_context_news_done.parquet\"\n",
    "dfnews_post_wikipedia = pd.read_parquet(path_df_news_context_done)\n",
    "print(f\"shape of dfnews_post_wikipedia {dfnews_post_wikipedia.shape}\")\n",
    "print(f\"columns of dfnews_post_wikipedia {dfnews_post_wikipedia.columns}\")"
   ]
  },
  {
   "cell_type": "code",
   "execution_count": 40,
   "metadata": {},
   "outputs": [
    {
     "name": "stdout",
     "output_type": "stream",
     "text": [
      "shape of dfnews_post_wikipedia (1002870, 13)\n",
      "number of symbols in df 11100\n",
      "min date in df 2003-04-11 00:00:00\n",
      "max date in df 2019-12-31 00:00:00\n"
     ]
    }
   ],
   "source": [
    "dfnews_post_wikipedia.sample(50)[\"company_context\"].values\n",
    "print(f\"shape of dfnews_post_wikipedia {dfnews_post_wikipedia.shape}\")\n",
    "print(f\"number of symbols in df\", dfnews_post_wikipedia.index.get_level_values(0).nunique())\n",
    "print(f\"min date in df\", dfnews_post_wikipedia.index.get_level_values(1).min())\n",
    "print(f\"max date in df\", dfnews_post_wikipedia.index.get_level_values(1).max())"
   ]
  },
  {
   "cell_type": "code",
   "execution_count": 24,
   "metadata": {},
   "outputs": [],
   "source": [
    "gen = gen_news(dfnews, cols_add=[\"news_context\"])"
   ]
  },
  {
   "cell_type": "code",
   "execution_count": 25,
   "metadata": {},
   "outputs": [
    {
     "data": {
      "text/html": [
       "<div>\n",
       "<style scoped>\n",
       "    .dataframe tbody tr th:only-of-type {\n",
       "        vertical-align: middle;\n",
       "    }\n",
       "\n",
       "    .dataframe tbody tr th {\n",
       "        vertical-align: top;\n",
       "    }\n",
       "\n",
       "    .dataframe thead th {\n",
       "        text-align: right;\n",
       "    }\n",
       "</style>\n",
       "<table border=\"1\" class=\"dataframe\">\n",
       "  <thead>\n",
       "    <tr style=\"text-align: right;\">\n",
       "      <th></th>\n",
       "      <th>DATE</th>\n",
       "      <th>headline</th>\n",
       "      <th>news_context</th>\n",
       "    </tr>\n",
       "  </thead>\n",
       "  <tbody>\n",
       "    <tr>\n",
       "      <th>0</th>\n",
       "      <td>2016-01-13</td>\n",
       "      <td>PBF Logistics guides FY (Dec 2016) Revenue $143.5 vs FactSet $145.8M  slides</td>\n",
       "      <td></td>\n",
       "    </tr>\n",
       "    <tr>\n",
       "      <th>1</th>\n",
       "      <td>2016-02-03</td>\n",
       "      <td>PBF Logistics acquires four refined product terminals from Plains All American (PAA) for $100M</td>\n",
       "      <td>PBF Logistics guides FY (Dec 2016) Revenue $143.5 vs FactSet $145.8M  slides</td>\n",
       "    </tr>\n",
       "    <tr>\n",
       "      <th>2</th>\n",
       "      <td>2016-03-31</td>\n",
       "      <td>PBF Logistics announces 2.5M unit secondary offering through UBS</td>\n",
       "      <td>PBF Logistics guides FY (Dec 2016) Revenue $143.5 vs FactSet $145.8M  slides\\n-PBF Logistics acquires four refined product terminals from Plains All American (PAA) for $100M</td>\n",
       "    </tr>\n",
       "    <tr>\n",
       "      <th>3</th>\n",
       "      <td>2016-04-20</td>\n",
       "      <td>FTC grants antitrust clearance for PBF Logistics' purchase of four refined product terminals from Plains All American (PAA)</td>\n",
       "      <td>PBF Logistics guides FY (Dec 2016) Revenue $143.5 vs FactSet $145.8M  slides\\n-PBF Logistics acquires four refined product terminals from Plains All American (PAA) for $100M\\n-PBF Logistics announces 2.5M unit secondary offering through UBS</td>\n",
       "    </tr>\n",
       "    <tr>\n",
       "      <th>4</th>\n",
       "      <td>2016-04-21</td>\n",
       "      <td>Raymond James initiates MPLX, PBFX, PSXP, others</td>\n",
       "      <td>PBF Logistics acquires four refined product terminals from Plains All American (PAA) for $100M\\n-PBF Logistics announces 2.5M unit secondary offering through UBS\\n-FTC grants antitrust clearance for PBF Logistics' purchase of four refined product terminals from Plains All American (PAA)</td>\n",
       "    </tr>\n",
       "    <tr>\n",
       "      <th>5</th>\n",
       "      <td>2016-04-29</td>\n",
       "      <td>PBF Logistics reports Q1 Earnings Per Share $0.53 vs FactSet $0.45; increases quarterly distribution to $0.42/unit</td>\n",
       "      <td>PBF Logistics announces 2.5M unit secondary offering through UBS\\n-FTC grants antitrust clearance for PBF Logistics' purchase of four refined product terminals from Plains All American (PAA)\\n-Raymond James initiates MPLX, PBFX, PSXP, others</td>\n",
       "    </tr>\n",
       "    <tr>\n",
       "      <th>6</th>\n",
       "      <td>2017-01-05</td>\n",
       "      <td>PBF Logistics guides FY (Dec 2017) EBITDA $135.2M vs FactSet $156.3M -- investor slides</td>\n",
       "      <td>FTC grants antitrust clearance for PBF Logistics' purchase of four refined product terminals from Plains All American (PAA)\\n-Raymond James initiates MPLX, PBFX, PSXP, others\\n-PBF Logistics reports Q1 Earnings Per Share $0.53 vs FactSet $0.45; increases quarterly distribution to $0.42/unit</td>\n",
       "    </tr>\n",
       "    <tr>\n",
       "      <th>7</th>\n",
       "      <td>2017-04-18</td>\n",
       "      <td>PBF Logistics acquires Toledo Terminal from Sunoco Logistics (SXL)</td>\n",
       "      <td>Raymond James initiates MPLX, PBFX, PSXP, others\\n-PBF Logistics reports Q1 Earnings Per Share $0.53 vs FactSet $0.45; increases quarterly distribution to $0.42/unit\\n-PBF Logistics guides FY (Dec 2017) EBITDA $135.2M vs FactSet $156.3M -- investor slides</td>\n",
       "    </tr>\n",
       "    <tr>\n",
       "      <th>8</th>\n",
       "      <td>2017-05-05</td>\n",
       "      <td>PBF Logistics reports Q1 Earnings Per Share $0.55 vs FactSet $0.52</td>\n",
       "      <td>PBF Logistics reports Q1 Earnings Per Share $0.53 vs FactSet $0.45; increases quarterly distribution to $0.42/unit\\n-PBF Logistics guides FY (Dec 2017) EBITDA $135.2M vs FactSet $156.3M -- investor slides\\n-PBF Logistics acquires Toledo Terminal from Sunoco Logistics (SXL)</td>\n",
       "    </tr>\n",
       "    <tr>\n",
       "      <th>9</th>\n",
       "      <td>2017-05-23</td>\n",
       "      <td>U.S. Capital Advisors initiates HEP, HFC, MPC, others</td>\n",
       "      <td>PBF Logistics guides FY (Dec 2017) EBITDA $135.2M vs FactSet $156.3M -- investor slides\\n-PBF Logistics acquires Toledo Terminal from Sunoco Logistics (SXL)\\n-PBF Logistics reports Q1 Earnings Per Share $0.55 vs FactSet $0.52</td>\n",
       "    </tr>\n",
       "  </tbody>\n",
       "</table>\n",
       "</div>"
      ],
      "text/plain": [
       "        DATE  \\\n",
       "0 2016-01-13   \n",
       "1 2016-02-03   \n",
       "2 2016-03-31   \n",
       "3 2016-04-20   \n",
       "4 2016-04-21   \n",
       "5 2016-04-29   \n",
       "6 2017-01-05   \n",
       "7 2017-04-18   \n",
       "8 2017-05-05   \n",
       "9 2017-05-23   \n",
       "\n",
       "                                                                                                                      headline  \\\n",
       "0                                                 PBF Logistics guides FY (Dec 2016) Revenue $143.5 vs FactSet $145.8M  slides   \n",
       "1                               PBF Logistics acquires four refined product terminals from Plains All American (PAA) for $100M   \n",
       "2                                                             PBF Logistics announces 2.5M unit secondary offering through UBS   \n",
       "3  FTC grants antitrust clearance for PBF Logistics' purchase of four refined product terminals from Plains All American (PAA)   \n",
       "4                                                                             Raymond James initiates MPLX, PBFX, PSXP, others   \n",
       "5           PBF Logistics reports Q1 Earnings Per Share $0.53 vs FactSet $0.45; increases quarterly distribution to $0.42/unit   \n",
       "6                                      PBF Logistics guides FY (Dec 2017) EBITDA $135.2M vs FactSet $156.3M -- investor slides   \n",
       "7                                                           PBF Logistics acquires Toledo Terminal from Sunoco Logistics (SXL)   \n",
       "8                                                           PBF Logistics reports Q1 Earnings Per Share $0.55 vs FactSet $0.52   \n",
       "9                                                                        U.S. Capital Advisors initiates HEP, HFC, MPC, others   \n",
       "\n",
       "                                                                                                                                                                                                                                                                                          news_context  \n",
       "0                                                                                                                                                                                                                                                                                                       \n",
       "1                                                                                                                                                                                                                         PBF Logistics guides FY (Dec 2016) Revenue $143.5 vs FactSet $145.8M  slides  \n",
       "2                                                                                                                        PBF Logistics guides FY (Dec 2016) Revenue $143.5 vs FactSet $145.8M  slides\\n-PBF Logistics acquires four refined product terminals from Plains All American (PAA) for $100M  \n",
       "3                                                     PBF Logistics guides FY (Dec 2016) Revenue $143.5 vs FactSet $145.8M  slides\\n-PBF Logistics acquires four refined product terminals from Plains All American (PAA) for $100M\\n-PBF Logistics announces 2.5M unit secondary offering through UBS  \n",
       "4      PBF Logistics acquires four refined product terminals from Plains All American (PAA) for $100M\\n-PBF Logistics announces 2.5M unit secondary offering through UBS\\n-FTC grants antitrust clearance for PBF Logistics' purchase of four refined product terminals from Plains All American (PAA)  \n",
       "5                                                    PBF Logistics announces 2.5M unit secondary offering through UBS\\n-FTC grants antitrust clearance for PBF Logistics' purchase of four refined product terminals from Plains All American (PAA)\\n-Raymond James initiates MPLX, PBFX, PSXP, others  \n",
       "6  FTC grants antitrust clearance for PBF Logistics' purchase of four refined product terminals from Plains All American (PAA)\\n-Raymond James initiates MPLX, PBFX, PSXP, others\\n-PBF Logistics reports Q1 Earnings Per Share $0.53 vs FactSet $0.45; increases quarterly distribution to $0.42/unit  \n",
       "7                                      Raymond James initiates MPLX, PBFX, PSXP, others\\n-PBF Logistics reports Q1 Earnings Per Share $0.53 vs FactSet $0.45; increases quarterly distribution to $0.42/unit\\n-PBF Logistics guides FY (Dec 2017) EBITDA $135.2M vs FactSet $156.3M -- investor slides  \n",
       "8                    PBF Logistics reports Q1 Earnings Per Share $0.53 vs FactSet $0.45; increases quarterly distribution to $0.42/unit\\n-PBF Logistics guides FY (Dec 2017) EBITDA $135.2M vs FactSet $156.3M -- investor slides\\n-PBF Logistics acquires Toledo Terminal from Sunoco Logistics (SXL)  \n",
       "9                                                                    PBF Logistics guides FY (Dec 2017) EBITDA $135.2M vs FactSet $156.3M -- investor slides\\n-PBF Logistics acquires Toledo Terminal from Sunoco Logistics (SXL)\\n-PBF Logistics reports Q1 Earnings Per Share $0.55 vs FactSet $0.52  "
      ]
     },
     "execution_count": 25,
     "metadata": {},
     "output_type": "execute_result"
    }
   ],
   "source": [
    "pd.set_option('display.max_colwidth', 300)\n",
    "next(gen)"
   ]
  },
  {
   "cell_type": "markdown",
   "metadata": {},
   "source": [
    "# Testing Yahoo API - for company context\n",
    "\n",
    "The api does not work. It demands a sign in key. \n",
    "\n",
    "BUT, using selenium, and multithreading, we can efficiently scrape company profiles, for any ticker. \n",
    "\n",
    "Steps: \n",
    "1. Use Yahoo simple scraping (w/ requests) to obtain company tickers (ex. GOOGL)\n",
    "2. Use Yahoo + Selenium to scrape company profiles"
   ]
  },
  {
   "cell_type": "markdown",
   "metadata": {},
   "source": [
    "### Requests -> Ticker"
   ]
  },
  {
   "cell_type": "code",
   "execution_count": 7,
   "metadata": {},
   "outputs": [],
   "source": [
    "import requests\n"
   ]
  },
  {
   "cell_type": "code",
   "execution_count": 5,
   "metadata": {},
   "outputs": [
    {
     "data": {
      "text/plain": [
       "Index(['headline', 'RET_5D_bin', 'RET_10D_bin', 'DES_MCAP_CCY',\n",
       "       'DES_FACTSET_INDUSTRY', 'DES_FACTSET_SECTOR', 'DES_BETA_ADJ_104W',\n",
       "       'RET_5D_pos', 'RET_10D_pos'],\n",
       "      dtype='object')"
      ]
     },
     "execution_count": 5,
     "metadata": {},
     "output_type": "execute_result"
    }
   ],
   "source": [
    "dfnews_wikipedia_done_path = ROOT_DIR/ \"temp/data_v5_company_context_done.parquet\""
   ]
  },
  {
   "cell_type": "code",
   "execution_count": null,
   "metadata": {},
   "outputs": [],
   "source": [
    "from bs4 import BeautifulSoup\n",
    "import requests\n",
    "import re\n",
    "\n",
    "def get_ticker_from_name(company_name):\n",
    "    # Use the Yahoo Finance search functionality\n",
    "    search_url = f\"https://finance.yahoo.com/lookup?s={company_name}\"\n",
    "    print(f\"looking inside {search_url}\")\n",
    "    headers = {\n",
    "    'User-Agent': 'Mozilla/5.0 (Windows NT 10.0; Win64; x64) AppleWebKit/537.36 (KHTML, like Gecko) Chrome/91.0.4472.124 Safari/537.36'\n",
    "    }   \n",
    "    response = requests.get(search_url, headers=headers)\n",
    "    response.raise_for_status()\n",
    "    \n",
    "    soup = BeautifulSoup(response.content, 'html.parser')\n",
    "    \n",
    "    # Try finding the ticker from search results\n",
    "    ticker_anchor = soup.find_all(\"a\", href = re.compile(\"\\/quote\\/.*\"), attrs = {\"data-symbol\": True})\n",
    "    if ticker_anchor:\n",
    "        ticker_anchor = ticker_anchor[0]\n",
    "        data_symbol = ticker_anchor['data-symbol']\n",
    "        return data_symbol\n",
    "    else:\n",
    "        return None\n",
    "\n",
    "def get_yahoo_finance_description(ticker):\n",
    "    # Construct the URL based on the tic ker\n",
    "    print(f\"getting yahoo finance description for {ticker}\")\n",
    "    url = f\"https://finance.yahoo.com/quote/{ticker}\"\n",
    "    # headers = {\n",
    "    # 'User-Agent': 'Mozilla/5.0 (Windows NT 10.0; Win64; x64) AppleWebKit/537.36 (KHTML, like Gecko) Chrome/91.0.4472.124 Safari/537.36'\n",
    "    # }   \n",
    "    response = requests.get(url, headers=headers)\n",
    "    response.raise_for_status()\n",
    "\n",
    "    soup = BeautifulSoup(response.content, 'html.parser')\n",
    "    print(soup)\n",
    "    # Find the element with the 'businessSummary' class\n",
    "    business_summary = soup.find(\"p\", class_=\"businessSummary Mt(10px) Ov(h) Tov(e)\")\n",
    "\n",
    "    if business_summary:\n",
    "        return business_summary.get_text()\n",
    "    else:\n",
    "        return None\n",
    "\n",
    "if __name__ == \"__main__\":\n",
    "    company_name = input(\"Enter the company name: \")\n",
    "    ticker = get_ticker_from_name(company_name)\n",
    "    \n",
    "    if ticker:\n",
    "        description = get_yahoo_finance_description(ticker)\n",
    "        if description:\n",
    "            print(f\"Description for {company_name} ({ticker}):\\n\\n{description}\")\n",
    "        else:\n",
    "            print(f\"No description found for {company_name}.\")\n",
    "    else:\n",
    "        print(f\"Couldn't find a ticker for {company_name} on Yahoo Finance.\")\n",
    "\n"
   ]
  },
  {
   "cell_type": "code",
   "execution_count": 32,
   "metadata": {},
   "outputs": [
    {
     "name": "stdout",
     "output_type": "stream",
     "text": [
      "Writing data_v5_yahoo_ticker.py\n"
     ]
    }
   ],
   "source": [
    "# %%writefile data_v5_yahoo_ticker.py\n",
    "# get the ticker name for every company name\n",
    "from bs4 import BeautifulSoup\n",
    "import requests\n",
    "from itertools import islice\n",
    "import re\n",
    "import os\n",
    "import pandas as pd\n",
    "import numpy as np\n",
    "from pathlib import Path\n",
    "from itertools import chain\n",
    "ROOT_DIR = next(filter(lambda s: \"LLM\" in s.name,chain(Path().absolute().parents,[Path(os.getcwd())])), None)\n",
    "print(f\"ROOT_DIR {ROOT_DIR}\")\n",
    "import configparser\n",
    "import matplotlib.pyplot as plt\n",
    "config = configparser.ConfigParser()\n",
    "config.read(ROOT_DIR/'config.ini')\n",
    "DATA_FOLDER = Path(config.get(\"paths\",\"path_data\"))\n",
    "print(f\"DATA_FOLDER {DATA_FOLDER}\")\n",
    "assert os.path.isdir(DATA_FOLDER)\n",
    "assert os.path.isdir(ROOT_DIR)\n",
    "import sys \n",
    "sys.path.append(str(ROOT_DIR))\n",
    "from pathlib import Path\n",
    "from tqdm import tqdm\n",
    "from collections import Counter\n",
    "from utils.io_utils import write_headlines_to_file\n",
    "from concurrent.futures import ThreadPoolExecutor\n",
    "\n",
    "\n",
    "def get_ticker_from_name(company_name):\n",
    "    # Use the Yahoo Finance search functionality\n",
    "    search_url = f\"https://finance.yahoo.com/lookup?s={company_name}\"\n",
    "    headers = {\n",
    "    'User-Agent': 'Mozilla/5.0 (Windows NT 10.0; Win64; x64) AppleWebKit/537.36 (KHTML, like Gecko) Chrome/91.0.4472.124 Safari/537.36'\n",
    "    }   \n",
    "    response = requests.get(search_url, headers=headers)\n",
    "    response.raise_for_status()\n",
    "    \n",
    "    soup = BeautifulSoup(response.content, 'html.parser')\n",
    "    \n",
    "    # Try finding the ticker from search results\n",
    "    ticker_anchor = soup.find_all(\"a\", href = re.compile(\"\\/quote\\/.*\"), attrs = {\"data-symbol\": True})\n",
    "    if ticker_anchor:\n",
    "        ticker_anchor = ticker_anchor[0]\n",
    "        data_symbol = ticker_anchor['data-symbol']\n",
    "        return data_symbol\n",
    "    else:\n",
    "        return None\n",
    "    \n",
    "if __name__ == \"__main__\":\n",
    "    path_dfnews = ROOT_DIR/ \"temp/data_v5_context_news_done.parquet\"\n",
    "    assert path_dfnews.exists()\n",
    "    dfnews = pd.read_parquet(path_dfnews)\n",
    "    print(f\"working with shape {dfnews.shape}\")\n",
    "    tqdm.pandas()\n",
    "    company_names = dfnews[\"company_name\"].unique()\n",
    "    company_name_ticker = {}\n",
    "    \n",
    "    with ThreadPoolExecutor(max_workers=10) as executor:\n",
    "        for company_name in islice(tqdm(company_names), 100):\n",
    "            ticker = executor.submit(get_ticker_from_name, company_name)\n",
    "            company_name_ticker[company_name] = ticker.result()\n",
    "    dfnews[\"ticker\"] = dfnews[\"company_name\"].apply(lambda x: company_name_ticker[x])\n",
    "    dfnews.to_parquet(ROOT_DIR/ \"temp/data_v5_ticker_done.parquet\")\n",
    "\n",
    "\n"
   ]
  },
  {
   "cell_type": "code",
   "execution_count": 28,
   "metadata": {},
   "outputs": [
    {
     "data": {
      "text/plain": [
       "{'PBF Logistics': None,\n",
       " 'Ultra Petroleum': None,\n",
       " 'G8 Education': '3EAG.BE',\n",
       " 'Overstock.com': 'OSTK',\n",
       " 'Wincor Nixdorf': None,\n",
       " 'ChromaDex': 'CDXC',\n",
       " 'Northland Power': 'NPI.TO',\n",
       " 'Forterra': 'FORT.L',\n",
       " 'ArQule': None,\n",
       " 'Aker BP': 'AKRBP.OL',\n",
       " 'Mitsubishi Electric': '6503.T',\n",
       " 'AngioDynamics': 'ANGO',\n",
       " 'Promethean World': None,\n",
       " 'Tata Steel': 'TATASTEEL.NS',\n",
       " 'Nomura Holdings': 'NMR',\n",
       " 'Marriott Vacations Worldwide': 'VAC',\n",
       " 'Good Foods': 'SMPL',\n",
       " 'Burger King Worldwide': None,\n",
       " 'Sturm Ruger': 'RGR',\n",
       " 'Lenovo Group': '0992.HK',\n",
       " 'Apollo Medical': 'AMEH',\n",
       " 'United Drug': None,\n",
       " 'Aurora Cannabis': 'ACB',\n",
       " 'Astral Foods': 'ARL.JO',\n",
       " 'Brooks Automation': '0HQ1.L',\n",
       " 'Ampco-Pittsburgh': 'AP',\n",
       " 'Eli Lilly': 'LLY',\n",
       " 'Agfa Gevaert': 'AGFB.BR',\n",
       " 'NewMarket': 'NEU',\n",
       " 'Saras': 'SRS.MI'}"
      ]
     },
     "execution_count": 28,
     "metadata": {},
     "output_type": "execute_result"
    }
   ],
   "source": [
    "company_name_ticker"
   ]
  },
  {
   "cell_type": "markdown",
   "metadata": {},
   "source": [
    "### Selenium -> Description Company"
   ]
  },
  {
   "cell_type": "code",
   "execution_count": 8,
   "metadata": {},
   "outputs": [],
   "source": [
    "dfnews = pd.read_parquet(ROOT_DIR/ \"temp/data_v5_ticker_done.parquet\")\n",
    "dfnews.columns\n",
    "from utils_misc import gen_news\n",
    "gne = gen_news(dfnews, cols_add=[\"ticker\"])\n"
   ]
  },
  {
   "cell_type": "code",
   "execution_count": 9,
   "metadata": {},
   "outputs": [
    {
     "name": "stdout",
     "output_type": "stream",
     "text": [
      "number of unique tickers 23\n",
      "number of symbols in df 30\n"
     ]
    }
   ],
   "source": [
    "# count Nones in dfnews ticker unique \n",
    "dfnews[\"ticker\"].unique()\n",
    "print(f\"number of unique tickers {dfnews['ticker'].unique().shape[0]-1}\")\n",
    "print(f\"number of symbols in df {dfnews.index.get_level_values(0).unique().shape[0]}\")"
   ]
  },
  {
   "cell_type": "code",
   "execution_count": 10,
   "metadata": {},
   "outputs": [
    {
     "data": {
      "text/html": [
       "<div>\n",
       "<style scoped>\n",
       "    .dataframe tbody tr th:only-of-type {\n",
       "        vertical-align: middle;\n",
       "    }\n",
       "\n",
       "    .dataframe tbody tr th {\n",
       "        vertical-align: top;\n",
       "    }\n",
       "\n",
       "    .dataframe thead th {\n",
       "        text-align: right;\n",
       "    }\n",
       "</style>\n",
       "<table border=\"1\" class=\"dataframe\">\n",
       "  <thead>\n",
       "    <tr style=\"text-align: right;\">\n",
       "      <th></th>\n",
       "      <th>DATE</th>\n",
       "      <th>headline</th>\n",
       "      <th>ticker</th>\n",
       "    </tr>\n",
       "  </thead>\n",
       "  <tbody>\n",
       "    <tr>\n",
       "      <th>0</th>\n",
       "      <td>2016-01-13</td>\n",
       "      <td>PBF Logistics guides FY (Dec 2016) Revenue $14...</td>\n",
       "      <td>None</td>\n",
       "    </tr>\n",
       "    <tr>\n",
       "      <th>1</th>\n",
       "      <td>2016-02-03</td>\n",
       "      <td>PBF Logistics acquires four refined product te...</td>\n",
       "      <td>None</td>\n",
       "    </tr>\n",
       "    <tr>\n",
       "      <th>2</th>\n",
       "      <td>2016-03-31</td>\n",
       "      <td>PBF Logistics announces 2.5M unit secondary of...</td>\n",
       "      <td>None</td>\n",
       "    </tr>\n",
       "    <tr>\n",
       "      <th>3</th>\n",
       "      <td>2016-04-20</td>\n",
       "      <td>FTC grants antitrust clearance for PBF Logisti...</td>\n",
       "      <td>None</td>\n",
       "    </tr>\n",
       "    <tr>\n",
       "      <th>4</th>\n",
       "      <td>2016-04-21</td>\n",
       "      <td>Raymond James initiates MPLX, PBFX, PSXP, others</td>\n",
       "      <td>None</td>\n",
       "    </tr>\n",
       "    <tr>\n",
       "      <th>5</th>\n",
       "      <td>2016-04-29</td>\n",
       "      <td>PBF Logistics reports Q1 Earnings Per Share $0...</td>\n",
       "      <td>None</td>\n",
       "    </tr>\n",
       "    <tr>\n",
       "      <th>6</th>\n",
       "      <td>2017-01-05</td>\n",
       "      <td>PBF Logistics guides FY (Dec 2017) EBITDA $135...</td>\n",
       "      <td>None</td>\n",
       "    </tr>\n",
       "    <tr>\n",
       "      <th>7</th>\n",
       "      <td>2017-04-18</td>\n",
       "      <td>PBF Logistics acquires Toledo Terminal from Su...</td>\n",
       "      <td>None</td>\n",
       "    </tr>\n",
       "    <tr>\n",
       "      <th>8</th>\n",
       "      <td>2017-05-05</td>\n",
       "      <td>PBF Logistics reports Q1 Earnings Per Share $0...</td>\n",
       "      <td>None</td>\n",
       "    </tr>\n",
       "    <tr>\n",
       "      <th>9</th>\n",
       "      <td>2017-05-23</td>\n",
       "      <td>U.S. Capital Advisors initiates HEP, HFC, MPC,...</td>\n",
       "      <td>None</td>\n",
       "    </tr>\n",
       "  </tbody>\n",
       "</table>\n",
       "</div>"
      ],
      "text/plain": [
       "        DATE                                           headline ticker\n",
       "0 2016-01-13  PBF Logistics guides FY (Dec 2016) Revenue $14...   None\n",
       "1 2016-02-03  PBF Logistics acquires four refined product te...   None\n",
       "2 2016-03-31  PBF Logistics announces 2.5M unit secondary of...   None\n",
       "3 2016-04-20  FTC grants antitrust clearance for PBF Logisti...   None\n",
       "4 2016-04-21   Raymond James initiates MPLX, PBFX, PSXP, others   None\n",
       "5 2016-04-29  PBF Logistics reports Q1 Earnings Per Share $0...   None\n",
       "6 2017-01-05  PBF Logistics guides FY (Dec 2017) EBITDA $135...   None\n",
       "7 2017-04-18  PBF Logistics acquires Toledo Terminal from Su...   None\n",
       "8 2017-05-05  PBF Logistics reports Q1 Earnings Per Share $0...   None\n",
       "9 2017-05-23  U.S. Capital Advisors initiates HEP, HFC, MPC,...   None"
      ]
     },
     "execution_count": 10,
     "metadata": {},
     "output_type": "execute_result"
    }
   ],
   "source": [
    "next(gne)"
   ]
  },
  {
   "cell_type": "code",
   "execution_count": 11,
   "metadata": {},
   "outputs": [
    {
     "name": "stdout",
     "output_type": "stream",
     "text": [
      "ROOT_DIR /mnt/nvme0n1p1/LLM_project2\n"
     ]
    }
   ],
   "source": [
    "os.chdir(ROOT_DIR)\n",
    "print(f\"ROOT_DIR {ROOT_DIR}\")\n",
    "assert \"utils\" in os.listdir()\n",
    "from utils.io_utils import write_headlines_to_file\n"
   ]
  },
  {
   "cell_type": "code",
   "execution_count": 15,
   "metadata": {},
   "outputs": [
    {
     "name": "stdout",
     "output_type": "stream",
     "text": [
      "ROOT_DIR /mnt/nvme0n1p1/LLM_project2\n",
      "DATA_FOLDER /mnt/nvme0n1p1/ml_data_tre/LLM_project\n",
      "added /mnt/nvme0n1p1/LLM_project2 to sys path\n"
     ]
    },
    {
     "name": "stderr",
     "output_type": "stream",
     "text": [
      "  0%|          | 0/24 [00:00<?, ?it/s]"
     ]
    },
    {
     "name": "stdout",
     "output_type": "stream",
     "text": [
      "10/27/2023 09:58:32 - INFO - WDM -   ====== WebDriver manager ======\n",
      "10/27/2023 09:58:32 - INFO - WDM -   ====== WebDriver manager ======\n",
      "10/27/2023 09:58:32 - INFO - WDM -   ====== WebDriver manager ======\n",
      "10/27/2023 09:58:32 - INFO - WDM -   ====== WebDriver manager ======\n",
      "10/27/2023 09:58:32 - INFO - WDM -   ====== WebDriver manager ======\n",
      "10/27/2023 09:58:32 - INFO - WDM -   ====== WebDriver manager ======\n",
      "10/27/2023 09:58:32 - INFO - WDM -   ====== WebDriver manager ======\n"
     ]
    },
    {
     "name": "stderr",
     "output_type": "stream",
     "text": [
      " 38%|███▊      | 9/24 [00:00<00:00, 807.18it/s]"
     ]
    },
    {
     "name": "stdout",
     "output_type": "stream",
     "text": [
      "10/27/2023 09:58:32 - INFO - WDM -   ====== WebDriver manager ======\n",
      "10/27/2023 09:58:32 - INFO - WDM -   ====== WebDriver manager ======\n",
      "10/27/2023 09:58:32 - INFO - WDM -   ====== WebDriver manager ======\n",
      "10/27/2023 09:58:32 - INFO - WDM -   Get LATEST chromedriver version for google-chrome\n",
      "10/27/2023 09:58:32 - INFO - WDM -   Get LATEST chromedriver version for google-chrome\n",
      "10/27/2023 09:58:32 - INFO - WDM -   Get LATEST chromedriver version for google-chrome\n",
      "10/27/2023 09:58:32 - INFO - WDM -   Get LATEST chromedriver version for google-chrome\n"
     ]
    },
    {
     "name": "stdout",
     "output_type": "stream",
     "text": [
      "10/27/2023 09:58:32 - INFO - WDM -   Get LATEST chromedriver version for google-chrome\n",
      "10/27/2023 09:58:32 - INFO - WDM -   Get LATEST chromedriver version for google-chrome\n",
      "10/27/2023 09:58:32 - INFO - WDM -   Get LATEST chromedriver version for google-chrome\n",
      "10/27/2023 09:58:32 - INFO - WDM -   Get LATEST chromedriver version for google-chrome\n",
      "10/27/2023 09:58:32 - INFO - WDM -   Get LATEST chromedriver version for google-chrome\n",
      "10/27/2023 09:58:32 - INFO - WDM -   Get LATEST chromedriver version for google-chrome\n"
     ]
    },
    {
     "name": "stderr",
     "output_type": "stream",
     "text": [
      "\n"
     ]
    },
    {
     "name": "stdout",
     "output_type": "stream",
     "text": [
      "10/27/2023 09:58:33 - INFO - WDM -   Get LATEST chromedriver version for google-chrome\n",
      "10/27/2023 09:58:33 - INFO - WDM -   Get LATEST chromedriver version for google-chrome\n",
      "10/27/2023 09:58:33 - INFO - WDM -   Get LATEST chromedriver version for google-chrome\n",
      "10/27/2023 09:58:33 - INFO - WDM -   Get LATEST chromedriver version for google-chrome\n",
      "10/27/2023 09:58:33 - INFO - WDM -   Get LATEST chromedriver version for google-chrome\n",
      "10/27/2023 09:58:33 - INFO - WDM -   Get LATEST chromedriver version for google-chrome\n",
      "10/27/2023 09:58:34 - INFO - WDM -   Get LATEST chromedriver version for google-chrome\n",
      "10/27/2023 09:58:34 - INFO - WDM -   Get LATEST chromedriver version for google-chrome\n",
      "10/27/2023 09:58:34 - INFO - WDM -   Get LATEST chromedriver version for google-chrome\n",
      "10/27/2023 09:58:34 - INFO - WDM -   Get LATEST chromedriver version for google-chrome\n",
      "10/27/2023 09:58:34 - INFO - WDM -   Driver [/home/tre/.wdm/drivers/chromedriver/linux64/118.0.5993.70/chromedriver-linux64/chromedriver] found in cache\n",
      "10/27/2023 09:58:34 - INFO - WDM -   Driver [/home/tre/.wdm/drivers/chromedriver/linux64/118.0.5993.70/chromedriver-linux64/chromedriver] found in cache\n",
      "10/27/2023 09:58:34 - INFO - WDM -   Driver [/home/tre/.wdm/drivers/chromedriver/linux64/118.0.5993.70/chromedriver-linux64/chromedriver] found in cache\n",
      "10/27/2023 09:58:35 - INFO - WDM -   Driver [/home/tre/.wdm/drivers/chromedriver/linux64/118.0.5993.70/chromedriver-linux64/chromedriver] found in cache\n",
      "10/27/2023 09:58:35 - INFO - WDM -   Driver [/home/tre/.wdm/drivers/chromedriver/linux64/118.0.5993.70/chromedriver-linux64/chromedriver] found in cache\n",
      "10/27/2023 09:58:35 - INFO - WDM -   Driver [/home/tre/.wdm/drivers/chromedriver/linux64/118.0.5993.70/chromedriver-linux64/chromedriver] found in cache\n",
      "10/27/2023 09:58:35 - INFO - WDM -   Driver [/home/tre/.wdm/drivers/chromedriver/linux64/118.0.5993.70/chromedriver-linux64/chromedriver] found in cache\n",
      "10/27/2023 09:58:35 - INFO - WDM -   Driver [/home/tre/.wdm/drivers/chromedriver/linux64/118.0.5993.70/chromedriver-linux64/chromedriver] found in cache\n",
      "10/27/2023 09:58:35 - INFO - WDM -   Driver [/home/tre/.wdm/drivers/chromedriver/linux64/118.0.5993.70/chromedriver-linux64/chromedriver] found in cache\n",
      "10/27/2023 09:58:35 - INFO - WDM -   Driver [/home/tre/.wdm/drivers/chromedriver/linux64/118.0.5993.70/chromedriver-linux64/chromedriver] found in cache\n",
      "9 - setting result for None\n",
      "10/27/2023 09:58:35 - ERROR - concurrent.futures -   exception calling callback for <Future at 0x7f57447d2da0 state=finished raised SessionNotCreatedException>\n",
      "Traceback (most recent call last):\n",
      "  File \"/usr/lib/python3.10/concurrent/futures/_base.py\", line 342, in _invoke_callbacks\n",
      "    callback(self)\n",
      "  File \"/tmp/ipykernel_2387372/3985506734.py\", line 83, in <lambda>\n",
      "    future.add_done_callback(lambda f, t=ticker: get_result(t, f, i ))\n",
      "  File \"/tmp/ipykernel_2387372/3985506734.py\", line 74, in get_result\n",
      "    company_profiles[ticker] = future.result()\n",
      "  File \"/usr/lib/python3.10/concurrent/futures/_base.py\", line 451, in result\n",
      "    return self.__get_result()\n",
      "  File \"/usr/lib/python3.10/concurrent/futures/_base.py\", line 403, in __get_result\n",
      "    raise self._exception\n",
      "  File \"/usr/lib/python3.10/concurrent/futures/thread.py\", line 58, in run\n",
      "    result = self.fn(*self.args, **self.kwargs)\n",
      "  File \"/tmp/ipykernel_2387372/3985506734.py\", line 44, in get_yahoo_finance_description\n",
      "    driver = webdriver.Chrome(service=ChromeService(ChromeDriverManager().install()))\n",
      "  File \"/mnt/nvme0n1p1/LLM_project2/.venv/lib/python3.10/site-packages/selenium/webdriver/chrome/webdriver.py\", line 45, in __init__\n",
      "    super().__init__(\n",
      "  File \"/mnt/nvme0n1p1/LLM_project2/.venv/lib/python3.10/site-packages/selenium/webdriver/chromium/webdriver.py\", line 56, in __init__\n",
      "    super().__init__(\n",
      "  File \"/mnt/nvme0n1p1/LLM_project2/.venv/lib/python3.10/site-packages/selenium/webdriver/remote/webdriver.py\", line 205, in __init__\n",
      "    self.start_session(capabilities)\n",
      "  File \"/mnt/nvme0n1p1/LLM_project2/.venv/lib/python3.10/site-packages/selenium/webdriver/remote/webdriver.py\", line 289, in start_session\n",
      "    response = self.execute(Command.NEW_SESSION, caps)[\"value\"]\n",
      "  File \"/mnt/nvme0n1p1/LLM_project2/.venv/lib/python3.10/site-packages/selenium/webdriver/remote/webdriver.py\", line 344, in execute\n",
      "    self.error_handler.check_response(response)\n",
      "  File \"/mnt/nvme0n1p1/LLM_project2/.venv/lib/python3.10/site-packages/selenium/webdriver/remote/errorhandler.py\", line 229, in check_response\n",
      "    raise exception_class(message, screen, stacktrace)\n",
      "selenium.common.exceptions.SessionNotCreatedException: Message: session not created: Chrome failed to start: exited normally.\n",
      "  (session not created: DevToolsActivePort file doesn't exist)\n",
      "  (The process started from chrome location /opt/google/chrome/chrome is no longer running, so ChromeDriver is assuming that Chrome has crashed.)\n",
      "Stacktrace:\n",
      "#0 0x555761a3cfb3 <unknown>\n",
      "#1 0x5557617104a7 <unknown>\n",
      "#2 0x555761743c93 <unknown>\n",
      "#3 0x55576174010c <unknown>\n",
      "#4 0x555761782ac6 <unknown>\n",
      "#5 0x555761779713 <unknown>\n",
      "#6 0x55576174c18b <unknown>\n",
      "#7 0x55576174cf7e <unknown>\n",
      "#8 0x555761a028d8 <unknown>\n",
      "#9 0x555761a06800 <unknown>\n",
      "#10 0x555761a10cfc <unknown>\n",
      "#11 0x555761a07418 <unknown>\n",
      "#12 0x5557619d442f <unknown>\n",
      "#13 0x555761a2b4e8 <unknown>\n",
      "#14 0x555761a2b6b4 <unknown>\n",
      "#15 0x555761a3c143 <unknown>\n",
      "#16 0x7fc438094ac3 <unknown>\n",
      "\n",
      "9 - setting result for 3EAG.BE\n",
      "10/27/2023 09:58:35 - ERROR - concurrent.futures -   exception calling callback for <Future at 0x7f57447d2410 state=finished raised SessionNotCreatedException>\n",
      "Traceback (most recent call last):\n",
      "  File \"/usr/lib/python3.10/concurrent/futures/_base.py\", line 342, in _invoke_callbacks\n",
      "    callback(self)\n",
      "  File \"/tmp/ipykernel_2387372/3985506734.py\", line 83, in <lambda>\n",
      "    future.add_done_callback(lambda f, t=ticker: get_result(t, f, i ))\n",
      "  File \"/tmp/ipykernel_2387372/3985506734.py\", line 74, in get_result\n",
      "    company_profiles[ticker] = future.result()\n",
      "  File \"/usr/lib/python3.10/concurrent/futures/_base.py\", line 451, in result\n",
      "    return self.__get_result()\n",
      "  File \"/usr/lib/python3.10/concurrent/futures/_base.py\", line 403, in __get_result\n",
      "    raise self._exception\n",
      "  File \"/usr/lib/python3.10/concurrent/futures/thread.py\", line 58, in run\n",
      "    result = self.fn(*self.args, **self.kwargs)\n",
      "  File \"/tmp/ipykernel_2387372/3985506734.py\", line 44, in get_yahoo_finance_description\n",
      "    driver = webdriver.Chrome(service=ChromeService(ChromeDriverManager().install()))\n",
      "  File \"/mnt/nvme0n1p1/LLM_project2/.venv/lib/python3.10/site-packages/selenium/webdriver/chrome/webdriver.py\", line 45, in __init__\n",
      "    super().__init__(\n",
      "  File \"/mnt/nvme0n1p1/LLM_project2/.venv/lib/python3.10/site-packages/selenium/webdriver/chromium/webdriver.py\", line 56, in __init__\n",
      "    super().__init__(\n",
      "  File \"/mnt/nvme0n1p1/LLM_project2/.venv/lib/python3.10/site-packages/selenium/webdriver/remote/webdriver.py\", line 205, in __init__\n",
      "    self.start_session(capabilities)\n",
      "  File \"/mnt/nvme0n1p1/LLM_project2/.venv/lib/python3.10/site-packages/selenium/webdriver/remote/webdriver.py\", line 289, in start_session\n",
      "    response = self.execute(Command.NEW_SESSION, caps)[\"value\"]\n",
      "  File \"/mnt/nvme0n1p1/LLM_project2/.venv/lib/python3.10/site-packages/selenium/webdriver/remote/webdriver.py\", line 344, in execute\n",
      "    self.error_handler.check_response(response)\n",
      "  File \"/mnt/nvme0n1p1/LLM_project2/.venv/lib/python3.10/site-packages/selenium/webdriver/remote/errorhandler.py\", line 229, in check_response\n",
      "    raise exception_class(message, screen, stacktrace)\n",
      "selenium.common.exceptions.SessionNotCreatedException: Message: session not created: Chrome failed to start: exited normally.\n",
      "  (session not created: DevToolsActivePort file doesn't exist)\n",
      "  (The process started from chrome location /opt/google/chrome/chrome is no longer running, so ChromeDriver is assuming that Chrome has crashed.)\n",
      "Stacktrace:\n",
      "#0 0x563aacb0bfb3 <unknown>\n",
      "#1 0x563aac7df4a7 <unknown>\n",
      "#2 0x563aac812c93 <unknown>\n",
      "#3 0x563aac80f10c <unknown>\n",
      "#4 0x563aac851ac6 <unknown>\n",
      "#5 0x563aac848713 <unknown>\n",
      "#6 0x563aac81b18b <unknown>\n",
      "#7 0x563aac81bf7e <unknown>\n",
      "#8 0x563aacad18d8 <unknown>\n",
      "#9 0x563aacad5800 <unknown>\n",
      "#10 0x563aacadfcfc <unknown>\n",
      "#11 0x563aacad6418 <unknown>\n",
      "#12 0x563aacaa342f <unknown>\n",
      "#13 0x563aacafa4e8 <unknown>\n",
      "#14 0x563aacafa6b4 <unknown>\n",
      "#15 0x563aacb0b143 <unknown>\n",
      "#16 0x7fc1ef694ac3 <unknown>\n",
      "\n",
      "9 - setting result for FORT.L\n",
      "10/27/2023 09:58:35 - ERROR - concurrent.futures -   exception calling callback for <Future at 0x7f577c16c6d0 state=finished raised SessionNotCreatedException>\n",
      "Traceback (most recent call last):\n",
      "  File \"/usr/lib/python3.10/concurrent/futures/_base.py\", line 342, in _invoke_callbacks\n",
      "    callback(self)\n",
      "  File \"/tmp/ipykernel_2387372/3985506734.py\", line 83, in <lambda>\n",
      "    future.add_done_callback(lambda f, t=ticker: get_result(t, f, i ))\n",
      "  File \"/tmp/ipykernel_2387372/3985506734.py\", line 74, in get_result\n",
      "    company_profiles[ticker] = future.result()\n",
      "  File \"/usr/lib/python3.10/concurrent/futures/_base.py\", line 451, in result\n",
      "    return self.__get_result()\n",
      "  File \"/usr/lib/python3.10/concurrent/futures/_base.py\", line 403, in __get_result\n",
      "    raise self._exception\n",
      "  File \"/usr/lib/python3.10/concurrent/futures/thread.py\", line 58, in run\n",
      "    result = self.fn(*self.args, **self.kwargs)\n",
      "  File \"/tmp/ipykernel_2387372/3985506734.py\", line 44, in get_yahoo_finance_description\n",
      "    driver = webdriver.Chrome(service=ChromeService(ChromeDriverManager().install()))\n",
      "  File \"/mnt/nvme0n1p1/LLM_project2/.venv/lib/python3.10/site-packages/selenium/webdriver/chrome/webdriver.py\", line 45, in __init__\n",
      "    super().__init__(\n",
      "  File \"/mnt/nvme0n1p1/LLM_project2/.venv/lib/python3.10/site-packages/selenium/webdriver/chromium/webdriver.py\", line 56, in __init__\n",
      "    super().__init__(\n",
      "  File \"/mnt/nvme0n1p1/LLM_project2/.venv/lib/python3.10/site-packages/selenium/webdriver/remote/webdriver.py\", line 205, in __init__\n",
      "    self.start_session(capabilities)\n",
      "  File \"/mnt/nvme0n1p1/LLM_project2/.venv/lib/python3.10/site-packages/selenium/webdriver/remote/webdriver.py\", line 289, in start_session\n",
      "    response = self.execute(Command.NEW_SESSION, caps)[\"value\"]\n",
      "  File \"/mnt/nvme0n1p1/LLM_project2/.venv/lib/python3.10/site-packages/selenium/webdriver/remote/webdriver.py\", line 344, in execute\n",
      "    self.error_handler.check_response(response)\n",
      "  File \"/mnt/nvme0n1p1/LLM_project2/.venv/lib/python3.10/site-packages/selenium/webdriver/remote/errorhandler.py\", line 229, in check_response\n",
      "    raise exception_class(message, screen, stacktrace)\n",
      "selenium.common.exceptions.SessionNotCreatedException: Message: session not created: Chrome failed to start: exited normally.\n",
      "  (session not created: DevToolsActivePort file doesn't exist)\n",
      "  (The process started from chrome location /opt/google/chrome/chrome is no longer running, so ChromeDriver is assuming that Chrome has crashed.)\n",
      "Stacktrace:\n",
      "#0 0x563b68cb8fb3 <unknown>\n",
      "#1 0x563b6898c4a7 <unknown>\n",
      "#2 0x563b689bfc93 <unknown>\n",
      "#3 0x563b689bc10c <unknown>\n",
      "#4 0x563b689feac6 <unknown>\n",
      "#5 0x563b689f5713 <unknown>\n",
      "#6 0x563b689c818b <unknown>\n",
      "#7 0x563b689c8f7e <unknown>\n",
      "#8 0x563b68c7e8d8 <unknown>\n",
      "#9 0x563b68c82800 <unknown>\n",
      "#10 0x563b68c8ccfc <unknown>\n",
      "#11 0x563b68c83418 <unknown>\n",
      "#12 0x563b68c5042f <unknown>\n",
      "#13 0x563b68ca74e8 <unknown>\n",
      "#14 0x563b68ca76b4 <unknown>\n",
      "#15 0x563b68cb8143 <unknown>\n",
      "#16 0x7f35b4294ac3 <unknown>\n",
      "\n",
      "9 - setting result for 6503.T\n",
      "10/27/2023 09:58:35 - ERROR - concurrent.futures -   exception calling callback for <Future at 0x7f57447d00a0 state=finished raised SessionNotCreatedException>\n",
      "Traceback (most recent call last):\n",
      "  File \"/usr/lib/python3.10/concurrent/futures/_base.py\", line 342, in _invoke_callbacks\n",
      "    callback(self)\n",
      "  File \"/tmp/ipykernel_2387372/3985506734.py\", line 83, in <lambda>\n",
      "    future.add_done_callback(lambda f, t=ticker: get_result(t, f, i ))\n",
      "  File \"/tmp/ipykernel_2387372/3985506734.py\", line 74, in get_result\n",
      "    company_profiles[ticker] = future.result()\n",
      "  File \"/usr/lib/python3.10/concurrent/futures/_base.py\", line 451, in result\n",
      "    return self.__get_result()\n",
      "  File \"/usr/lib/python3.10/concurrent/futures/_base.py\", line 403, in __get_result\n",
      "    raise self._exception\n",
      "  File \"/usr/lib/python3.10/concurrent/futures/thread.py\", line 58, in run\n",
      "    result = self.fn(*self.args, **self.kwargs)\n",
      "  File \"/tmp/ipykernel_2387372/3985506734.py\", line 44, in get_yahoo_finance_description\n",
      "    driver = webdriver.Chrome(service=ChromeService(ChromeDriverManager().install()))\n",
      "  File \"/mnt/nvme0n1p1/LLM_project2/.venv/lib/python3.10/site-packages/selenium/webdriver/chrome/webdriver.py\", line 45, in __init__\n",
      "    super().__init__(\n",
      "  File \"/mnt/nvme0n1p1/LLM_project2/.venv/lib/python3.10/site-packages/selenium/webdriver/chromium/webdriver.py\", line 56, in __init__\n",
      "    super().__init__(\n",
      "  File \"/mnt/nvme0n1p1/LLM_project2/.venv/lib/python3.10/site-packages/selenium/webdriver/remote/webdriver.py\", line 205, in __init__\n",
      "    self.start_session(capabilities)\n",
      "  File \"/mnt/nvme0n1p1/LLM_project2/.venv/lib/python3.10/site-packages/selenium/webdriver/remote/webdriver.py\", line 289, in start_session\n",
      "    response = self.execute(Command.NEW_SESSION, caps)[\"value\"]\n",
      "  File \"/mnt/nvme0n1p1/LLM_project2/.venv/lib/python3.10/site-packages/selenium/webdriver/remote/webdriver.py\", line 344, in execute\n",
      "    self.error_handler.check_response(response)\n",
      "  File \"/mnt/nvme0n1p1/LLM_project2/.venv/lib/python3.10/site-packages/selenium/webdriver/remote/errorhandler.py\", line 229, in check_response\n",
      "    raise exception_class(message, screen, stacktrace)\n",
      "selenium.common.exceptions.SessionNotCreatedException: Message: session not created: Chrome failed to start: exited normally.\n",
      "  (session not created: DevToolsActivePort file doesn't exist)\n",
      "  (The process started from chrome location /opt/google/chrome/chrome is no longer running, so ChromeDriver is assuming that Chrome has crashed.)\n",
      "Stacktrace:\n",
      "#0 0x557c3f703fb3 <unknown>\n",
      "#1 0x557c3f3d74a7 <unknown>\n",
      "#2 0x557c3f40ac93 <unknown>\n",
      "#3 0x557c3f40710c <unknown>\n",
      "#4 0x557c3f449ac6 <unknown>\n",
      "#5 0x557c3f440713 <unknown>\n",
      "#6 0x557c3f41318b <unknown>\n",
      "#7 0x557c3f413f7e <unknown>\n",
      "#8 0x557c3f6c98d8 <unknown>\n",
      "#9 0x557c3f6cd800 <unknown>\n",
      "#10 0x557c3f6d7cfc <unknown>\n",
      "#11 0x557c3f6ce418 <unknown>\n",
      "#12 0x557c3f69b42f <unknown>\n",
      "#13 0x557c3f6f24e8 <unknown>\n",
      "#14 0x557c3f6f26b4 <unknown>\n",
      "#15 0x557c3f703143 <unknown>\n",
      "#16 0x7f2d12094ac3 <unknown>\n",
      "\n",
      "9 - setting result for NPI.TO\n",
      "10/27/2023 09:58:35 - ERROR - concurrent.futures -   exception calling callback for <Future at 0x7f57447d3ee0 state=finished raised SessionNotCreatedException>\n",
      "Traceback (most recent call last):\n",
      "  File \"/usr/lib/python3.10/concurrent/futures/_base.py\", line 342, in _invoke_callbacks\n",
      "    callback(self)\n",
      "  File \"/tmp/ipykernel_2387372/3985506734.py\", line 83, in <lambda>\n",
      "    future.add_done_callback(lambda f, t=ticker: get_result(t, f, i ))\n",
      "  File \"/tmp/ipykernel_2387372/3985506734.py\", line 74, in get_result\n",
      "    company_profiles[ticker] = future.result()\n",
      "  File \"/usr/lib/python3.10/concurrent/futures/_base.py\", line 451, in result\n",
      "    return self.__get_result()\n",
      "  File \"/usr/lib/python3.10/concurrent/futures/_base.py\", line 403, in __get_result\n",
      "    raise self._exception\n",
      "  File \"/usr/lib/python3.10/concurrent/futures/thread.py\", line 58, in run\n",
      "    result = self.fn(*self.args, **self.kwargs)\n",
      "  File \"/tmp/ipykernel_2387372/3985506734.py\", line 44, in get_yahoo_finance_description\n",
      "    driver = webdriver.Chrome(service=ChromeService(ChromeDriverManager().install()))\n",
      "  File \"/mnt/nvme0n1p1/LLM_project2/.venv/lib/python3.10/site-packages/selenium/webdriver/chrome/webdriver.py\", line 45, in __init__\n",
      "    super().__init__(\n",
      "  File \"/mnt/nvme0n1p1/LLM_project2/.venv/lib/python3.10/site-packages/selenium/webdriver/chromium/webdriver.py\", line 56, in __init__\n",
      "    super().__init__(\n",
      "  File \"/mnt/nvme0n1p1/LLM_project2/.venv/lib/python3.10/site-packages/selenium/webdriver/remote/webdriver.py\", line 205, in __init__\n",
      "    self.start_session(capabilities)\n",
      "  File \"/mnt/nvme0n1p1/LLM_project2/.venv/lib/python3.10/site-packages/selenium/webdriver/remote/webdriver.py\", line 289, in start_session\n",
      "    response = self.execute(Command.NEW_SESSION, caps)[\"value\"]\n",
      "  File \"/mnt/nvme0n1p1/LLM_project2/.venv/lib/python3.10/site-packages/selenium/webdriver/remote/webdriver.py\", line 344, in execute\n",
      "    self.error_handler.check_response(response)\n",
      "  File \"/mnt/nvme0n1p1/LLM_project2/.venv/lib/python3.10/site-packages/selenium/webdriver/remote/errorhandler.py\", line 229, in check_response\n",
      "    raise exception_class(message, screen, stacktrace)\n",
      "selenium.common.exceptions.SessionNotCreatedException: Message: session not created: Chrome failed to start: exited normally.\n",
      "  (session not created: DevToolsActivePort file doesn't exist)\n",
      "  (The process started from chrome location /opt/google/chrome/chrome is no longer running, so ChromeDriver is assuming that Chrome has crashed.)\n",
      "Stacktrace:\n",
      "#0 0x55b38f98ffb3 <unknown>\n",
      "#1 0x55b38f6634a7 <unknown>\n",
      "#2 0x55b38f696c93 <unknown>\n",
      "#3 0x55b38f69310c <unknown>\n",
      "#4 0x55b38f6d5ac6 <unknown>\n",
      "#5 0x55b38f6cc713 <unknown>\n",
      "#6 0x55b38f69f18b <unknown>\n",
      "#7 0x55b38f69ff7e <unknown>\n",
      "#8 0x55b38f9558d8 <unknown>\n",
      "#9 0x55b38f959800 <unknown>\n",
      "#10 0x55b38f963cfc <unknown>\n",
      "#11 0x55b38f95a418 <unknown>\n",
      "#12 0x55b38f92742f <unknown>\n",
      "#13 0x55b38f97e4e8 <unknown>\n",
      "#14 0x55b38f97e6b4 <unknown>\n",
      "#15 0x55b38f98f143 <unknown>\n",
      "#16 0x7fa5c9e94ac3 <unknown>\n",
      "\n",
      "9 - setting result for TATASTEEL.NS\n",
      "10/27/2023 09:58:35 - ERROR - concurrent.futures -   exception calling callback for <Future at 0x7f5704006890 state=finished raised SessionNotCreatedException>\n",
      "Traceback (most recent call last):\n",
      "  File \"/usr/lib/python3.10/concurrent/futures/_base.py\", line 342, in _invoke_callbacks\n",
      "    callback(self)\n",
      "  File \"/tmp/ipykernel_2387372/3985506734.py\", line 83, in <lambda>\n",
      "    future.add_done_callback(lambda f, t=ticker: get_result(t, f, i ))\n",
      "  File \"/tmp/ipykernel_2387372/3985506734.py\", line 74, in get_result\n",
      "    company_profiles[ticker] = future.result()\n",
      "  File \"/usr/lib/python3.10/concurrent/futures/_base.py\", line 451, in result\n",
      "    return self.__get_result()\n",
      "  File \"/usr/lib/python3.10/concurrent/futures/_base.py\", line 403, in __get_result\n",
      "    raise self._exception\n",
      "  File \"/usr/lib/python3.10/concurrent/futures/thread.py\", line 58, in run\n",
      "    result = self.fn(*self.args, **self.kwargs)\n",
      "  File \"/tmp/ipykernel_2387372/3985506734.py\", line 44, in get_yahoo_finance_description\n",
      "    driver = webdriver.Chrome(service=ChromeService(ChromeDriverManager().install()))\n",
      "  File \"/mnt/nvme0n1p1/LLM_project2/.venv/lib/python3.10/site-packages/selenium/webdriver/chrome/webdriver.py\", line 45, in __init__\n",
      "    super().__init__(\n",
      "  File \"/mnt/nvme0n1p1/LLM_project2/.venv/lib/python3.10/site-packages/selenium/webdriver/chromium/webdriver.py\", line 56, in __init__\n",
      "    super().__init__(\n",
      "  File \"/mnt/nvme0n1p1/LLM_project2/.venv/lib/python3.10/site-packages/selenium/webdriver/remote/webdriver.py\", line 205, in __init__\n",
      "    self.start_session(capabilities)\n",
      "  File \"/mnt/nvme0n1p1/LLM_project2/.venv/lib/python3.10/site-packages/selenium/webdriver/remote/webdriver.py\", line 289, in start_session\n",
      "    response = self.execute(Command.NEW_SESSION, caps)[\"value\"]\n",
      "  File \"/mnt/nvme0n1p1/LLM_project2/.venv/lib/python3.10/site-packages/selenium/webdriver/remote/webdriver.py\", line 344, in execute\n",
      "    self.error_handler.check_response(response)\n",
      "  File \"/mnt/nvme0n1p1/LLM_project2/.venv/lib/python3.10/site-packages/selenium/webdriver/remote/errorhandler.py\", line 229, in check_response\n",
      "    raise exception_class(message, screen, stacktrace)\n",
      "selenium.common.exceptions.SessionNotCreatedException: Message: session not created: Chrome failed to start: exited normally.\n",
      "  (session not created: DevToolsActivePort file doesn't exist)\n",
      "  (The process started from chrome location /opt/google/chrome/chrome is no longer running, so ChromeDriver is assuming that Chrome has crashed.)\n",
      "Stacktrace:\n",
      "#0 0x55aa2537cfb3 <unknown>\n",
      "#1 0x55aa250504a7 <unknown>\n",
      "#2 0x55aa25083c93 <unknown>\n",
      "#3 0x55aa2508010c <unknown>\n",
      "#4 0x55aa250c2ac6 <unknown>\n",
      "#5 0x55aa250b9713 <unknown>\n",
      "#6 0x55aa2508c18b <unknown>\n",
      "#7 0x55aa2508cf7e <unknown>\n",
      "#8 0x55aa253428d8 <unknown>\n",
      "#9 0x55aa25346800 <unknown>\n",
      "#10 0x55aa25350cfc <unknown>\n",
      "#11 0x55aa25347418 <unknown>\n",
      "#12 0x55aa2531442f <unknown>\n",
      "#13 0x55aa2536b4e8 <unknown>\n",
      "#14 0x55aa2536b6b4 <unknown>\n",
      "#15 0x55aa2537c143 <unknown>\n",
      "#16 0x7fc692a94ac3 <unknown>\n",
      "\n",
      "9 - setting result for CDXC\n",
      "10/27/2023 09:58:35 - ERROR - concurrent.futures -   exception calling callback for <Future at 0x7f57447d0100 state=finished raised SessionNotCreatedException>\n",
      "Traceback (most recent call last):\n",
      "  File \"/usr/lib/python3.10/concurrent/futures/_base.py\", line 342, in _invoke_callbacks\n",
      "    callback(self)\n",
      "  File \"/tmp/ipykernel_2387372/3985506734.py\", line 83, in <lambda>\n",
      "    future.add_done_callback(lambda f, t=ticker: get_result(t, f, i ))\n",
      "  File \"/tmp/ipykernel_2387372/3985506734.py\", line 74, in get_result\n",
      "    company_profiles[ticker] = future.result()\n",
      "  File \"/usr/lib/python3.10/concurrent/futures/_base.py\", line 451, in result\n",
      "    return self.__get_result()\n",
      "  File \"/usr/lib/python3.10/concurrent/futures/_base.py\", line 403, in __get_result\n",
      "    raise self._exception\n",
      "  File \"/usr/lib/python3.10/concurrent/futures/thread.py\", line 58, in run\n",
      "    result = self.fn(*self.args, **self.kwargs)\n",
      "  File \"/tmp/ipykernel_2387372/3985506734.py\", line 44, in get_yahoo_finance_description\n",
      "    driver = webdriver.Chrome(service=ChromeService(ChromeDriverManager().install()))\n",
      "  File \"/mnt/nvme0n1p1/LLM_project2/.venv/lib/python3.10/site-packages/selenium/webdriver/chrome/webdriver.py\", line 45, in __init__\n",
      "    super().__init__(\n",
      "  File \"/mnt/nvme0n1p1/LLM_project2/.venv/lib/python3.10/site-packages/selenium/webdriver/chromium/webdriver.py\", line 56, in __init__\n",
      "    super().__init__(\n",
      "  File \"/mnt/nvme0n1p1/LLM_project2/.venv/lib/python3.10/site-packages/selenium/webdriver/remote/webdriver.py\", line 205, in __init__\n",
      "    self.start_session(capabilities)\n",
      "  File \"/mnt/nvme0n1p1/LLM_project2/.venv/lib/python3.10/site-packages/selenium/webdriver/remote/webdriver.py\", line 289, in start_session\n",
      "    response = self.execute(Command.NEW_SESSION, caps)[\"value\"]\n",
      "  File \"/mnt/nvme0n1p1/LLM_project2/.venv/lib/python3.10/site-packages/selenium/webdriver/remote/webdriver.py\", line 344, in execute\n",
      "    self.error_handler.check_response(response)\n",
      "  File \"/mnt/nvme0n1p1/LLM_project2/.venv/lib/python3.10/site-packages/selenium/webdriver/remote/errorhandler.py\", line 229, in check_response\n",
      "    raise exception_class(message, screen, stacktrace)\n",
      "selenium.common.exceptions.SessionNotCreatedException: Message: session not created: Chrome failed to start: exited normally.\n",
      "  (session not created: DevToolsActivePort file doesn't exist)\n",
      "  (The process started from chrome location /opt/google/chrome/chrome is no longer running, so ChromeDriver is assuming that Chrome has crashed.)\n",
      "Stacktrace:\n",
      "#0 0x55fcda74cfb3 <unknown>\n",
      "#1 0x55fcda4204a7 <unknown>\n",
      "#2 0x55fcda453c93 <unknown>\n",
      "#3 0x55fcda45010c <unknown>\n",
      "#4 0x55fcda492ac6 <unknown>\n",
      "#5 0x55fcda489713 <unknown>\n",
      "#6 0x55fcda45c18b <unknown>\n",
      "#7 0x55fcda45cf7e <unknown>\n",
      "#8 0x55fcda7128d8 <unknown>\n",
      "#9 0x55fcda716800 <unknown>\n",
      "#10 0x55fcda720cfc <unknown>\n",
      "#11 0x55fcda717418 <unknown>\n",
      "#12 0x55fcda6e442f <unknown>\n",
      "#13 0x55fcda73b4e8 <unknown>\n",
      "#14 0x55fcda73b6b4 <unknown>\n",
      "#15 0x55fcda74c143 <unknown>\n",
      "#16 0x7ff1c1694ac3 <unknown>\n",
      "\n",
      "9 - setting result for AKRBP.OL\n",
      "10/27/2023 09:58:35 - ERROR - concurrent.futures -   exception calling callback for <Future at 0x7f57447d2cb0 state=finished raised SessionNotCreatedException>\n",
      "Traceback (most recent call last):\n",
      "  File \"/usr/lib/python3.10/concurrent/futures/_base.py\", line 342, in _invoke_callbacks\n",
      "    callback(self)\n",
      "  File \"/tmp/ipykernel_2387372/3985506734.py\", line 83, in <lambda>\n",
      "    future.add_done_callback(lambda f, t=ticker: get_result(t, f, i ))\n",
      "  File \"/tmp/ipykernel_2387372/3985506734.py\", line 74, in get_result\n",
      "    company_profiles[ticker] = future.result()\n",
      "  File \"/usr/lib/python3.10/concurrent/futures/_base.py\", line 451, in result\n",
      "    return self.__get_result()\n",
      "  File \"/usr/lib/python3.10/concurrent/futures/_base.py\", line 403, in __get_result\n",
      "    raise self._exception\n",
      "  File \"/usr/lib/python3.10/concurrent/futures/thread.py\", line 58, in run\n",
      "    result = self.fn(*self.args, **self.kwargs)\n",
      "  File \"/tmp/ipykernel_2387372/3985506734.py\", line 44, in get_yahoo_finance_description\n",
      "    driver = webdriver.Chrome(service=ChromeService(ChromeDriverManager().install()))\n",
      "  File \"/mnt/nvme0n1p1/LLM_project2/.venv/lib/python3.10/site-packages/selenium/webdriver/chrome/webdriver.py\", line 45, in __init__\n",
      "    super().__init__(\n",
      "  File \"/mnt/nvme0n1p1/LLM_project2/.venv/lib/python3.10/site-packages/selenium/webdriver/chromium/webdriver.py\", line 56, in __init__\n",
      "    super().__init__(\n",
      "  File \"/mnt/nvme0n1p1/LLM_project2/.venv/lib/python3.10/site-packages/selenium/webdriver/remote/webdriver.py\", line 205, in __init__\n",
      "    self.start_session(capabilities)\n",
      "  File \"/mnt/nvme0n1p1/LLM_project2/.venv/lib/python3.10/site-packages/selenium/webdriver/remote/webdriver.py\", line 289, in start_session\n",
      "    response = self.execute(Command.NEW_SESSION, caps)[\"value\"]\n",
      "  File \"/mnt/nvme0n1p1/LLM_project2/.venv/lib/python3.10/site-packages/selenium/webdriver/remote/webdriver.py\", line 344, in execute\n",
      "    self.error_handler.check_response(response)\n",
      "  File \"/mnt/nvme0n1p1/LLM_project2/.venv/lib/python3.10/site-packages/selenium/webdriver/remote/errorhandler.py\", line 229, in check_response\n",
      "    raise exception_class(message, screen, stacktrace)\n",
      "selenium.common.exceptions.SessionNotCreatedException: Message: session not created: Chrome failed to start: exited normally.\n",
      "  (session not created: DevToolsActivePort file doesn't exist)\n",
      "  (The process started from chrome location /opt/google/chrome/chrome is no longer running, so ChromeDriver is assuming that Chrome has crashed.)\n",
      "Stacktrace:\n",
      "#0 0x55d8c74e9fb3 <unknown>\n",
      "#1 0x55d8c71bd4a7 <unknown>\n",
      "#2 0x55d8c71f0c93 <unknown>\n",
      "#3 0x55d8c71ed10c <unknown>\n",
      "#4 0x55d8c722fac6 <unknown>\n",
      "#5 0x55d8c7226713 <unknown>\n",
      "#6 0x55d8c71f918b <unknown>\n",
      "#7 0x55d8c71f9f7e <unknown>\n",
      "#8 0x55d8c74af8d8 <unknown>\n",
      "#9 0x55d8c74b3800 <unknown>\n",
      "#10 0x55d8c74bdcfc <unknown>\n",
      "#11 0x55d8c74b4418 <unknown>\n",
      "#12 0x55d8c748142f <unknown>\n",
      "#13 0x55d8c74d84e8 <unknown>\n",
      "#14 0x55d8c74d86b4 <unknown>\n",
      "#15 0x55d8c74e9143 <unknown>\n",
      "#16 0x7f59d2694ac3 <unknown>\n",
      "\n",
      "9 - setting result for ANGO\n",
      "10/27/2023 09:58:35 - ERROR - concurrent.futures -   exception calling callback for <Future at 0x7f5704005150 state=finished raised SessionNotCreatedException>\n",
      "Traceback (most recent call last):\n",
      "  File \"/usr/lib/python3.10/concurrent/futures/_base.py\", line 342, in _invoke_callbacks\n",
      "    callback(self)\n",
      "  File \"/tmp/ipykernel_2387372/3985506734.py\", line 83, in <lambda>\n",
      "    future.add_done_callback(lambda f, t=ticker: get_result(t, f, i ))\n",
      "  File \"/tmp/ipykernel_2387372/3985506734.py\", line 74, in get_result\n",
      "    company_profiles[ticker] = future.result()\n",
      "  File \"/usr/lib/python3.10/concurrent/futures/_base.py\", line 451, in result\n",
      "    return self.__get_result()\n",
      "  File \"/usr/lib/python3.10/concurrent/futures/_base.py\", line 403, in __get_result\n",
      "    raise self._exception\n",
      "  File \"/usr/lib/python3.10/concurrent/futures/thread.py\", line 58, in run\n",
      "    result = self.fn(*self.args, **self.kwargs)\n",
      "  File \"/tmp/ipykernel_2387372/3985506734.py\", line 44, in get_yahoo_finance_description\n",
      "    driver = webdriver.Chrome(service=ChromeService(ChromeDriverManager().install()))\n",
      "  File \"/mnt/nvme0n1p1/LLM_project2/.venv/lib/python3.10/site-packages/selenium/webdriver/chrome/webdriver.py\", line 45, in __init__\n",
      "    super().__init__(\n",
      "  File \"/mnt/nvme0n1p1/LLM_project2/.venv/lib/python3.10/site-packages/selenium/webdriver/chromium/webdriver.py\", line 56, in __init__\n",
      "    super().__init__(\n",
      "  File \"/mnt/nvme0n1p1/LLM_project2/.venv/lib/python3.10/site-packages/selenium/webdriver/remote/webdriver.py\", line 205, in __init__\n",
      "    self.start_session(capabilities)\n",
      "  File \"/mnt/nvme0n1p1/LLM_project2/.venv/lib/python3.10/site-packages/selenium/webdriver/remote/webdriver.py\", line 289, in start_session\n",
      "    response = self.execute(Command.NEW_SESSION, caps)[\"value\"]\n",
      "  File \"/mnt/nvme0n1p1/LLM_project2/.venv/lib/python3.10/site-packages/selenium/webdriver/remote/webdriver.py\", line 344, in execute\n",
      "    self.error_handler.check_response(response)\n",
      "  File \"/mnt/nvme0n1p1/LLM_project2/.venv/lib/python3.10/site-packages/selenium/webdriver/remote/errorhandler.py\", line 229, in check_response\n",
      "    raise exception_class(message, screen, stacktrace)\n",
      "selenium.common.exceptions.SessionNotCreatedException: Message: session not created: Chrome failed to start: exited normally.\n",
      "  (session not created: DevToolsActivePort file doesn't exist)\n",
      "  (The process started from chrome location /opt/google/chrome/chrome is no longer running, so ChromeDriver is assuming that Chrome has crashed.)\n",
      "Stacktrace:\n",
      "#0 0x55dd544defb3 <unknown>\n",
      "#1 0x55dd541b24a7 <unknown>\n",
      "#2 0x55dd541e5c93 <unknown>\n",
      "#3 0x55dd541e210c <unknown>\n",
      "#4 0x55dd54224ac6 <unknown>\n",
      "#5 0x55dd5421b713 <unknown>\n",
      "#6 0x55dd541ee18b <unknown>\n",
      "#7 0x55dd541eef7e <unknown>\n",
      "#8 0x55dd544a48d8 <unknown>\n",
      "#9 0x55dd544a8800 <unknown>\n",
      "#10 0x55dd544b2cfc <unknown>\n",
      "#11 0x55dd544a9418 <unknown>\n",
      "#12 0x55dd5447642f <unknown>\n",
      "#13 0x55dd544cd4e8 <unknown>\n",
      "#14 0x55dd544cd6b4 <unknown>\n",
      "#15 0x55dd544de143 <unknown>\n",
      "#16 0x7f822e294ac3 <unknown>\n",
      "\n",
      "9 - setting result for OSTK\n",
      "10/27/2023 09:58:35 - ERROR - concurrent.futures -   exception calling callback for <Future at 0x7f57447d0f70 state=finished raised SessionNotCreatedException>\n",
      "Traceback (most recent call last):\n",
      "  File \"/usr/lib/python3.10/concurrent/futures/_base.py\", line 342, in _invoke_callbacks\n",
      "    callback(self)\n",
      "  File \"/tmp/ipykernel_2387372/3985506734.py\", line 83, in <lambda>\n",
      "    future.add_done_callback(lambda f, t=ticker: get_result(t, f, i ))\n",
      "  File \"/tmp/ipykernel_2387372/3985506734.py\", line 74, in get_result\n",
      "    company_profiles[ticker] = future.result()\n",
      "  File \"/usr/lib/python3.10/concurrent/futures/_base.py\", line 451, in result\n",
      "    return self.__get_result()\n",
      "  File \"/usr/lib/python3.10/concurrent/futures/_base.py\", line 403, in __get_result\n",
      "    raise self._exception\n",
      "  File \"/usr/lib/python3.10/concurrent/futures/thread.py\", line 58, in run\n",
      "    result = self.fn(*self.args, **self.kwargs)\n",
      "  File \"/tmp/ipykernel_2387372/3985506734.py\", line 44, in get_yahoo_finance_description\n",
      "    driver = webdriver.Chrome(service=ChromeService(ChromeDriverManager().install()))\n",
      "  File \"/mnt/nvme0n1p1/LLM_project2/.venv/lib/python3.10/site-packages/selenium/webdriver/chrome/webdriver.py\", line 45, in __init__\n",
      "    super().__init__(\n",
      "  File \"/mnt/nvme0n1p1/LLM_project2/.venv/lib/python3.10/site-packages/selenium/webdriver/chromium/webdriver.py\", line 56, in __init__\n",
      "    super().__init__(\n",
      "  File \"/mnt/nvme0n1p1/LLM_project2/.venv/lib/python3.10/site-packages/selenium/webdriver/remote/webdriver.py\", line 205, in __init__\n",
      "    self.start_session(capabilities)\n",
      "  File \"/mnt/nvme0n1p1/LLM_project2/.venv/lib/python3.10/site-packages/selenium/webdriver/remote/webdriver.py\", line 289, in start_session\n",
      "    response = self.execute(Command.NEW_SESSION, caps)[\"value\"]\n",
      "  File \"/mnt/nvme0n1p1/LLM_project2/.venv/lib/python3.10/site-packages/selenium/webdriver/remote/webdriver.py\", line 344, in execute\n",
      "    self.error_handler.check_response(response)\n",
      "  File \"/mnt/nvme0n1p1/LLM_project2/.venv/lib/python3.10/site-packages/selenium/webdriver/remote/errorhandler.py\", line 229, in check_response\n",
      "    raise exception_class(message, screen, stacktrace)\n",
      "selenium.common.exceptions.SessionNotCreatedException: Message: session not created: Chrome failed to start: exited normally.\n",
      "  (session not created: DevToolsActivePort file doesn't exist)\n",
      "  (The process started from chrome location /opt/google/chrome/chrome is no longer running, so ChromeDriver is assuming that Chrome has crashed.)\n",
      "Stacktrace:\n",
      "#0 0x5574f1b24fb3 <unknown>\n",
      "#1 0x5574f17f84a7 <unknown>\n",
      "#2 0x5574f182bc93 <unknown>\n",
      "#3 0x5574f182810c <unknown>\n",
      "#4 0x5574f186aac6 <unknown>\n",
      "#5 0x5574f1861713 <unknown>\n",
      "#6 0x5574f183418b <unknown>\n",
      "#7 0x5574f1834f7e <unknown>\n",
      "#8 0x5574f1aea8d8 <unknown>\n",
      "#9 0x5574f1aee800 <unknown>\n",
      "#10 0x5574f1af8cfc <unknown>\n",
      "#11 0x5574f1aef418 <unknown>\n",
      "#12 0x5574f1abc42f <unknown>\n",
      "#13 0x5574f1b134e8 <unknown>\n",
      "#14 0x5574f1b136b4 <unknown>\n",
      "#15 0x5574f1b24143 <unknown>\n",
      "#16 0x7fe3bf894ac3 <unknown>\n",
      "\n"
     ]
    }
   ],
   "source": [
    "# %%writefile data_v5_yahoo_company_profile.py\n",
    "# get the company profile name for every company ticker, using Selenium\n",
    "from json import dump\n",
    "from bs4 import BeautifulSoup\n",
    "import requests\n",
    "import re\n",
    "import os\n",
    "import pandas as pd\n",
    "import numpy as np\n",
    "from pathlib import Path\n",
    "from itertools import chain, islice\n",
    "ROOT_DIR = next(filter(lambda s: \"LLM\" in s.name,chain(Path().absolute().parents,[Path(os.getcwd())])), None)\n",
    "print(f\"ROOT_DIR {ROOT_DIR}\")\n",
    "import configparser\n",
    "import matplotlib.pyplot as plt\n",
    "config = configparser.ConfigParser()\n",
    "config.read(ROOT_DIR/'config.ini')\n",
    "DATA_FOLDER = Path(config.get(\"paths\",\"path_data\"))\n",
    "print(f\"DATA_FOLDER {DATA_FOLDER}\")\n",
    "assert os.path.isdir(DATA_FOLDER)\n",
    "assert os.path.isdir(ROOT_DIR)\n",
    "import sys \n",
    "sys.path.append(str(ROOT_DIR))\n",
    "print(f\"added {ROOT_DIR} to sys path\")\n",
    "from pathlib import Path\n",
    "from tqdm import tqdm\n",
    "from collections import Counter\n",
    "from utils.io_utils import write_headlines_to_file\n",
    "from concurrent.futures import ThreadPoolExecutor\n",
    "from selenium import webdriver\n",
    "from selenium.webdriver.chrome.service import Service as ChromeService\n",
    "from webdriver_manager.chrome import ChromeDriverManager\n",
    "from selenium.webdriver.common.by import By\n",
    "from selenium.webdriver.support.ui import WebDriverWait\n",
    "from selenium.webdriver.support import expected_conditions as EC\n",
    "import sys\n",
    "import concurrent\n",
    "\n",
    "def get_yahoo_finance_description(ticker_symbol):\n",
    "    # Build the URL of the target page\n",
    "    url = f'https://finance.yahoo.com/quote/{ticker_symbol}/profile'\n",
    "    \n",
    "    # Initialize a web driver instance to control a Chrome window\n",
    "    driver = webdriver.Chrome(service=ChromeService(ChromeDriverManager().install()))\n",
    "    \n",
    "    # Set up the window size of the controlled browser\n",
    "    driver.set_window_size(1920, 1080)\n",
    "    \n",
    "    # Visit the target page\n",
    "    driver.get(url)\n",
    "    \n",
    "    try:\n",
    "        # Wait until the description element is located and loaded\n",
    "        # Use an XPath selector to target the description paragraph\n",
    "        element = WebDriverWait(driver, 10).until(\n",
    "            EC.presence_of_element_located((By.XPATH, \"//p[contains(@class, 'Mt(15px)')]\"))\n",
    "        )\n",
    "        description = element.text\n",
    "    except Exception as e:\n",
    "        description = f\"Description not found due to error: {e}\"\n",
    "    # Close the browser and free up the resources\n",
    "    driver.quit()\n",
    "    \n",
    "    return description\n",
    "\n",
    "if __name__ == \"__main__\":\n",
    "\n",
    "    dfnews = pd.read_parquet(ROOT_DIR / \"temp/data_v5_ticker_done.parquet\")\n",
    "    company_profiles = {ticker: None for ticker in dfnews[\"ticker\"].unique()}\n",
    "\n",
    "    def get_result(ticker, future,i :int ):\n",
    "        \"\"\"Helper function to process results.\"\"\"\n",
    "        print(f\"{i} - setting result for {ticker}\")\n",
    "        company_profiles[ticker] = future.result()\n",
    "\n",
    "    # List to keep track of futures\n",
    "    futures = []\n",
    "\n",
    "    with concurrent.futures.ThreadPoolExecutor(max_workers=10) as executor:\n",
    "        for i, ticker in islice(enumerate(tqdm(dfnews[\"ticker\"].unique())),10):\n",
    "            future = executor.submit(get_yahoo_finance_description, ticker)\n",
    "            # Add callback to process result when it's ready\n",
    "            future.add_done_callback(lambda f, t=ticker: get_result(t, f, i ))\n",
    "            futures.append(future)\n",
    "\n",
    "            # if i % 10 == 0:\n",
    "            #     # Waiting for all futures up to this point to finish\n",
    "            #     concurrent.futures.wait(futures)\n",
    "            #     with open(ROOT_DIR / f\"temp/company_profiles_yahoo_ckpt{i}.txt\", \"w\") as f:\n",
    "            #         dump(company_profiles, f)\n",
    "            #     # Resetting the futures list\n",
    "            #     futures = []\n",
    "\n",
    "    # Add the company profiles to the dataframe\n",
    "    dfnews[\"company_profile\"] = dfnews[\"ticker\"].apply(lambda x: company_profiles[x])\n",
    "\n",
    "  \n"
   ]
  },
  {
   "cell_type": "code",
   "execution_count": 14,
   "metadata": {},
   "outputs": [
    {
     "data": {
      "text/plain": [
       "{None: None,\n",
       " '3EAG.BE': None,\n",
       " 'OSTK': None,\n",
       " 'CDXC': None,\n",
       " 'NPI.TO': None,\n",
       " 'FORT.L': None,\n",
       " 'AKRBP.OL': None,\n",
       " '6503.T': None,\n",
       " 'ANGO': None,\n",
       " 'TATASTEEL.NS': None,\n",
       " 'NMR': None,\n",
       " 'VAC': None,\n",
       " 'SMPL': None,\n",
       " 'RGR': None,\n",
       " '0992.HK': None,\n",
       " 'AMEH': None,\n",
       " 'ACB': None,\n",
       " 'ARL.JO': None,\n",
       " '0HQ1.L': None,\n",
       " 'AP': None,\n",
       " 'LLY': None,\n",
       " 'AGFB.BR': None,\n",
       " 'NEU': None,\n",
       " 'SRS.MI': None}"
      ]
     },
     "execution_count": 14,
     "metadata": {},
     "output_type": "execute_result"
    }
   ],
   "source": [
    "company_profiles"
   ]
  },
  {
   "cell_type": "code",
   "execution_count": null,
   "metadata": {},
   "outputs": [],
   "source": []
  }
 ],
 "metadata": {
  "kernelspec": {
   "display_name": ".venv",
   "language": "python",
   "name": "python3"
  },
  "language_info": {
   "codemirror_mode": {
    "name": "ipython",
    "version": 3
   },
   "file_extension": ".py",
   "mimetype": "text/x-python",
   "name": "python",
   "nbconvert_exporter": "python",
   "pygments_lexer": "ipython3",
   "version": "3.10.12"
  }
 },
 "nbformat": 4,
 "nbformat_minor": 2
}
